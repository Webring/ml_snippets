{
 "cells": [
  {
   "cell_type": "markdown",
   "source": [
    "## snippet collection for basic ml learning"
   ],
   "metadata": {
    "collapsed": false
   }
  },
  {
   "cell_type": "code",
   "execution_count": 1,
   "outputs": [],
   "source": [
    "# !GIT_SSL_NO_VERIFY=true git clone https://github.com/shenweichen/DeepMatch\n",
    "# !pip install --trusted-host=pypi.org --trusted-host=files.pythonhosted.org --user implicit\n",
    "# !pip install --trusted-host=pypi.org --trusted-host=files.pythonhosted.org --user lightfm"
   ],
   "metadata": {
    "collapsed": false,
    "pycharm": {
     "name": "#%%\n"
    }
   }
  },
  {
   "cell_type": "code",
   "execution_count": null,
   "outputs": [],
   "source": [],
   "metadata": {
    "collapsed": false,
    "pycharm": {
     "name": "#%%\n"
    }
   }
  },
  {
   "cell_type": "markdown",
   "source": [
    "https://github.com/a-milenkin/Competitive_Data_Science - много шаблонов по соревновательному ds\n",
    "https://pytorch.org/blog/introducing-torchmultimodal/ - torch multimodal\n",
    "https://drive.google.com/file/d/1zlAbolrErs992uo9NI2CTi-C8r90ZSWh/view - презентация с вебинара подготовки"
   ],
   "metadata": {
    "collapsed": false,
    "pycharm": {
     "name": "#%% md\n"
    }
   }
  },
  {
   "cell_type": "code",
   "execution_count": null,
   "outputs": [],
   "source": [],
   "metadata": {
    "collapsed": false,
    "pycharm": {
     "name": "#%%\n"
    }
   }
  },
  {
   "cell_type": "code",
   "execution_count": 7,
   "metadata": {
    "collapsed": true
   },
   "outputs": [],
   "source": [
    "import  os\n",
    "from tqdm.notebook import tqdm\n",
    "import matplotlib.pyplot as plt\n",
    "import seaborn as sns\n",
    "import numpy as np\n",
    "import pandas as pd\n",
    "import json\n",
    "import re\n",
    "import pickle\n",
    "from copy import copy, deepcopy\n",
    "from tqdm import tqdm\n",
    "tqdm.pandas()"
   ]
  },
  {
   "cell_type": "code",
   "execution_count": 133,
   "outputs": [],
   "source": [
    "df = pd.DataFrame(json.load(open(\"test_dataset.json\", encoding=\"utf-8\")))"
   ],
   "metadata": {
    "collapsed": false,
    "pycharm": {
     "name": "#%%\n"
    }
   }
  },
  {
   "cell_type": "code",
   "execution_count": null,
   "outputs": [],
   "source": [],
   "metadata": {
    "collapsed": false,
    "pycharm": {
     "name": "#%%\n"
    }
   }
  },
  {
   "cell_type": "markdown",
   "source": [
    "## auto fill all nan"
   ],
   "metadata": {
    "collapsed": false,
    "pycharm": {
     "name": "#%% md\n"
    }
   }
  },
  {
   "cell_type": "code",
   "execution_count": 134,
   "outputs": [],
   "source": [
    "def fill_nan_in_df(df, func_int_agregation, cat_value=\"\"):\n",
    "    df = df.copy()\n",
    "\n",
    "    for column, dtype in zip(df.columns, df.dtypes):\n",
    "        if dtype == object:\n",
    "            new_column = df[column].fillna(cat_value)\n",
    "        else:\n",
    "            new_column = df[column].fillna(func_int_agregation(df[column]))\n",
    "\n",
    "        df[column] = new_column\n",
    "    return df"
   ],
   "metadata": {
    "collapsed": false,
    "pycharm": {
     "name": "#%%\n"
    }
   }
  },
  {
   "cell_type": "code",
   "execution_count": 135,
   "outputs": [],
   "source": [
    "df = fill_nan_in_df(df, func_int_agregation=lambda x: x.median(), cat_value=\"\")"
   ],
   "metadata": {
    "collapsed": false,
    "pycharm": {
     "name": "#%%\n"
    }
   }
  },
  {
   "cell_type": "code",
   "execution_count": null,
   "outputs": [],
   "source": [
    "df.drop(\"text_params\", axis=1, inplace=True)"
   ],
   "metadata": {
    "collapsed": false,
    "pycharm": {
     "name": "#%%\n"
    }
   }
  },
  {
   "cell_type": "code",
   "execution_count": 136,
   "outputs": [
    {
     "name": "stdout",
     "output_type": "stream",
     "text": [
      "<class 'pandas.core.frame.DataFrame'>\n",
      "RangeIndex: 1480 entries, 0 to 1479\n",
      "Data columns (total 16 columns):\n",
      " #   Column                       Non-Null Count  Dtype  \n",
      "---  ------                       --------------  -----  \n",
      " 0   url                          1480 non-null   object \n",
      " 1   price                        1480 non-null   object \n",
      " 2   old_price                    1480 non-null   object \n",
      " 3   order_count                  1480 non-null   float64\n",
      " 4   celler_sold                  1480 non-null   object \n",
      " 5   celler_rating                1480 non-null   float64\n",
      " 6   name_comp                    1480 non-null   object \n",
      " 7   celler_mean_delivery_time    1480 non-null   object \n",
      " 8   celler_percent_bad_products  1480 non-null   object \n",
      " 9   celler_working_time          1480 non-null   object \n",
      " 10  celler_link                  1480 non-null   object \n",
      " 11  img_link                     1480 non-null   object \n",
      " 12  description                  1480 non-null   object \n",
      " 13  text_params                  1480 non-null   object \n",
      " 14  comments_link                1480 non-null   object \n",
      " 15  search_category              1480 non-null   object \n",
      "dtypes: float64(2), object(14)\n",
      "memory usage: 185.1+ KB\n"
     ]
    }
   ],
   "source": [
    "df.info()"
   ],
   "metadata": {
    "collapsed": false,
    "pycharm": {
     "name": "#%%\n"
    }
   }
  },
  {
   "cell_type": "code",
   "execution_count": null,
   "outputs": [],
   "source": [],
   "metadata": {
    "collapsed": false,
    "pycharm": {
     "name": "#%%\n"
    }
   }
  },
  {
   "cell_type": "markdown",
   "source": [
    "## пропроцессинг текста"
   ],
   "metadata": {
    "collapsed": false,
    "pycharm": {
     "name": "#%% md\n"
    }
   }
  },
  {
   "cell_type": "code",
   "execution_count": 139,
   "outputs": [
    {
     "name": "stdout",
     "output_type": "stream",
     "text": [
      "привет тест проепроцесснинг текст\n"
     ]
    }
   ],
   "source": [
    "import pymorphy2\n",
    "from nltk.corpus import stopwords\n",
    "\n",
    "morph = pymorphy2.MorphAnalyzer(lang='ru')\n",
    "russian_stopwords = stopwords.words(\"russian\")\n",
    "\n",
    "# TODO добавить команды для установки языковых пакетов\n",
    "# TODO попробовать пакеты для английского\n",
    "# TODO подумать над упаковкой в pypi либу\n",
    "# morph = pymorphy2.MorphAnalyzer(lang='en')\n",
    "# russian_stopwords = stopwords.words(\"english\")\n",
    "\n",
    "MAX_WORDS_COUNT = 10000\n",
    "\n",
    "def preprocessing_text(text, use_stopwords=True):\n",
    "    stopwords = copy(russian_stopwords) if use_stopwords else []\n",
    "\n",
    "    if text is None:\n",
    "        return \" \"\n",
    "    text = str(text)\n",
    "\n",
    "    if text is None: return None\n",
    "    text = text.replace(\"\\n\", \" \")\n",
    "    text = re.sub('[0-9:,\\.!?()-/+*;•$&%]', '', text.lower())\n",
    "    text = \" \".join([morph.parse(word)[0].normal_form for word in text.split()[:MAX_WORDS_COUNT]\n",
    "                     if word not in stopwords])\n",
    "    return text\n",
    "\n",
    "print(preprocessing_text(\"Привет тест проепроцесснинга текста раз два три\"))\n",
    "#print(preprocessing_text(\"hello I'am go to Novosibirsk! Good luck!\"))"
   ],
   "metadata": {
    "collapsed": false,
    "pycharm": {
     "name": "#%%\n"
    }
   }
  },
  {
   "cell_type": "code",
   "execution_count": 140,
   "outputs": [
    {
     "name": "stderr",
     "output_type": "stream",
     "text": [
      "100%|██████████| 1480/1480 [00:47<00:00, 31.22it/s]\n"
     ]
    }
   ],
   "source": [
    "df[\"description_clear\"] = [preprocessing_text(i) for i in tqdm(df.description)]"
   ],
   "metadata": {
    "collapsed": false,
    "pycharm": {
     "name": "#%%\n"
    }
   }
  },
  {
   "cell_type": "code",
   "execution_count": null,
   "outputs": [],
   "source": [],
   "metadata": {
    "collapsed": false,
    "pycharm": {
     "name": "#%%\n"
    }
   }
  },
  {
   "cell_type": "markdown",
   "source": [
    "## BERT embeddings"
   ],
   "metadata": {
    "collapsed": false,
    "pycharm": {
     "name": "#%% md\n"
    }
   }
  },
  {
   "cell_type": "code",
   "execution_count": 17,
   "outputs": [],
   "source": [
    "import torch\n",
    "from transformers import AutoTokenizer, AutoModel\n",
    "tokenizer = AutoTokenizer.from_pretrained(\"cointegrated/rubert-tiny\")\n",
    "model = AutoModel.from_pretrained(\"cointegrated/rubert-tiny\")\n",
    "# model.cuda()  # uncomment it if you have a GPU\n",
    "\n",
    "def embed_bert_cls(text, model, tokenizer):\n",
    "    t = tokenizer(text, padding=True, truncation=True, return_tensors='pt')\n",
    "    with torch.no_grad():\n",
    "        model_output = model(**{k: v.to(model.device) for k, v in t.items()})\n",
    "    embeddings = model_output.last_hidden_state[:, 0, :]\n",
    "    embeddings = torch.nn.functional.normalize(embeddings)\n",
    "    return embeddings[0].cpu().numpy()"
   ],
   "metadata": {
    "collapsed": false,
    "pycharm": {
     "name": "#%%\n"
    }
   }
  },
  {
   "cell_type": "code",
   "execution_count": null,
   "outputs": [],
   "source": [],
   "metadata": {
    "collapsed": false,
    "pycharm": {
     "name": "#%%\n"
    }
   }
  },
  {
   "cell_type": "markdown",
   "source": [
    "## CLIP embeddings"
   ],
   "metadata": {
    "collapsed": false,
    "pycharm": {
     "name": "#%% md\n"
    }
   }
  },
  {
   "cell_type": "code",
   "execution_count": null,
   "outputs": [],
   "source": [
    "from PIL import Image\n",
    "import requests\n",
    "\n",
    "from transformers import CLIPProcessor, CLIPModel\n",
    "\n",
    "model = CLIPModel.from_pretrained(\"openai/clip-vit-base-patch32\")\n",
    "processor = CLIPProcessor.from_pretrained(\"openai/clip-vit-base-patch32\")\n",
    "\n",
    "url = \"http://images.cocodataset.org/val2017/000000039769.jpg\"\n",
    "image = Image.open(requests.get(url, stream=True).raw)"
   ],
   "metadata": {
    "collapsed": false,
    "pycharm": {
     "name": "#%%\n",
     "is_executing": true
    }
   }
  },
  {
   "cell_type": "code",
   "execution_count": null,
   "outputs": [],
   "source": [
    "inputs = processor(text=[\"a photo of a cat\", \"a photo of a dog\"], images=image, return_tensors=\"pt\", padding=True)\n",
    "outputs = model(**inputs)\n",
    "logits_per_image = outputs.logits_per_image  # this is the image-text similarity score\n",
    "probs = logits_per_image.softmax(dim=1)  # we can take the softmax to get the label probabilities"
   ],
   "metadata": {
    "collapsed": false,
    "pycharm": {
     "name": "#%%\n"
    }
   }
  },
  {
   "cell_type": "code",
   "execution_count": null,
   "outputs": [],
   "source": [],
   "metadata": {
    "collapsed": false,
    "pycharm": {
     "name": "#%%\n"
    }
   }
  },
  {
   "cell_type": "markdown",
   "source": [
    "## VIT embeddings"
   ],
   "metadata": {
    "collapsed": false,
    "pycharm": {
     "name": "#%% md\n"
    }
   }
  },
  {
   "cell_type": "code",
   "execution_count": 4,
   "outputs": [
    {
     "data": {
      "text/plain": "Downloading (…)rocessor_config.json:   0%|          | 0.00/160 [00:00<?, ?B/s]",
      "application/vnd.jupyter.widget-view+json": {
       "version_major": 2,
       "version_minor": 0,
       "model_id": "d3e6cc170c76476c8071237a45227c36"
      }
     },
     "metadata": {},
     "output_type": "display_data"
    },
    {
     "data": {
      "text/plain": "Downloading (…)lve/main/config.json:   0%|          | 0.00/69.7k [00:00<?, ?B/s]",
      "application/vnd.jupyter.widget-view+json": {
       "version_major": 2,
       "version_minor": 0,
       "model_id": "13fb918f272f40f89163b1674c057d1f"
      }
     },
     "metadata": {},
     "output_type": "display_data"
    },
    {
     "data": {
      "text/plain": "Downloading model.safetensors:   0%|          | 0.00/346M [00:00<?, ?B/s]",
      "application/vnd.jupyter.widget-view+json": {
       "version_major": 2,
       "version_minor": 0,
       "model_id": "300e270320034e37a8bfe5b1e6107440"
      }
     },
     "metadata": {},
     "output_type": "display_data"
    },
    {
     "name": "stderr",
     "output_type": "stream",
     "text": [
      "\n",
      "KeyboardInterrupt\n",
      "\n"
     ]
    }
   ],
   "source": [
    "from transformers import ViTImageProcessor, ViTForImageClassification\n",
    "from PIL import Image\n",
    "import requests\n",
    "\n",
    "url = 'http://images.cocodataset.org/val2017/000000039769.jpg'\n",
    "image = Image.open(requests.get(url, stream=True).raw)\n",
    "\n",
    "processor = ViTImageProcessor.from_pretrained('google/vit-base-patch16-224')\n",
    "model = ViTForImageClassification.from_pretrained('google/vit-base-patch16-224')\n",
    "\n",
    "inputs = processor(images=image, return_tensors=\"pt\")\n",
    "outputs = model(**inputs)\n",
    "logits = outputs.logits\n",
    "# model predicts one of the 1000 ImageNet classes\n",
    "predicted_class_idx = logits.argmax(-1).item()\n",
    "print(\"Predicted class:\", model.config.id2label[predicted_class_idx])"
   ],
   "metadata": {
    "collapsed": false,
    "pycharm": {
     "name": "#%%\n"
    }
   }
  },
  {
   "cell_type": "code",
   "execution_count": 140,
   "outputs": [],
   "source": [],
   "metadata": {
    "collapsed": false,
    "pycharm": {
     "name": "#%%\n"
    }
   }
  },
  {
   "cell_type": "markdown",
   "source": [
    "## TFIDF"
   ],
   "metadata": {
    "collapsed": false,
    "pycharm": {
     "name": "#%% md\n"
    }
   }
  },
  {
   "cell_type": "code",
   "execution_count": 141,
   "outputs": [],
   "source": [
    "from sklearn.feature_extraction.text import TfidfVectorizer\n",
    "from sklearn.decomposition import PCA, TruncatedSVD\n",
    "\n",
    "\n",
    "def vectorize_column(df, column_name, num_features=None, vectorizer=None, demension_reducer=None):\n",
    "    df = df.copy()\n",
    "\n",
    "    if vectorizer is None:\n",
    "        vectorizer = TfidfVectorizer(max_features=num_features)\n",
    "        res_emb = vectorizer.fit_transform(df[column_name]).toarray()\n",
    "    else:\n",
    "        res_emb = vectorizer.transform(df[column_name]).toarray()\n",
    "\n",
    "\n",
    "    if demension_reducer is not None:\n",
    "        res_emb = demension_reducer.fit_transform(res_emb)\n",
    "\n",
    "    tfidf_inter_df = pd.DataFrame(res_emb, columns=[f\"tfidf_{column_name}_{i}\" for i in range(res_emb.shape[1])]).set_index(df.index)\n",
    "\n",
    "    result_dataset =  pd.concat([df, tfidf_inter_df], axis=1)\n",
    "\n",
    "    return vectorizer, demension_reducer, result_dataset"
   ],
   "metadata": {
    "collapsed": false,
    "pycharm": {
     "name": "#%%\n"
    }
   }
  },
  {
   "cell_type": "code",
   "execution_count": 142,
   "outputs": [],
   "source": [
    "pca = PCA(n_components=10)\n",
    "\n",
    "# векторизуем на трейне текстовый столбец (обучаем векторизатор и pca если передан\n",
    "vectorizer, pca, df_with_tfidf = vectorize_column(df, \"description_clear\", num_features=40, demension_reducer=pca)\n",
    "\n",
    "# df.drop(\"description\", axis=1, inplace=True)\n",
    "\n",
    "# векторизуем на тесте ничего не обучая\n",
    "_, _, df_with_tfidf = vectorize_column(df, \"description_clear\", vectorizer=vectorizer, demension_reducer=pca)"
   ],
   "metadata": {
    "collapsed": false,
    "pycharm": {
     "name": "#%%\n"
    }
   }
  },
  {
   "cell_type": "code",
   "execution_count": 143,
   "outputs": [],
   "source": [
    "df = df_with_tfidf"
   ],
   "metadata": {
    "collapsed": false,
    "pycharm": {
     "name": "#%%\n"
    }
   }
  },
  {
   "cell_type": "code",
   "execution_count": 143,
   "outputs": [],
   "source": [],
   "metadata": {
    "collapsed": false,
    "pycharm": {
     "name": "#%%\n"
    }
   }
  },
  {
   "cell_type": "markdown",
   "source": [
    "## визуализируем ембединги"
   ],
   "metadata": {
    "collapsed": false,
    "pycharm": {
     "name": "#%% md\n"
    }
   }
  },
  {
   "cell_type": "code",
   "execution_count": 144,
   "outputs": [
    {
     "data": {
      "text/plain": "<matplotlib.collections.PathCollection at 0x1cf9167f130>"
     },
     "execution_count": 144,
     "metadata": {},
     "output_type": "execute_result"
    },
    {
     "data": {
      "text/plain": "<Figure size 1008x576 with 1 Axes>",
      "image/png": "[encoded data removed]"
     },
     "metadata": {
      "needs_background": "light"
     },
     "output_type": "display_data"
    }
   ],
   "source": [
    "tmp_pca = PCA(n_components=2)\n",
    "embeds = tmp_pca.fit_transform(vectorizer.transform(df[\"description_clear\"]).toarray())\n",
    "answers = np.array([i > 4.5 for i in df.celler_rating])\n",
    "\n",
    "plt.figure(figsize=(14, 8))\n",
    "colormap = {0: \"green\", 1: \"red\"}\n",
    "plt.scatter(embeds[:, 0], embeds[:, 1], c=[colormap[answer] for answer in answers])"
   ],
   "metadata": {
    "collapsed": false,
    "pycharm": {
     "name": "#%%\n"
    }
   }
  },
  {
   "cell_type": "code",
   "execution_count": 144,
   "outputs": [],
   "source": [],
   "metadata": {
    "collapsed": false,
    "pycharm": {
     "name": "#%%\n"
    }
   }
  },
  {
   "cell_type": "code",
   "execution_count": 145,
   "outputs": [],
   "source": [
    "from sklearn.cluster import KMeans\n",
    "\n",
    "def add_cluster_number_as_feature(df, column_names, clusterer=None, n_cluster=3, feature_name=\"cluster_number\"):\n",
    "    df = df.copy()\n",
    "\n",
    "    df_for_clustering = df[column_names]\n",
    "\n",
    "    if clusterer is None:\n",
    "        clusterer = KMeans(n_clusters=n_cluster).fit(df_for_clustering)\n",
    "\n",
    "    num_cluster = clusterer.predict(df_for_clustering)\n",
    "    df[feature_name] = num_cluster\n",
    "    return clusterer, df"
   ],
   "metadata": {
    "collapsed": false,
    "pycharm": {
     "name": "#%%\n"
    }
   }
  },
  {
   "cell_type": "code",
   "execution_count": 146,
   "outputs": [
    {
     "name": "stderr",
     "output_type": "stream",
     "text": [
      "c:\\users\\iltya\\appdata\\local\\programs\\python\\python39\\lib\\site-packages\\sklearn\\cluster\\_kmeans.py:1416: FutureWarning: The default value of `n_init` will change from 10 to 'auto' in 1.4. Set the value of `n_init` explicitly to suppress the warning\n",
      "  super()._check_params_vs_input(X, default_n_init=10)\n"
     ]
    }
   ],
   "source": [
    "clusterer, df1 = add_cluster_number_as_feature(df, column_names=['order_count', 'celler_rating', 'tfidf_description_clear_0'],\n",
    "                              n_cluster=3, feature_name=\"cluster_by_main\")"
   ],
   "metadata": {
    "collapsed": false,
    "pycharm": {
     "name": "#%%\n"
    }
   }
  },
  {
   "cell_type": "code",
   "execution_count": 149,
   "outputs": [],
   "source": [
    "# добавляем на тест\n",
    "_, df = add_cluster_number_as_feature(df, column_names=['order_count', 'celler_rating', 'tfidf_description_clear_0'],\n",
    "                              clusterer=clusterer,  feature_name=\"cluster_by_main\")"
   ],
   "metadata": {
    "collapsed": false,
    "pycharm": {
     "name": "#%%\n"
    }
   }
  },
  {
   "cell_type": "code",
   "execution_count": null,
   "outputs": [],
   "source": [],
   "metadata": {
    "collapsed": false,
    "pycharm": {
     "name": "#%%\n"
    }
   }
  },
  {
   "cell_type": "code",
   "execution_count": 154,
   "outputs": [
    {
     "data": {
      "text/plain": "                                                    url price old_price  \\\n0     https://www.wildberries.ru/catalog/171820761/d...  1400      2800   \n1     https://www.wildberries.ru/catalog/169684868/d...  1530      4500   \n2     https://www.wildberries.ru/catalog/59353477/de...   839      1199   \n3     https://www.wildberries.ru/catalog/139772047/d...   219       399   \n4     https://www.wildberries.ru/catalog/160993762/d...  1899      6126   \n...                                                 ...   ...       ...   \n1475  https://www.wildberries.ru/catalog/34169313/de...                   \n1476  https://www.wildberries.ru/catalog/171798718/d...   318       707   \n1477  https://www.wildberries.ru/catalog/65453462/de...  1041      1554   \n1478  https://www.wildberries.ru/catalog/169291884/d...  3162      6200   \n1479  https://www.wildberries.ru/catalog/102768865/d...  4197      7632   \n\n      order_count celler_sold  celler_rating      name_comp  \\\n0           600.0                        4.5  Panda Glamour   \n1           600.0                        3.9      МИР ОПТОМ   \n2          6400.0                        4.7  ПЛЭЙТУДЭЙ СНГ   \n3           400.0                        4.3   Jungle Story   \n4           200.0                        4.8         BAROUZ   \n...           ...         ...            ...            ...   \n1475        400.0                        4.7  АГОРА ЭНЕРДЖИ   \n1476        600.0                        4.5      МОСКВА ФМ   \n1477        400.0                        4.7    Baryshnikov   \n1478        600.0                        3.9       CITYLINK   \n1479        200.0                        4.3    Conte ЦЕНТР   \n\n     celler_mean_delivery_time celler_percent_bad_products  \\\n0                                                            \n1                        97.2%                               \n2                                                            \n3                                                            \n4                         100%                               \n...                        ...                         ...   \n1475                     95.8%                               \n1476                     99.1%                               \n1477                                                         \n1478                      100%                               \n1479                                                         \n\n     celler_working_time  ... tfidf_description_clear_1  \\\n0         2 года и 3 мес  ...                  0.549381   \n1         2 года и 2 мес  ...                 -0.012651   \n2                 11 лет  ...                 -0.328965   \n3         2 года и 6 мес  ...                 -0.274468   \n4        3 года и 10 мес  ...                 -0.039155   \n...                  ...  ...                       ...   \n1475              3 года  ...                 -0.293816   \n1476      2 года и 9 мес  ...                  0.619088   \n1477      3 года и 2 мес  ...                  0.028669   \n1478               3 мес  ...                  0.066660   \n1479       7 лет и 9 мес  ...                 -0.137713   \n\n     tfidf_description_clear_2 tfidf_description_clear_3  \\\n0                    -0.259671                  0.094402   \n1                     0.063682                 -0.094506   \n2                    -0.327778                  0.191505   \n3                    -0.075520                  0.029552   \n4                     0.104619                 -0.405869   \n...                        ...                       ...   \n1475                 -0.093399                  0.085325   \n1476                 -0.311549                  0.283885   \n1477                  0.565696                  0.207673   \n1478                  0.088676                 -0.202100   \n1479                  0.070564                 -0.280837   \n\n     tfidf_description_clear_4 tfidf_description_clear_5  \\\n0                     0.010375                 -0.507594   \n1                    -0.015790                 -0.019928   \n2                     0.037466                 -0.029365   \n3                    -0.006851                 -0.036041   \n4                    -0.058898                  0.091910   \n...                        ...                       ...   \n1475                 -0.078314                 -0.052609   \n1476                 -0.282343                  0.340219   \n1477                  0.124776                 -0.095649   \n1478                  0.214619                  0.016178   \n1479                 -0.382658                  0.087488   \n\n     tfidf_description_clear_6 tfidf_description_clear_7  \\\n0                     0.187628                  0.039001   \n1                     0.016813                  0.045387   \n2                    -0.013465                  0.021447   \n3                     0.032310                 -0.241835   \n4                     0.349245                  0.010440   \n...                        ...                       ...   \n1475                  0.032321                 -0.402766   \n1476                 -0.078175                 -0.036763   \n1477                  0.022058                  0.008017   \n1478                 -0.015319                  0.102662   \n1479                  0.452869                 -0.062825   \n\n      tfidf_description_clear_8  tfidf_description_clear_9  cluster_by_main  \n0                      0.259129                  -0.009872                0  \n1                     -0.238227                   0.576628                0  \n2                     -0.061193                   0.080800                0  \n3                     -0.068716                  -0.092150                0  \n4                      0.010855                  -0.344945                0  \n...                         ...                        ...              ...  \n1475                  -0.021826                  -0.068507                0  \n1476                  -0.031924                  -0.027429                0  \n1477                  -0.088639                  -0.213006                0  \n1478                  -0.229175                  -0.255672                0  \n1479                   0.144436                  -0.027728                0  \n\n[1480 rows x 28 columns]",
      "text/html": "<div>\n<style scoped>\n    .dataframe tbody tr th:only-of-type {\n        vertical-align: middle;\n    }\n\n    .dataframe tbody tr th {\n        vertical-align: top;\n    }\n\n    .dataframe thead th {\n        text-align: right;\n    }\n</style>\n<table border=\"1\" class=\"dataframe\">\n  <thead>\n    <tr style=\"text-align: right;\">\n      <th></th>\n      <th>url</th>\n      <th>price</th>\n      <th>old_price</th>\n      <th>order_count</th>\n      <th>celler_sold</th>\n      <th>celler_rating</th>\n      <th>name_comp</th>\n      <th>celler_mean_delivery_time</th>\n      <th>celler_percent_bad_products</th>\n      <th>celler_working_time</th>\n      <th>...</th>\n      <th>tfidf_description_clear_1</th>\n      <th>tfidf_description_clear_2</th>\n      <th>tfidf_description_clear_3</th>\n      <th>tfidf_description_clear_4</th>\n      <th>tfidf_description_clear_5</th>\n      <th>tfidf_description_clear_6</th>\n      <th>tfidf_description_clear_7</th>\n      <th>tfidf_description_clear_8</th>\n      <th>tfidf_description_clear_9</th>\n      <th>cluster_by_main</th>\n    </tr>\n  </thead>\n  <tbody>\n    <tr>\n      <th>0</th>\n      <td>https://www.wildberries.ru/catalog/171820761/d...</td>\n      <td>1400</td>\n      <td>2800</td>\n      <td>600.0</td>\n      <td></td>\n      <td>4.5</td>\n      <td>Panda Glamour</td>\n      <td></td>\n      <td></td>\n      <td>2 года и 3 мес</td>\n      <td>...</td>\n      <td>0.549381</td>\n      <td>-0.259671</td>\n      <td>0.094402</td>\n      <td>0.010375</td>\n      <td>-0.507594</td>\n      <td>0.187628</td>\n      <td>0.039001</td>\n      <td>0.259129</td>\n      <td>-0.009872</td>\n      <td>0</td>\n    </tr>\n    <tr>\n      <th>1</th>\n      <td>https://www.wildberries.ru/catalog/169684868/d...</td>\n      <td>1530</td>\n      <td>4500</td>\n      <td>600.0</td>\n      <td></td>\n      <td>3.9</td>\n      <td>МИР ОПТОМ</td>\n      <td>97.2%</td>\n      <td></td>\n      <td>2 года и 2 мес</td>\n      <td>...</td>\n      <td>-0.012651</td>\n      <td>0.063682</td>\n      <td>-0.094506</td>\n      <td>-0.015790</td>\n      <td>-0.019928</td>\n      <td>0.016813</td>\n      <td>0.045387</td>\n      <td>-0.238227</td>\n      <td>0.576628</td>\n      <td>0</td>\n    </tr>\n    <tr>\n      <th>2</th>\n      <td>https://www.wildberries.ru/catalog/59353477/de...</td>\n      <td>839</td>\n      <td>1199</td>\n      <td>6400.0</td>\n      <td></td>\n      <td>4.7</td>\n      <td>ПЛЭЙТУДЭЙ СНГ</td>\n      <td></td>\n      <td></td>\n      <td>11 лет</td>\n      <td>...</td>\n      <td>-0.328965</td>\n      <td>-0.327778</td>\n      <td>0.191505</td>\n      <td>0.037466</td>\n      <td>-0.029365</td>\n      <td>-0.013465</td>\n      <td>0.021447</td>\n      <td>-0.061193</td>\n      <td>0.080800</td>\n      <td>0</td>\n    </tr>\n    <tr>\n      <th>3</th>\n      <td>https://www.wildberries.ru/catalog/139772047/d...</td>\n      <td>219</td>\n      <td>399</td>\n      <td>400.0</td>\n      <td></td>\n      <td>4.3</td>\n      <td>Jungle Story</td>\n      <td></td>\n      <td></td>\n      <td>2 года и 6 мес</td>\n      <td>...</td>\n      <td>-0.274468</td>\n      <td>-0.075520</td>\n      <td>0.029552</td>\n      <td>-0.006851</td>\n      <td>-0.036041</td>\n      <td>0.032310</td>\n      <td>-0.241835</td>\n      <td>-0.068716</td>\n      <td>-0.092150</td>\n      <td>0</td>\n    </tr>\n    <tr>\n      <th>4</th>\n      <td>https://www.wildberries.ru/catalog/160993762/d...</td>\n      <td>1899</td>\n      <td>6126</td>\n      <td>200.0</td>\n      <td></td>\n      <td>4.8</td>\n      <td>BAROUZ</td>\n      <td>100%</td>\n      <td></td>\n      <td>3 года и 10 мес</td>\n      <td>...</td>\n      <td>-0.039155</td>\n      <td>0.104619</td>\n      <td>-0.405869</td>\n      <td>-0.058898</td>\n      <td>0.091910</td>\n      <td>0.349245</td>\n      <td>0.010440</td>\n      <td>0.010855</td>\n      <td>-0.344945</td>\n      <td>0</td>\n    </tr>\n    <tr>\n      <th>...</th>\n      <td>...</td>\n      <td>...</td>\n      <td>...</td>\n      <td>...</td>\n      <td>...</td>\n      <td>...</td>\n      <td>...</td>\n      <td>...</td>\n      <td>...</td>\n      <td>...</td>\n      <td>...</td>\n      <td>...</td>\n      <td>...</td>\n      <td>...</td>\n      <td>...</td>\n      <td>...</td>\n      <td>...</td>\n      <td>...</td>\n      <td>...</td>\n      <td>...</td>\n      <td>...</td>\n    </tr>\n    <tr>\n      <th>1475</th>\n      <td>https://www.wildberries.ru/catalog/34169313/de...</td>\n      <td></td>\n      <td></td>\n      <td>400.0</td>\n      <td></td>\n      <td>4.7</td>\n      <td>АГОРА ЭНЕРДЖИ</td>\n      <td>95.8%</td>\n      <td></td>\n      <td>3 года</td>\n      <td>...</td>\n      <td>-0.293816</td>\n      <td>-0.093399</td>\n      <td>0.085325</td>\n      <td>-0.078314</td>\n      <td>-0.052609</td>\n      <td>0.032321</td>\n      <td>-0.402766</td>\n      <td>-0.021826</td>\n      <td>-0.068507</td>\n      <td>0</td>\n    </tr>\n    <tr>\n      <th>1476</th>\n      <td>https://www.wildberries.ru/catalog/171798718/d...</td>\n      <td>318</td>\n      <td>707</td>\n      <td>600.0</td>\n      <td></td>\n      <td>4.5</td>\n      <td>МОСКВА ФМ</td>\n      <td>99.1%</td>\n      <td></td>\n      <td>2 года и 9 мес</td>\n      <td>...</td>\n      <td>0.619088</td>\n      <td>-0.311549</td>\n      <td>0.283885</td>\n      <td>-0.282343</td>\n      <td>0.340219</td>\n      <td>-0.078175</td>\n      <td>-0.036763</td>\n      <td>-0.031924</td>\n      <td>-0.027429</td>\n      <td>0</td>\n    </tr>\n    <tr>\n      <th>1477</th>\n      <td>https://www.wildberries.ru/catalog/65453462/de...</td>\n      <td>1041</td>\n      <td>1554</td>\n      <td>400.0</td>\n      <td></td>\n      <td>4.7</td>\n      <td>Baryshnikov</td>\n      <td></td>\n      <td></td>\n      <td>3 года и 2 мес</td>\n      <td>...</td>\n      <td>0.028669</td>\n      <td>0.565696</td>\n      <td>0.207673</td>\n      <td>0.124776</td>\n      <td>-0.095649</td>\n      <td>0.022058</td>\n      <td>0.008017</td>\n      <td>-0.088639</td>\n      <td>-0.213006</td>\n      <td>0</td>\n    </tr>\n    <tr>\n      <th>1478</th>\n      <td>https://www.wildberries.ru/catalog/169291884/d...</td>\n      <td>3162</td>\n      <td>6200</td>\n      <td>600.0</td>\n      <td></td>\n      <td>3.9</td>\n      <td>CITYLINK</td>\n      <td>100%</td>\n      <td></td>\n      <td>3 мес</td>\n      <td>...</td>\n      <td>0.066660</td>\n      <td>0.088676</td>\n      <td>-0.202100</td>\n      <td>0.214619</td>\n      <td>0.016178</td>\n      <td>-0.015319</td>\n      <td>0.102662</td>\n      <td>-0.229175</td>\n      <td>-0.255672</td>\n      <td>0</td>\n    </tr>\n    <tr>\n      <th>1479</th>\n      <td>https://www.wildberries.ru/catalog/102768865/d...</td>\n      <td>4197</td>\n      <td>7632</td>\n      <td>200.0</td>\n      <td></td>\n      <td>4.3</td>\n      <td>Conte ЦЕНТР</td>\n      <td></td>\n      <td></td>\n      <td>7 лет и 9 мес</td>\n      <td>...</td>\n      <td>-0.137713</td>\n      <td>0.070564</td>\n      <td>-0.280837</td>\n      <td>-0.382658</td>\n      <td>0.087488</td>\n      <td>0.452869</td>\n      <td>-0.062825</td>\n      <td>0.144436</td>\n      <td>-0.027728</td>\n      <td>0</td>\n    </tr>\n  </tbody>\n</table>\n<p>1480 rows × 28 columns</p>\n</div>"
     },
     "execution_count": 154,
     "metadata": {},
     "output_type": "execute_result"
    }
   ],
   "source": [
    "df"
   ],
   "metadata": {
    "collapsed": false,
    "pycharm": {
     "name": "#%%\n"
    }
   }
  },
  {
   "cell_type": "code",
   "execution_count": 160,
   "outputs": [],
   "source": [],
   "metadata": {
    "collapsed": false,
    "pycharm": {
     "name": "#%%\n"
    }
   }
  },
  {
   "cell_type": "markdown",
   "source": [
    "## Catboost"
   ],
   "metadata": {
    "collapsed": false,
    "pycharm": {
     "name": "#%% md\n"
    }
   }
  },
  {
   "cell_type": "code",
   "execution_count": 161,
   "outputs": [],
   "source": [
    "text_features = [\"description_clear\", \"description\", ]"
   ],
   "metadata": {
    "collapsed": false,
    "pycharm": {
     "name": "#%%\n"
    }
   }
  },
  {
   "cell_type": "code",
   "execution_count": 162,
   "outputs": [],
   "source": [
    "cat_names = []\n",
    "TARGET_FEATURE = \"celler_rating\"\n",
    "\n",
    "for column_name, dtype in zip(df.columns, df.dtypes):\n",
    "    if dtype == object and column_name != TARGET_FEATURE and column_name not in text_features:\n",
    "        cat_names.append(column_name)"
   ],
   "metadata": {
    "collapsed": false,
    "pycharm": {
     "name": "#%%\n"
    }
   }
  },
  {
   "cell_type": "code",
   "execution_count": 163,
   "outputs": [],
   "source": [
    "from catboost import CatBoostRegressor, Pool, CatBoostClassifier\n",
    "from sklearn.model_selection import train_test_split\n",
    "\n",
    "y = df[TARGET_FEATURE]\n",
    "X = df.drop(TARGET_FEATURE, axis=1)\n",
    "\n",
    "X_train, X_test, y_train, y_test = train_test_split(X, y, test_size=0.2, random_state=42)\n"
   ],
   "metadata": {
    "collapsed": false,
    "pycharm": {
     "name": "#%%\n"
    }
   }
  },
  {
   "cell_type": "code",
   "execution_count": 164,
   "outputs": [],
   "source": [
    "train_data = Pool(data=X_train, label=y_train, cat_features=cat_names, text_features=text_features)\n",
    "test_data = Pool(data=X_test, label=y_test, cat_features=cat_names, text_features=text_features)"
   ],
   "metadata": {
    "collapsed": false,
    "pycharm": {
     "name": "#%%\n"
    }
   }
  },
  {
   "cell_type": "code",
   "execution_count": null,
   "outputs": [],
   "source": [],
   "metadata": {
    "collapsed": false,
    "pycharm": {
     "name": "#%%\n"
    }
   }
  },
  {
   "cell_type": "markdown",
   "source": [
    "## Regression"
   ],
   "metadata": {
    "collapsed": false,
    "pycharm": {
     "name": "#%% md\n"
    }
   }
  },
  {
   "cell_type": "code",
   "execution_count": 167,
   "outputs": [
    {
     "name": "stdout",
     "output_type": "stream",
     "text": [
      "Learning rate set to 0.213016\n",
      "0:\tlearn: 0.2560384\ttest: 0.2277475\tbest: 0.2277475 (0)\ttotal: 262ms\tremaining: 26s\n",
      "1:\tlearn: 0.2492897\ttest: 0.2223667\tbest: 0.2223667 (1)\ttotal: 571ms\tremaining: 28s\n",
      "2:\tlearn: 0.2448950\ttest: 0.2211352\tbest: 0.2211352 (2)\ttotal: 808ms\tremaining: 26.1s\n",
      "3:\tlearn: 0.2420447\ttest: 0.2197129\tbest: 0.2197129 (3)\ttotal: 1.03s\tremaining: 24.8s\n",
      "4:\tlearn: 0.2395421\ttest: 0.2174919\tbest: 0.2174919 (4)\ttotal: 1.26s\tremaining: 24s\n",
      "5:\tlearn: 0.2361754\ttest: 0.2158319\tbest: 0.2158319 (5)\ttotal: 1.54s\tremaining: 24.2s\n",
      "6:\tlearn: 0.2351580\ttest: 0.2153412\tbest: 0.2153412 (6)\ttotal: 1.76s\tremaining: 23.4s\n",
      "7:\tlearn: 0.2327327\ttest: 0.2142753\tbest: 0.2142753 (7)\ttotal: 1.99s\tremaining: 22.9s\n",
      "8:\tlearn: 0.2314888\ttest: 0.2135767\tbest: 0.2135767 (8)\ttotal: 2.2s\tremaining: 22.3s\n",
      "9:\tlearn: 0.2310891\ttest: 0.2127215\tbest: 0.2127215 (9)\ttotal: 2.41s\tremaining: 21.7s\n",
      "10:\tlearn: 0.2287082\ttest: 0.2123093\tbest: 0.2123093 (10)\ttotal: 2.64s\tremaining: 21.4s\n",
      "11:\tlearn: 0.2276164\ttest: 0.2123001\tbest: 0.2123001 (11)\ttotal: 2.87s\tremaining: 21s\n",
      "12:\tlearn: 0.2272131\ttest: 0.2122722\tbest: 0.2122722 (12)\ttotal: 3.17s\tremaining: 21.2s\n",
      "13:\tlearn: 0.2268881\ttest: 0.2122235\tbest: 0.2122235 (13)\ttotal: 3.4s\tremaining: 20.9s\n",
      "14:\tlearn: 0.2244812\ttest: 0.2127186\tbest: 0.2122235 (13)\ttotal: 3.62s\tremaining: 20.5s\n",
      "15:\tlearn: 0.2227375\ttest: 0.2126117\tbest: 0.2122235 (13)\ttotal: 3.84s\tremaining: 20.2s\n",
      "16:\tlearn: 0.2222199\ttest: 0.2126480\tbest: 0.2122235 (13)\ttotal: 4.04s\tremaining: 19.7s\n",
      "17:\tlearn: 0.2212822\ttest: 0.2119219\tbest: 0.2119219 (17)\ttotal: 4.37s\tremaining: 19.9s\n",
      "18:\tlearn: 0.2200712\ttest: 0.2118327\tbest: 0.2118327 (18)\ttotal: 4.67s\tremaining: 19.9s\n",
      "19:\tlearn: 0.2192219\ttest: 0.2113174\tbest: 0.2113174 (19)\ttotal: 4.91s\tremaining: 19.6s\n",
      "20:\tlearn: 0.2189701\ttest: 0.2112244\tbest: 0.2112244 (20)\ttotal: 5.2s\tremaining: 19.5s\n",
      "21:\tlearn: 0.2184256\ttest: 0.2110646\tbest: 0.2110646 (21)\ttotal: 5.44s\tremaining: 19.3s\n",
      "22:\tlearn: 0.2171015\ttest: 0.2107844\tbest: 0.2107844 (22)\ttotal: 5.67s\tremaining: 19s\n",
      "23:\tlearn: 0.2151589\ttest: 0.2112969\tbest: 0.2107844 (22)\ttotal: 5.9s\tremaining: 18.7s\n",
      "24:\tlearn: 0.2128318\ttest: 0.2103156\tbest: 0.2103156 (24)\ttotal: 6.17s\tremaining: 18.5s\n",
      "25:\tlearn: 0.2126048\ttest: 0.2103648\tbest: 0.2103156 (24)\ttotal: 6.39s\tremaining: 18.2s\n",
      "26:\tlearn: 0.2120236\ttest: 0.2103656\tbest: 0.2103156 (24)\ttotal: 6.58s\tremaining: 17.8s\n",
      "27:\tlearn: 0.2118566\ttest: 0.2105261\tbest: 0.2103156 (24)\ttotal: 6.79s\tremaining: 17.5s\n",
      "28:\tlearn: 0.2109378\ttest: 0.2105727\tbest: 0.2103156 (24)\ttotal: 7.13s\tremaining: 17.5s\n",
      "29:\tlearn: 0.2092523\ttest: 0.2101256\tbest: 0.2101256 (29)\ttotal: 7.39s\tremaining: 17.2s\n",
      "30:\tlearn: 0.2086816\ttest: 0.2094133\tbest: 0.2094133 (30)\ttotal: 7.61s\tremaining: 16.9s\n",
      "31:\tlearn: 0.2069600\ttest: 0.2087641\tbest: 0.2087641 (31)\ttotal: 7.91s\tremaining: 16.8s\n",
      "32:\tlearn: 0.2064257\ttest: 0.2086371\tbest: 0.2086371 (32)\ttotal: 8.13s\tremaining: 16.5s\n",
      "33:\tlearn: 0.2056166\ttest: 0.2087261\tbest: 0.2086371 (32)\ttotal: 8.35s\tremaining: 16.2s\n",
      "34:\tlearn: 0.2042646\ttest: 0.2077368\tbest: 0.2077368 (34)\ttotal: 8.6s\tremaining: 16s\n",
      "35:\tlearn: 0.2041562\ttest: 0.2076453\tbest: 0.2076453 (35)\ttotal: 8.83s\tremaining: 15.7s\n",
      "36:\tlearn: 0.2034127\ttest: 0.2086261\tbest: 0.2076453 (35)\ttotal: 9.1s\tremaining: 15.5s\n",
      "37:\tlearn: 0.2033478\ttest: 0.2086945\tbest: 0.2076453 (35)\ttotal: 9.21s\tremaining: 15s\n",
      "38:\tlearn: 0.2026830\ttest: 0.2086171\tbest: 0.2076453 (35)\ttotal: 9.41s\tremaining: 14.7s\n",
      "39:\tlearn: 0.2003423\ttest: 0.2075244\tbest: 0.2075244 (39)\ttotal: 9.67s\tremaining: 14.5s\n",
      "40:\tlearn: 0.1991365\ttest: 0.2071832\tbest: 0.2071832 (40)\ttotal: 9.88s\tremaining: 14.2s\n",
      "41:\tlearn: 0.1987215\ttest: 0.2073658\tbest: 0.2071832 (40)\ttotal: 10.1s\tremaining: 13.9s\n",
      "42:\tlearn: 0.1964421\ttest: 0.2062846\tbest: 0.2062846 (42)\ttotal: 10.5s\tremaining: 13.9s\n",
      "43:\tlearn: 0.1955418\ttest: 0.2068013\tbest: 0.2062846 (42)\ttotal: 10.9s\tremaining: 13.9s\n",
      "44:\tlearn: 0.1949942\ttest: 0.2064525\tbest: 0.2062846 (42)\ttotal: 11.2s\tremaining: 13.7s\n",
      "45:\tlearn: 0.1944058\ttest: 0.2070163\tbest: 0.2062846 (42)\ttotal: 11.4s\tremaining: 13.4s\n",
      "46:\tlearn: 0.1936167\ttest: 0.2066151\tbest: 0.2062846 (42)\ttotal: 11.7s\tremaining: 13.2s\n",
      "47:\tlearn: 0.1933222\ttest: 0.2065267\tbest: 0.2062846 (42)\ttotal: 11.9s\tremaining: 12.9s\n",
      "48:\tlearn: 0.1920991\ttest: 0.2064888\tbest: 0.2062846 (42)\ttotal: 12.1s\tremaining: 12.6s\n",
      "49:\tlearn: 0.1912423\ttest: 0.2067455\tbest: 0.2062846 (42)\ttotal: 12.4s\tremaining: 12.4s\n",
      "50:\tlearn: 0.1902351\ttest: 0.2069927\tbest: 0.2062846 (42)\ttotal: 12.6s\tremaining: 12.1s\n",
      "51:\tlearn: 0.1896765\ttest: 0.2067706\tbest: 0.2062846 (42)\ttotal: 12.8s\tremaining: 11.9s\n",
      "52:\tlearn: 0.1894429\ttest: 0.2067665\tbest: 0.2062846 (42)\ttotal: 13.1s\tremaining: 11.6s\n",
      "53:\tlearn: 0.1880709\ttest: 0.2066022\tbest: 0.2062846 (42)\ttotal: 13.4s\tremaining: 11.4s\n",
      "54:\tlearn: 0.1872333\ttest: 0.2063553\tbest: 0.2062846 (42)\ttotal: 13.6s\tremaining: 11.1s\n",
      "55:\tlearn: 0.1865058\ttest: 0.2065664\tbest: 0.2062846 (42)\ttotal: 13.9s\tremaining: 10.9s\n",
      "56:\tlearn: 0.1854217\ttest: 0.2066931\tbest: 0.2062846 (42)\ttotal: 14.1s\tremaining: 10.7s\n",
      "57:\tlearn: 0.1844840\ttest: 0.2068584\tbest: 0.2062846 (42)\ttotal: 14.3s\tremaining: 10.4s\n",
      "58:\tlearn: 0.1833077\ttest: 0.2075471\tbest: 0.2062846 (42)\ttotal: 14.6s\tremaining: 10.1s\n",
      "59:\tlearn: 0.1823539\ttest: 0.2080945\tbest: 0.2062846 (42)\ttotal: 14.9s\tremaining: 9.91s\n",
      "60:\tlearn: 0.1813966\ttest: 0.2083049\tbest: 0.2062846 (42)\ttotal: 15.1s\tremaining: 9.68s\n",
      "61:\tlearn: 0.1802886\ttest: 0.2088210\tbest: 0.2062846 (42)\ttotal: 15.4s\tremaining: 9.42s\n",
      "62:\tlearn: 0.1799047\ttest: 0.2089887\tbest: 0.2062846 (42)\ttotal: 15.7s\tremaining: 9.2s\n",
      "63:\tlearn: 0.1789734\ttest: 0.2087470\tbest: 0.2062846 (42)\ttotal: 15.9s\tremaining: 8.95s\n",
      "64:\tlearn: 0.1777944\ttest: 0.2088339\tbest: 0.2062846 (42)\ttotal: 16.2s\tremaining: 8.7s\n",
      "65:\tlearn: 0.1773517\ttest: 0.2087116\tbest: 0.2062846 (42)\ttotal: 16.4s\tremaining: 8.46s\n",
      "66:\tlearn: 0.1769788\ttest: 0.2084286\tbest: 0.2062846 (42)\ttotal: 16.7s\tremaining: 8.2s\n",
      "67:\tlearn: 0.1767926\ttest: 0.2084257\tbest: 0.2062846 (42)\ttotal: 16.9s\tremaining: 7.94s\n",
      "68:\tlearn: 0.1760398\ttest: 0.2097735\tbest: 0.2062846 (42)\ttotal: 17.2s\tremaining: 7.71s\n",
      "69:\tlearn: 0.1753197\ttest: 0.2099137\tbest: 0.2062846 (42)\ttotal: 17.4s\tremaining: 7.46s\n",
      "70:\tlearn: 0.1743818\ttest: 0.2099831\tbest: 0.2062846 (42)\ttotal: 17.6s\tremaining: 7.2s\n",
      "71:\tlearn: 0.1729090\ttest: 0.2106737\tbest: 0.2062846 (42)\ttotal: 17.8s\tremaining: 6.93s\n",
      "72:\tlearn: 0.1723187\ttest: 0.2100241\tbest: 0.2062846 (42)\ttotal: 18.1s\tremaining: 6.7s\n",
      "73:\tlearn: 0.1711587\ttest: 0.2092109\tbest: 0.2062846 (42)\ttotal: 18.5s\tremaining: 6.5s\n",
      "74:\tlearn: 0.1706590\ttest: 0.2092010\tbest: 0.2062846 (42)\ttotal: 18.8s\tremaining: 6.26s\n",
      "75:\tlearn: 0.1696332\ttest: 0.2094817\tbest: 0.2062846 (42)\ttotal: 19.1s\tremaining: 6.03s\n",
      "76:\tlearn: 0.1691473\ttest: 0.2091680\tbest: 0.2062846 (42)\ttotal: 19.3s\tremaining: 5.78s\n",
      "77:\tlearn: 0.1678699\ttest: 0.2094195\tbest: 0.2062846 (42)\ttotal: 19.6s\tremaining: 5.51s\n",
      "78:\tlearn: 0.1671351\ttest: 0.2092700\tbest: 0.2062846 (42)\ttotal: 19.8s\tremaining: 5.26s\n",
      "79:\tlearn: 0.1662617\ttest: 0.2090656\tbest: 0.2062846 (42)\ttotal: 20s\tremaining: 5.01s\n",
      "80:\tlearn: 0.1652485\ttest: 0.2094175\tbest: 0.2062846 (42)\ttotal: 20.3s\tremaining: 4.77s\n",
      "81:\tlearn: 0.1643190\ttest: 0.2101557\tbest: 0.2062846 (42)\ttotal: 20.6s\tremaining: 4.52s\n",
      "82:\tlearn: 0.1637959\ttest: 0.2098222\tbest: 0.2062846 (42)\ttotal: 20.8s\tremaining: 4.26s\n",
      "83:\tlearn: 0.1630454\ttest: 0.2095094\tbest: 0.2062846 (42)\ttotal: 21.1s\tremaining: 4.01s\n",
      "84:\tlearn: 0.1620729\ttest: 0.2093610\tbest: 0.2062846 (42)\ttotal: 21.3s\tremaining: 3.76s\n",
      "85:\tlearn: 0.1607553\ttest: 0.2091052\tbest: 0.2062846 (42)\ttotal: 21.5s\tremaining: 3.51s\n",
      "86:\tlearn: 0.1603132\ttest: 0.2084831\tbest: 0.2062846 (42)\ttotal: 21.8s\tremaining: 3.25s\n",
      "87:\tlearn: 0.1599223\ttest: 0.2081790\tbest: 0.2062846 (42)\ttotal: 22.1s\tremaining: 3.01s\n",
      "88:\tlearn: 0.1593057\ttest: 0.2077472\tbest: 0.2062846 (42)\ttotal: 22.3s\tremaining: 2.75s\n",
      "89:\tlearn: 0.1585900\ttest: 0.2081167\tbest: 0.2062846 (42)\ttotal: 22.5s\tremaining: 2.5s\n",
      "90:\tlearn: 0.1573517\ttest: 0.2077641\tbest: 0.2062846 (42)\ttotal: 22.8s\tremaining: 2.26s\n",
      "91:\tlearn: 0.1570866\ttest: 0.2076954\tbest: 0.2062846 (42)\ttotal: 23.1s\tremaining: 2s\n",
      "92:\tlearn: 0.1555232\ttest: 0.2076388\tbest: 0.2062846 (42)\ttotal: 23.3s\tremaining: 1.75s\n",
      "93:\tlearn: 0.1548682\ttest: 0.2071409\tbest: 0.2062846 (42)\ttotal: 23.5s\tremaining: 1.5s\n",
      "94:\tlearn: 0.1543925\ttest: 0.2072208\tbest: 0.2062846 (42)\ttotal: 23.8s\tremaining: 1.25s\n",
      "95:\tlearn: 0.1534643\ttest: 0.2068043\tbest: 0.2062846 (42)\ttotal: 24.1s\tremaining: 1s\n",
      "96:\tlearn: 0.1526380\ttest: 0.2065987\tbest: 0.2062846 (42)\ttotal: 24.3s\tremaining: 753ms\n",
      "97:\tlearn: 0.1520414\ttest: 0.2067418\tbest: 0.2062846 (42)\ttotal: 24.6s\tremaining: 502ms\n",
      "98:\tlearn: 0.1517798\ttest: 0.2065875\tbest: 0.2062846 (42)\ttotal: 24.8s\tremaining: 251ms\n",
      "99:\tlearn: 0.1513556\ttest: 0.2064000\tbest: 0.2062846 (42)\ttotal: 25.1s\tremaining: 0us\n",
      "\n",
      "bestTest = 0.2062845945\n",
      "bestIteration = 42\n",
      "\n",
      "Shrink model to first 43 iterations.\n"
     ]
    },
    {
     "data": {
      "text/plain": "<catboost.core.CatBoostRegressor at 0x1cf9050cd30>"
     },
     "execution_count": 167,
     "metadata": {},
     "output_type": "execute_result"
    }
   ],
   "source": [
    "reg = CatBoostRegressor(n_estimators=100, eval_metric=\"MAE\")\n",
    "\n",
    "reg.fit(train_data, eval_set=test_data, early_stopping_rounds=100,)"
   ],
   "metadata": {
    "collapsed": false,
    "pycharm": {
     "name": "#%%\n"
    }
   }
  },
  {
   "cell_type": "code",
   "execution_count": 169,
   "outputs": [
    {
     "data": {
      "text/plain": "                     Feature Id  Importances\n0             description_clear    46.273903\n1                   description    18.263588\n2               search_category    15.633687\n3     tfidf_description_clear_0     3.284431\n4                     name_comp     3.280938\n5           celler_working_time     2.740515\n6     tfidf_description_clear_9     2.364341\n7     celler_mean_delivery_time     1.952822\n8     tfidf_description_clear_7     1.424313\n9     tfidf_description_clear_1     1.267232\n10    tfidf_description_clear_4     1.201631\n11    tfidf_description_clear_5     1.141420\n12    tfidf_description_clear_3     0.670116\n13    tfidf_description_clear_2     0.501064\n14                          url     0.000000\n15                        price     0.000000\n16                    old_price     0.000000\n17                  order_count     0.000000\n18                  celler_sold     0.000000\n19  celler_percent_bad_products     0.000000\n20                  celler_link     0.000000\n21                     img_link     0.000000\n22                comments_link     0.000000\n23    tfidf_description_clear_6     0.000000\n24    tfidf_description_clear_8     0.000000\n25              cluster_by_main     0.000000",
      "text/html": "<div>\n<style scoped>\n    .dataframe tbody tr th:only-of-type {\n        vertical-align: middle;\n    }\n\n    .dataframe tbody tr th {\n        vertical-align: top;\n    }\n\n    .dataframe thead th {\n        text-align: right;\n    }\n</style>\n<table border=\"1\" class=\"dataframe\">\n  <thead>\n    <tr style=\"text-align: right;\">\n      <th></th>\n      <th>Feature Id</th>\n      <th>Importances</th>\n    </tr>\n  </thead>\n  <tbody>\n    <tr>\n      <th>0</th>\n      <td>description_clear</td>\n      <td>46.273903</td>\n    </tr>\n    <tr>\n      <th>1</th>\n      <td>description</td>\n      <td>18.263588</td>\n    </tr>\n    <tr>\n      <th>2</th>\n      <td>search_category</td>\n      <td>15.633687</td>\n    </tr>\n    <tr>\n      <th>3</th>\n      <td>tfidf_description_clear_0</td>\n      <td>3.284431</td>\n    </tr>\n    <tr>\n      <th>4</th>\n      <td>name_comp</td>\n      <td>3.280938</td>\n    </tr>\n    <tr>\n      <th>5</th>\n      <td>celler_working_time</td>\n      <td>2.740515</td>\n    </tr>\n    <tr>\n      <th>6</th>\n      <td>tfidf_description_clear_9</td>\n      <td>2.364341</td>\n    </tr>\n    <tr>\n      <th>7</th>\n      <td>celler_mean_delivery_time</td>\n      <td>1.952822</td>\n    </tr>\n    <tr>\n      <th>8</th>\n      <td>tfidf_description_clear_7</td>\n      <td>1.424313</td>\n    </tr>\n    <tr>\n      <th>9</th>\n      <td>tfidf_description_clear_1</td>\n      <td>1.267232</td>\n    </tr>\n    <tr>\n      <th>10</th>\n      <td>tfidf_description_clear_4</td>\n      <td>1.201631</td>\n    </tr>\n    <tr>\n      <th>11</th>\n      <td>tfidf_description_clear_5</td>\n      <td>1.141420</td>\n    </tr>\n    <tr>\n      <th>12</th>\n      <td>tfidf_description_clear_3</td>\n      <td>0.670116</td>\n    </tr>\n    <tr>\n      <th>13</th>\n      <td>tfidf_description_clear_2</td>\n      <td>0.501064</td>\n    </tr>\n    <tr>\n      <th>14</th>\n      <td>url</td>\n      <td>0.000000</td>\n    </tr>\n    <tr>\n      <th>15</th>\n      <td>price</td>\n      <td>0.000000</td>\n    </tr>\n    <tr>\n      <th>16</th>\n      <td>old_price</td>\n      <td>0.000000</td>\n    </tr>\n    <tr>\n      <th>17</th>\n      <td>order_count</td>\n      <td>0.000000</td>\n    </tr>\n    <tr>\n      <th>18</th>\n      <td>celler_sold</td>\n      <td>0.000000</td>\n    </tr>\n    <tr>\n      <th>19</th>\n      <td>celler_percent_bad_products</td>\n      <td>0.000000</td>\n    </tr>\n    <tr>\n      <th>20</th>\n      <td>celler_link</td>\n      <td>0.000000</td>\n    </tr>\n    <tr>\n      <th>21</th>\n      <td>img_link</td>\n      <td>0.000000</td>\n    </tr>\n    <tr>\n      <th>22</th>\n      <td>comments_link</td>\n      <td>0.000000</td>\n    </tr>\n    <tr>\n      <th>23</th>\n      <td>tfidf_description_clear_6</td>\n      <td>0.000000</td>\n    </tr>\n    <tr>\n      <th>24</th>\n      <td>tfidf_description_clear_8</td>\n      <td>0.000000</td>\n    </tr>\n    <tr>\n      <th>25</th>\n      <td>cluster_by_main</td>\n      <td>0.000000</td>\n    </tr>\n  </tbody>\n</table>\n</div>"
     },
     "execution_count": 169,
     "metadata": {},
     "output_type": "execute_result"
    }
   ],
   "source": [
    "reg.get_feature_importance(prettified=True)"
   ],
   "metadata": {
    "collapsed": false,
    "pycharm": {
     "name": "#%%\n"
    }
   }
  },
  {
   "cell_type": "code",
   "execution_count": 174,
   "outputs": [
    {
     "name": "stdout",
     "output_type": "stream",
     "text": [
      "model error:  0.04729634733168501\n",
      "mean value error:  0.052133780774110176\n"
     ]
    }
   ],
   "source": [
    "from sklearn.metrics import mean_absolute_error, mean_absolute_percentage_error\n",
    "\n",
    "print(\"model error: \", mean_absolute_percentage_error(y_test, reg.predict(X_test)))\n",
    "print(\"mean value error: \", mean_absolute_percentage_error(y_test, [y_test.mean()] * len(y_test)))"
   ],
   "metadata": {
    "collapsed": false,
    "pycharm": {
     "name": "#%%\n"
    }
   }
  },
  {
   "cell_type": "code",
   "execution_count": 174,
   "outputs": [],
   "source": [],
   "metadata": {
    "collapsed": false,
    "pycharm": {
     "name": "#%%\n"
    }
   }
  },
  {
   "cell_type": "markdown",
   "source": [
    "## Classification\n",
    "TODO"
   ],
   "metadata": {
    "collapsed": false,
    "pycharm": {
     "name": "#%% md\n"
    }
   }
  },
  {
   "cell_type": "code",
   "execution_count": null,
   "outputs": [],
   "source": [],
   "metadata": {
    "collapsed": false,
    "pycharm": {
     "name": "#%%\n"
    }
   }
  }
 ],
 "metadata": {
  "kernelspec": {
   "display_name": "Python 3",
   "language": "python",
   "name": "python3"
  },
  "language_info": {
   "codemirror_mode": {
    "name": "ipython",
    "version": 2
   },
   "file_extension": ".py",
   "mimetype": "text/x-python",
   "name": "python",
   "nbconvert_exporter": "python",
   "pygments_lexer": "ipython2",
   "version": "2.7.6"
  }
 },
 "nbformat": 4,
 "nbformat_minor": 0
}