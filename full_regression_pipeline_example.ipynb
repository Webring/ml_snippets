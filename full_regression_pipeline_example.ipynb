{
 "cells": [
  {
   "cell_type": "code",
   "execution_count": 1,
   "metadata": {
    "collapsed": true
   },
   "outputs": [
    {
     "name": "stderr",
     "output_type": "stream",
     "text": [
      "C:\\Users\\iltya\\AppData\\Roaming\\Python\\Python39\\site-packages\\scipy\\__init__.py:155: UserWarning: A NumPy version >=1.18.5 and <1.25.0 is required for this version of SciPy (detected version 1.26.1\n",
      "  warnings.warn(f\"A NumPy version >={np_minversion} and <{np_maxversion}\"\n"
     ]
    }
   ],
   "source": [
    "import pandas as pd\n",
    "import numpy as np\n",
    "import seaborn as sns\n",
    "import matplotlib.pyplot as plt\n",
    "from tqdm.auto import tqdm"
   ]
  },
  {
   "cell_type": "code",
   "execution_count": 2,
   "outputs": [],
   "source": [
    "df = pd.read_table(\"train.tsv/train.tsv\", delimiter=\"\\t\")"
   ],
   "metadata": {
    "collapsed": false,
    "pycharm": {
     "name": "#%%\n"
    }
   }
  },
  {
   "cell_type": "code",
   "execution_count": 3,
   "outputs": [
    {
     "data": {
      "text/plain": "         id                                               name  \\\n0  49242400               Инженер группы технической поддержки   \n1  49496801      Специалист группы кадрового администрирования   \n2  44198403                                        Оператор 1С   \n3  47707600                                        Инженер ПТО   \n4  44610002  Водитель в войсковую часть (пункт отбора на во...   \n\n                                       employer_name     experience_name  \\\n0                                           DatsTeam  От 1 года до 3 лет   \n1                                       Почта России           Нет опыта   \n2                                  Стройгарантсервис  От 1 года до 3 лет   \n3                                       Коммунальник       От 3 до 6 лет   \n4  Пункт отбора на военную службу по контракту по...           Нет опыта   \n\n    schedule_name                          key_skills_name  \\\n0  Сменный график                               не указано   \n1     Полный день               оформление трудовых книжек   \n2     Полный день                      первичные документы   \n3     Полный день                                  autocad   \n4     Полный день  водительское удостоверение категории bc   \n\n   accept_handicapped  accept_kids unified_address_city unified_address_state  \\\n0               False        False               Москва                Москва   \n1               False        False               Абакан    Республика Хакасия   \n2               False        False               Москва                Москва   \n3               False        False                  NaN    Краснодарский край   \n4               False        False                  NaN     Калужская область   \n\n   ...                            raw_branded_description  \\\n0  ...                                                NaN   \n1  ...  АО «Почта России» входит в перечень системообр...   \n2  ...                                                NaN   \n3  ...                                                NaN   \n4  ...                                                NaN   \n\n              lemmaized_wo_stopwords_raw_description  \\\n0  разрабатывать рекламный система оплата действи...   \n1  обязанность ведение кадровый делопроизводство ...   \n2  условие график работа 5/2 09.00 18.00;• оформл...   \n3  строительный инженерный компания коммунальник ...   \n4  обязанность знать устройство правило эксплуата...   \n\n      lemmaized_wo_stopwords_raw_branded_description if_foreign_language  \\\n0                                                NaN          Не указано   \n1  ао почта россия входить перечень системообразу...          Не указано   \n2                                                NaN          Не указано   \n3                                                NaN          Не указано   \n4                                                NaN          Не указано   \n\n  is_branded_description                                         name_clean  \\\n0              заполнено               инженер группа технический поддержка   \n1           не заполнено       специалист группа кадровый администрирование   \n2              заполнено                                        оператор 1с   \n3              заполнено                                        инженер пто   \n4              заполнено  водитель войсковой часть пункт отбор военный с...   \n\n    employment_name employer_id employer_industries salary_mean_net  \n0  Полная занятость   4437201.0          не указано        80000.00  \n1  Полная занятость      4352.0   почтовая доставка        19989.12  \n2  Полная занятость   1794943.0               лифты        45000.00  \n3  Полная занятость   1881241.0          не указано        40000.00  \n4  Полная занятость   1586217.0          не указано        37500.00  \n\n[5 rows x 26 columns]",
      "text/html": "<div>\n<style scoped>\n    .dataframe tbody tr th:only-of-type {\n        vertical-align: middle;\n    }\n\n    .dataframe tbody tr th {\n        vertical-align: top;\n    }\n\n    .dataframe thead th {\n        text-align: right;\n    }\n</style>\n<table border=\"1\" class=\"dataframe\">\n  <thead>\n    <tr style=\"text-align: right;\">\n      <th></th>\n      <th>id</th>\n      <th>name</th>\n      <th>employer_name</th>\n      <th>experience_name</th>\n      <th>schedule_name</th>\n      <th>key_skills_name</th>\n      <th>accept_handicapped</th>\n      <th>accept_kids</th>\n      <th>unified_address_city</th>\n      <th>unified_address_state</th>\n      <th>...</th>\n      <th>raw_branded_description</th>\n      <th>lemmaized_wo_stopwords_raw_description</th>\n      <th>lemmaized_wo_stopwords_raw_branded_description</th>\n      <th>if_foreign_language</th>\n      <th>is_branded_description</th>\n      <th>name_clean</th>\n      <th>employment_name</th>\n      <th>employer_id</th>\n      <th>employer_industries</th>\n      <th>salary_mean_net</th>\n    </tr>\n  </thead>\n  <tbody>\n    <tr>\n      <th>0</th>\n      <td>49242400</td>\n      <td>Инженер группы технической поддержки</td>\n      <td>DatsTeam</td>\n      <td>От 1 года до 3 лет</td>\n      <td>Сменный график</td>\n      <td>не указано</td>\n      <td>False</td>\n      <td>False</td>\n      <td>Москва</td>\n      <td>Москва</td>\n      <td>...</td>\n      <td>NaN</td>\n      <td>разрабатывать рекламный система оплата действи...</td>\n      <td>NaN</td>\n      <td>Не указано</td>\n      <td>заполнено</td>\n      <td>инженер группа технический поддержка</td>\n      <td>Полная занятость</td>\n      <td>4437201.0</td>\n      <td>не указано</td>\n      <td>80000.00</td>\n    </tr>\n    <tr>\n      <th>1</th>\n      <td>49496801</td>\n      <td>Специалист группы кадрового администрирования</td>\n      <td>Почта России</td>\n      <td>Нет опыта</td>\n      <td>Полный день</td>\n      <td>оформление трудовых книжек</td>\n      <td>False</td>\n      <td>False</td>\n      <td>Абакан</td>\n      <td>Республика Хакасия</td>\n      <td>...</td>\n      <td>АО «Почта России» входит в перечень системообр...</td>\n      <td>обязанность ведение кадровый делопроизводство ...</td>\n      <td>ао почта россия входить перечень системообразу...</td>\n      <td>Не указано</td>\n      <td>не заполнено</td>\n      <td>специалист группа кадровый администрирование</td>\n      <td>Полная занятость</td>\n      <td>4352.0</td>\n      <td>почтовая доставка</td>\n      <td>19989.12</td>\n    </tr>\n    <tr>\n      <th>2</th>\n      <td>44198403</td>\n      <td>Оператор 1С</td>\n      <td>Стройгарантсервис</td>\n      <td>От 1 года до 3 лет</td>\n      <td>Полный день</td>\n      <td>первичные документы</td>\n      <td>False</td>\n      <td>False</td>\n      <td>Москва</td>\n      <td>Москва</td>\n      <td>...</td>\n      <td>NaN</td>\n      <td>условие график работа 5/2 09.00 18.00;• оформл...</td>\n      <td>NaN</td>\n      <td>Не указано</td>\n      <td>заполнено</td>\n      <td>оператор 1с</td>\n      <td>Полная занятость</td>\n      <td>1794943.0</td>\n      <td>лифты</td>\n      <td>45000.00</td>\n    </tr>\n    <tr>\n      <th>3</th>\n      <td>47707600</td>\n      <td>Инженер ПТО</td>\n      <td>Коммунальник</td>\n      <td>От 3 до 6 лет</td>\n      <td>Полный день</td>\n      <td>autocad</td>\n      <td>False</td>\n      <td>False</td>\n      <td>NaN</td>\n      <td>Краснодарский край</td>\n      <td>...</td>\n      <td>NaN</td>\n      <td>строительный инженерный компания коммунальник ...</td>\n      <td>NaN</td>\n      <td>Не указано</td>\n      <td>заполнено</td>\n      <td>инженер пто</td>\n      <td>Полная занятость</td>\n      <td>1881241.0</td>\n      <td>не указано</td>\n      <td>40000.00</td>\n    </tr>\n    <tr>\n      <th>4</th>\n      <td>44610002</td>\n      <td>Водитель в войсковую часть (пункт отбора на во...</td>\n      <td>Пункт отбора на военную службу по контракту по...</td>\n      <td>Нет опыта</td>\n      <td>Полный день</td>\n      <td>водительское удостоверение категории bc</td>\n      <td>False</td>\n      <td>False</td>\n      <td>NaN</td>\n      <td>Калужская область</td>\n      <td>...</td>\n      <td>NaN</td>\n      <td>обязанность знать устройство правило эксплуата...</td>\n      <td>NaN</td>\n      <td>Не указано</td>\n      <td>заполнено</td>\n      <td>водитель войсковой часть пункт отбор военный с...</td>\n      <td>Полная занятость</td>\n      <td>1586217.0</td>\n      <td>не указано</td>\n      <td>37500.00</td>\n    </tr>\n  </tbody>\n</table>\n<p>5 rows × 26 columns</p>\n</div>"
     },
     "execution_count": 3,
     "metadata": {},
     "output_type": "execute_result"
    }
   ],
   "source": [
    "df.head()"
   ],
   "metadata": {
    "collapsed": false,
    "pycharm": {
     "name": "#%%\n"
    }
   }
  },
  {
   "cell_type": "code",
   "execution_count": 4,
   "outputs": [
    {
     "data": {
      "text/plain": "(61314, 26)"
     },
     "execution_count": 4,
     "metadata": {},
     "output_type": "execute_result"
    }
   ],
   "source": [
    "df.shape"
   ],
   "metadata": {
    "collapsed": false,
    "pycharm": {
     "name": "#%%\n"
    }
   }
  },
  {
   "cell_type": "markdown",
   "source": [
    "## предобработка"
   ],
   "metadata": {
    "collapsed": false,
    "pycharm": {
     "name": "#%% md\n"
    }
   }
  },
  {
   "cell_type": "code",
   "execution_count": 5,
   "outputs": [
    {
     "data": {
      "text/plain": "id                                                1.000000\nname                                              0.485370\nemployer_name                                     0.450908\nexperience_name                                   0.000065\nschedule_name                                     0.000082\nkey_skills_name                                   0.047917\naccept_handicapped                                0.000033\naccept_kids                                       0.000033\nunified_address_city                              0.003392\nunified_address_state                             0.001370\nunified_address_region                            0.000130\nunified_address_country                           0.000016\nspecializations_profarea_name                     0.000473\nprofessional_roles_name                           0.002381\nlanguages_name                                    0.000832\nraw_description                                   0.846919\nraw_branded_description                           0.068500\nlemmaized_wo_stopwords_raw_description            0.843021\nlemmaized_wo_stopwords_raw_branded_description    0.067146\nif_foreign_language                               0.000033\nis_branded_description                            0.000033\nname_clean                                        0.456633\nemployment_name                                   0.000082\nemployer_id                                       0.462439\nemployer_industries                               0.004077\nsalary_mean_net                                   0.047770\ndtype: float64"
     },
     "execution_count": 5,
     "metadata": {},
     "output_type": "execute_result"
    }
   ],
   "source": [
    "df.nunique() / len(df)"
   ],
   "metadata": {
    "collapsed": false,
    "pycharm": {
     "name": "#%%\n"
    }
   }
  },
  {
   "cell_type": "code",
   "execution_count": 6,
   "outputs": [
    {
     "data": {
      "text/plain": "0.9189255308738624"
     },
     "execution_count": 6,
     "metadata": {},
     "output_type": "execute_result"
    }
   ],
   "source": [
    "df.drop(\"id\", axis=1, inplace=True)\n",
    "df.drop(\"employer_id\", axis=1, inplace=True)\n",
    "df.raw_branded_description.isna().sum() / len(df)"
   ],
   "metadata": {
    "collapsed": false,
    "pycharm": {
     "name": "#%%\n"
    }
   }
  },
  {
   "cell_type": "code",
   "execution_count": 7,
   "outputs": [],
   "source": [
    "df.drop(\"raw_branded_description\", axis=1, inplace=True)\n",
    "df[\"have_raw_branded_description\"] = df[\"lemmaized_wo_stopwords_raw_branded_description\"].isna()\n",
    "df.drop(\"lemmaized_wo_stopwords_raw_branded_description\", axis=1, inplace=True)"
   ],
   "metadata": {
    "collapsed": false,
    "pycharm": {
     "name": "#%%\n"
    }
   }
  },
  {
   "cell_type": "code",
   "execution_count": 8,
   "outputs": [],
   "source": [
    "df[\"unified_address_city\"] = df.unified_address_city.fillna(\"unkonown\")\n",
    "df[\"unified_address_region\"] = df.unified_address_region.fillna(\"unknown\")"
   ],
   "metadata": {
    "collapsed": false,
    "pycharm": {
     "name": "#%%\n"
    }
   }
  },
  {
   "cell_type": "code",
   "execution_count": 9,
   "outputs": [
    {
     "data": {
      "text/plain": "                                                name  \\\n0               Инженер группы технической поддержки   \n1      Специалист группы кадрового администрирования   \n2                                        Оператор 1С   \n3                                        Инженер ПТО   \n4  Водитель в войсковую часть (пункт отбора на во...   \n\n                                       employer_name     experience_name  \\\n0                                           DatsTeam  От 1 года до 3 лет   \n1                                       Почта России           Нет опыта   \n2                                  Стройгарантсервис  От 1 года до 3 лет   \n3                                       Коммунальник       От 3 до 6 лет   \n4  Пункт отбора на военную службу по контракту по...           Нет опыта   \n\n    schedule_name                          key_skills_name  \\\n0  Сменный график                               не указано   \n1     Полный день               оформление трудовых книжек   \n2     Полный день                      первичные документы   \n3     Полный день                                  autocad   \n4     Полный день  водительское удостоверение категории bc   \n\n   accept_handicapped  accept_kids unified_address_city unified_address_state  \\\n0               False        False               Москва                Москва   \n1               False        False               Абакан    Республика Хакасия   \n2               False        False               Москва                Москва   \n3               False        False             unkonown    Краснодарский край   \n4               False        False             unkonown     Калужская область   \n\n          unified_address_region  ... languages_name  \\\n0  Центральный федеральный округ  ...             []   \n1    Сибирский федеральный округ  ...             []   \n2  Центральный федеральный округ  ...             []   \n3        Южный федеральный округ  ...             []   \n4  Центральный федеральный округ  ...             []   \n\n                                     raw_description  \\\n0  Мы разрабатываем рекламные системы с оплатой з...   \n1  Обязанности: Ведение кадрового делопроизводств...   \n2  Условия: • График работы 5/2 с 09.00 до 18.00;...   \n3  В строительную инженерную компанию «КОММУНАЛЬН...   \n4  Обязанности: - знать устройство, правила экспл...   \n\n              lemmaized_wo_stopwords_raw_description if_foreign_language  \\\n0  разрабатывать рекламный система оплата действи...          Не указано   \n1  обязанность ведение кадровый делопроизводство ...          Не указано   \n2  условие график работа 5/2 09.00 18.00;• оформл...          Не указано   \n3  строительный инженерный компания коммунальник ...          Не указано   \n4  обязанность знать устройство правило эксплуата...          Не указано   \n\n  is_branded_description                                         name_clean  \\\n0              заполнено               инженер группа технический поддержка   \n1           не заполнено       специалист группа кадровый администрирование   \n2              заполнено                                        оператор 1с   \n3              заполнено                                        инженер пто   \n4              заполнено  водитель войсковой часть пункт отбор военный с...   \n\n    employment_name employer_industries salary_mean_net  \\\n0  Полная занятость          не указано        80000.00   \n1  Полная занятость   почтовая доставка        19989.12   \n2  Полная занятость               лифты        45000.00   \n3  Полная занятость          не указано        40000.00   \n4  Полная занятость          не указано        37500.00   \n\n  have_raw_branded_description  \n0                         True  \n1                        False  \n2                         True  \n3                         True  \n4                         True  \n\n[5 rows x 23 columns]",
      "text/html": "<div>\n<style scoped>\n    .dataframe tbody tr th:only-of-type {\n        vertical-align: middle;\n    }\n\n    .dataframe tbody tr th {\n        vertical-align: top;\n    }\n\n    .dataframe thead th {\n        text-align: right;\n    }\n</style>\n<table border=\"1\" class=\"dataframe\">\n  <thead>\n    <tr style=\"text-align: right;\">\n      <th></th>\n      <th>name</th>\n      <th>employer_name</th>\n      <th>experience_name</th>\n      <th>schedule_name</th>\n      <th>key_skills_name</th>\n      <th>accept_handicapped</th>\n      <th>accept_kids</th>\n      <th>unified_address_city</th>\n      <th>unified_address_state</th>\n      <th>unified_address_region</th>\n      <th>...</th>\n      <th>languages_name</th>\n      <th>raw_description</th>\n      <th>lemmaized_wo_stopwords_raw_description</th>\n      <th>if_foreign_language</th>\n      <th>is_branded_description</th>\n      <th>name_clean</th>\n      <th>employment_name</th>\n      <th>employer_industries</th>\n      <th>salary_mean_net</th>\n      <th>have_raw_branded_description</th>\n    </tr>\n  </thead>\n  <tbody>\n    <tr>\n      <th>0</th>\n      <td>Инженер группы технической поддержки</td>\n      <td>DatsTeam</td>\n      <td>От 1 года до 3 лет</td>\n      <td>Сменный график</td>\n      <td>не указано</td>\n      <td>False</td>\n      <td>False</td>\n      <td>Москва</td>\n      <td>Москва</td>\n      <td>Центральный федеральный округ</td>\n      <td>...</td>\n      <td>[]</td>\n      <td>Мы разрабатываем рекламные системы с оплатой з...</td>\n      <td>разрабатывать рекламный система оплата действи...</td>\n      <td>Не указано</td>\n      <td>заполнено</td>\n      <td>инженер группа технический поддержка</td>\n      <td>Полная занятость</td>\n      <td>не указано</td>\n      <td>80000.00</td>\n      <td>True</td>\n    </tr>\n    <tr>\n      <th>1</th>\n      <td>Специалист группы кадрового администрирования</td>\n      <td>Почта России</td>\n      <td>Нет опыта</td>\n      <td>Полный день</td>\n      <td>оформление трудовых книжек</td>\n      <td>False</td>\n      <td>False</td>\n      <td>Абакан</td>\n      <td>Республика Хакасия</td>\n      <td>Сибирский федеральный округ</td>\n      <td>...</td>\n      <td>[]</td>\n      <td>Обязанности: Ведение кадрового делопроизводств...</td>\n      <td>обязанность ведение кадровый делопроизводство ...</td>\n      <td>Не указано</td>\n      <td>не заполнено</td>\n      <td>специалист группа кадровый администрирование</td>\n      <td>Полная занятость</td>\n      <td>почтовая доставка</td>\n      <td>19989.12</td>\n      <td>False</td>\n    </tr>\n    <tr>\n      <th>2</th>\n      <td>Оператор 1С</td>\n      <td>Стройгарантсервис</td>\n      <td>От 1 года до 3 лет</td>\n      <td>Полный день</td>\n      <td>первичные документы</td>\n      <td>False</td>\n      <td>False</td>\n      <td>Москва</td>\n      <td>Москва</td>\n      <td>Центральный федеральный округ</td>\n      <td>...</td>\n      <td>[]</td>\n      <td>Условия: • График работы 5/2 с 09.00 до 18.00;...</td>\n      <td>условие график работа 5/2 09.00 18.00;• оформл...</td>\n      <td>Не указано</td>\n      <td>заполнено</td>\n      <td>оператор 1с</td>\n      <td>Полная занятость</td>\n      <td>лифты</td>\n      <td>45000.00</td>\n      <td>True</td>\n    </tr>\n    <tr>\n      <th>3</th>\n      <td>Инженер ПТО</td>\n      <td>Коммунальник</td>\n      <td>От 3 до 6 лет</td>\n      <td>Полный день</td>\n      <td>autocad</td>\n      <td>False</td>\n      <td>False</td>\n      <td>unkonown</td>\n      <td>Краснодарский край</td>\n      <td>Южный федеральный округ</td>\n      <td>...</td>\n      <td>[]</td>\n      <td>В строительную инженерную компанию «КОММУНАЛЬН...</td>\n      <td>строительный инженерный компания коммунальник ...</td>\n      <td>Не указано</td>\n      <td>заполнено</td>\n      <td>инженер пто</td>\n      <td>Полная занятость</td>\n      <td>не указано</td>\n      <td>40000.00</td>\n      <td>True</td>\n    </tr>\n    <tr>\n      <th>4</th>\n      <td>Водитель в войсковую часть (пункт отбора на во...</td>\n      <td>Пункт отбора на военную службу по контракту по...</td>\n      <td>Нет опыта</td>\n      <td>Полный день</td>\n      <td>водительское удостоверение категории bc</td>\n      <td>False</td>\n      <td>False</td>\n      <td>unkonown</td>\n      <td>Калужская область</td>\n      <td>Центральный федеральный округ</td>\n      <td>...</td>\n      <td>[]</td>\n      <td>Обязанности: - знать устройство, правила экспл...</td>\n      <td>обязанность знать устройство правило эксплуата...</td>\n      <td>Не указано</td>\n      <td>заполнено</td>\n      <td>водитель войсковой часть пункт отбор военный с...</td>\n      <td>Полная занятость</td>\n      <td>не указано</td>\n      <td>37500.00</td>\n      <td>True</td>\n    </tr>\n  </tbody>\n</table>\n<p>5 rows × 23 columns</p>\n</div>"
     },
     "execution_count": 9,
     "metadata": {},
     "output_type": "execute_result"
    }
   ],
   "source": [
    "df.head()"
   ],
   "metadata": {
    "collapsed": false,
    "pycharm": {
     "name": "#%%\n"
    }
   }
  },
  {
   "cell_type": "code",
   "execution_count": 10,
   "outputs": [
    {
     "data": {
      "text/plain": "0"
     },
     "execution_count": 10,
     "metadata": {},
     "output_type": "execute_result"
    }
   ],
   "source": [
    "df.isna().sum().sum()"
   ],
   "metadata": {
    "collapsed": false,
    "pycharm": {
     "name": "#%%\n"
    }
   }
  },
  {
   "cell_type": "code",
   "execution_count": 11,
   "outputs": [],
   "source": [
    "df['is_branded_description'] = (df['is_branded_description'] == \"заполнено\")"
   ],
   "metadata": {
    "collapsed": false,
    "pycharm": {
     "name": "#%%\n"
    }
   }
  },
  {
   "cell_type": "code",
   "execution_count": 12,
   "outputs": [],
   "source": [
    "df[\"if_foreign_language\"] = (df[\"if_foreign_language\"] == \"Указано\")"
   ],
   "metadata": {
    "collapsed": false,
    "pycharm": {
     "name": "#%%\n"
    }
   }
  },
  {
   "cell_type": "code",
   "execution_count": 13,
   "outputs": [],
   "source": [
    "df[\"key_skills_name\"] = df[\"key_skills_name\"].apply(lambda x: x if x != \"не указано\" else \"\")"
   ],
   "metadata": {
    "collapsed": false,
    "pycharm": {
     "name": "#%%\n"
    }
   }
  },
  {
   "cell_type": "code",
   "execution_count": 13,
   "outputs": [],
   "source": [],
   "metadata": {
    "collapsed": false,
    "pycharm": {
     "name": "#%%\n"
    }
   }
  },
  {
   "cell_type": "code",
   "execution_count": 14,
   "outputs": [],
   "source": [
    "cat_features = [\"experience_name\", \"schedule_name\", \"unified_address_city\",\n",
    "                \"unified_address_region\", \"unified_address_state\", \"employment_name\"]"
   ],
   "metadata": {
    "collapsed": false,
    "pycharm": {
     "name": "#%%\n"
    }
   }
  },
  {
   "cell_type": "code",
   "execution_count": 15,
   "outputs": [
    {
     "name": "stdout",
     "output_type": "stream",
     "text": [
      "name 29760\n",
      "employer_name 27647\n",
      "experience_name 4\n",
      "schedule_name 5\n",
      "key_skills_name 2938\n",
      "accept_handicapped 2\n",
      "accept_kids 2\n",
      "unified_address_city 209\n",
      "unified_address_state 84\n",
      "unified_address_region 9\n",
      "unified_address_country 1\n",
      "specializations_profarea_name 29\n",
      "professional_roles_name 146\n",
      "languages_name 51\n",
      "raw_description 51928\n",
      "lemmaized_wo_stopwords_raw_description 51689\n",
      "if_foreign_language 2\n",
      "is_branded_description 2\n",
      "name_clean 27998\n",
      "employment_name 5\n",
      "employer_industries 250\n",
      "salary_mean_net 2929\n",
      "have_raw_branded_description 2\n"
     ]
    }
   ],
   "source": [
    "for column in df.columns:\n",
    "    print(column, len(set(df[column])))"
   ],
   "metadata": {
    "collapsed": false,
    "pycharm": {
     "name": "#%%\n"
    }
   }
  },
  {
   "cell_type": "code",
   "execution_count": 15,
   "outputs": [],
   "source": [],
   "metadata": {
    "collapsed": false,
    "pycharm": {
     "name": "#%%\n"
    }
   }
  },
  {
   "cell_type": "code",
   "execution_count": 16,
   "outputs": [],
   "source": [
    "import ast\n",
    "all_lang = []\n",
    "\n",
    "for langs in df[\"languages_name\"].values:\n",
    "    for i in set(ast.literal_eval(langs)):\n",
    "        all_lang.append(i)"
   ],
   "metadata": {
    "collapsed": false,
    "pycharm": {
     "name": "#%%\n"
    }
   }
  },
  {
   "cell_type": "code",
   "execution_count": 17,
   "outputs": [],
   "source": [
    "df[\"len_languages\"] = [len(ast.literal_eval(i)) for i in df.languages_name]"
   ],
   "metadata": {
    "collapsed": false,
    "pycharm": {
     "name": "#%%\n"
    }
   }
  },
  {
   "cell_type": "code",
   "execution_count": 18,
   "outputs": [],
   "source": [
    "def get_first_lang(string):\n",
    "    lst = ast.literal_eval(string)\n",
    "    if len(lst) > 0:\n",
    "        return lst[0]\n",
    "    return \"\"\n",
    "\n",
    "def get_second_lang(string):\n",
    "    lst = ast.literal_eval(string)\n",
    "    if len(lst) > 1:\n",
    "        return lst[1]\n",
    "    return \"\""
   ],
   "metadata": {
    "collapsed": false,
    "pycharm": {
     "name": "#%%\n"
    }
   }
  },
  {
   "cell_type": "code",
   "execution_count": 19,
   "outputs": [],
   "source": [
    "tqdm.pandas()"
   ],
   "metadata": {
    "collapsed": false,
    "pycharm": {
     "name": "#%%\n"
    }
   }
  },
  {
   "cell_type": "code",
   "execution_count": 19,
   "outputs": [],
   "source": [],
   "metadata": {
    "collapsed": false,
    "pycharm": {
     "name": "#%%\n"
    }
   }
  },
  {
   "cell_type": "code",
   "execution_count": 20,
   "outputs": [],
   "source": [
    "df[\"first_lang\"] = df[\"languages_name\"].apply(get_first_lang)\n",
    "df[\"second_lang\"] = df[\"languages_name\"].apply(get_second_lang)\n",
    "cat_features.extend([\"first_lang\", \"second_lang\"])"
   ],
   "metadata": {
    "collapsed": false,
    "pycharm": {
     "name": "#%%\n"
    }
   }
  },
  {
   "cell_type": "code",
   "execution_count": 21,
   "outputs": [],
   "source": [
    "df.drop(\"unified_address_country\", axis=1, inplace=True)"
   ],
   "metadata": {
    "collapsed": false,
    "pycharm": {
     "name": "#%%\n"
    }
   }
  },
  {
   "cell_type": "code",
   "execution_count": 22,
   "outputs": [],
   "source": [
    "df.drop(\"raw_description\", axis=1, inplace=True)"
   ],
   "metadata": {
    "collapsed": false,
    "pycharm": {
     "name": "#%%\n"
    }
   }
  },
  {
   "cell_type": "code",
   "execution_count": 23,
   "outputs": [],
   "source": [
    "df.drop(\"languages_name\", axis=1, inplace=True)"
   ],
   "metadata": {
    "collapsed": false,
    "pycharm": {
     "name": "#%%\n"
    }
   }
  },
  {
   "cell_type": "code",
   "execution_count": 24,
   "outputs": [],
   "source": [
    "df.drop(\"name\", axis=1, inplace=True)"
   ],
   "metadata": {
    "collapsed": false,
    "pycharm": {
     "name": "#%%\n"
    }
   }
  },
  {
   "cell_type": "code",
   "execution_count": 25,
   "outputs": [
    {
     "data": {
      "text/plain": "                                       employer_name     experience_name  \\\n0                                           DatsTeam  От 1 года до 3 лет   \n1                                       Почта России           Нет опыта   \n2                                  Стройгарантсервис  От 1 года до 3 лет   \n3                                       Коммунальник       От 3 до 6 лет   \n4  Пункт отбора на военную службу по контракту по...           Нет опыта   \n\n    schedule_name                          key_skills_name  \\\n0  Сменный график                                            \n1     Полный день               оформление трудовых книжек   \n2     Полный день                      первичные документы   \n3     Полный день                                  autocad   \n4     Полный день  водительское удостоверение категории bc   \n\n   accept_handicapped  accept_kids unified_address_city unified_address_state  \\\n0               False        False               Москва                Москва   \n1               False        False               Абакан    Республика Хакасия   \n2               False        False               Москва                Москва   \n3               False        False             unkonown    Краснодарский край   \n4               False        False             unkonown     Калужская область   \n\n          unified_address_region specializations_profarea_name  ...  \\\n0  Центральный федеральный округ     информационные технологии  ...   \n1    Сибирский федеральный округ                    не указано  ...   \n2  Центральный федеральный округ                    не указано  ...   \n3        Южный федеральный округ                 строительство  ...   \n4  Центральный федеральный округ                    не указано  ...   \n\n  if_foreign_language is_branded_description  \\\n0               False                   True   \n1               False                  False   \n2               False                   True   \n3               False                   True   \n4               False                   True   \n\n                                          name_clean   employment_name  \\\n0               инженер группа технический поддержка  Полная занятость   \n1       специалист группа кадровый администрирование  Полная занятость   \n2                                        оператор 1с  Полная занятость   \n3                                        инженер пто  Полная занятость   \n4  водитель войсковой часть пункт отбор военный с...  Полная занятость   \n\n  employer_industries salary_mean_net have_raw_branded_description  \\\n0          не указано        80000.00                         True   \n1   почтовая доставка        19989.12                        False   \n2               лифты        45000.00                         True   \n3          не указано        40000.00                         True   \n4          не указано        37500.00                         True   \n\n   len_languages  first_lang  second_lang  \n0              0                           \n1              0                           \n2              0                           \n3              0                           \n4              0                           \n\n[5 rows x 22 columns]",
      "text/html": "<div>\n<style scoped>\n    .dataframe tbody tr th:only-of-type {\n        vertical-align: middle;\n    }\n\n    .dataframe tbody tr th {\n        vertical-align: top;\n    }\n\n    .dataframe thead th {\n        text-align: right;\n    }\n</style>\n<table border=\"1\" class=\"dataframe\">\n  <thead>\n    <tr style=\"text-align: right;\">\n      <th></th>\n      <th>employer_name</th>\n      <th>experience_name</th>\n      <th>schedule_name</th>\n      <th>key_skills_name</th>\n      <th>accept_handicapped</th>\n      <th>accept_kids</th>\n      <th>unified_address_city</th>\n      <th>unified_address_state</th>\n      <th>unified_address_region</th>\n      <th>specializations_profarea_name</th>\n      <th>...</th>\n      <th>if_foreign_language</th>\n      <th>is_branded_description</th>\n      <th>name_clean</th>\n      <th>employment_name</th>\n      <th>employer_industries</th>\n      <th>salary_mean_net</th>\n      <th>have_raw_branded_description</th>\n      <th>len_languages</th>\n      <th>first_lang</th>\n      <th>second_lang</th>\n    </tr>\n  </thead>\n  <tbody>\n    <tr>\n      <th>0</th>\n      <td>DatsTeam</td>\n      <td>От 1 года до 3 лет</td>\n      <td>Сменный график</td>\n      <td></td>\n      <td>False</td>\n      <td>False</td>\n      <td>Москва</td>\n      <td>Москва</td>\n      <td>Центральный федеральный округ</td>\n      <td>информационные технологии</td>\n      <td>...</td>\n      <td>False</td>\n      <td>True</td>\n      <td>инженер группа технический поддержка</td>\n      <td>Полная занятость</td>\n      <td>не указано</td>\n      <td>80000.00</td>\n      <td>True</td>\n      <td>0</td>\n      <td></td>\n      <td></td>\n    </tr>\n    <tr>\n      <th>1</th>\n      <td>Почта России</td>\n      <td>Нет опыта</td>\n      <td>Полный день</td>\n      <td>оформление трудовых книжек</td>\n      <td>False</td>\n      <td>False</td>\n      <td>Абакан</td>\n      <td>Республика Хакасия</td>\n      <td>Сибирский федеральный округ</td>\n      <td>не указано</td>\n      <td>...</td>\n      <td>False</td>\n      <td>False</td>\n      <td>специалист группа кадровый администрирование</td>\n      <td>Полная занятость</td>\n      <td>почтовая доставка</td>\n      <td>19989.12</td>\n      <td>False</td>\n      <td>0</td>\n      <td></td>\n      <td></td>\n    </tr>\n    <tr>\n      <th>2</th>\n      <td>Стройгарантсервис</td>\n      <td>От 1 года до 3 лет</td>\n      <td>Полный день</td>\n      <td>первичные документы</td>\n      <td>False</td>\n      <td>False</td>\n      <td>Москва</td>\n      <td>Москва</td>\n      <td>Центральный федеральный округ</td>\n      <td>не указано</td>\n      <td>...</td>\n      <td>False</td>\n      <td>True</td>\n      <td>оператор 1с</td>\n      <td>Полная занятость</td>\n      <td>лифты</td>\n      <td>45000.00</td>\n      <td>True</td>\n      <td>0</td>\n      <td></td>\n      <td></td>\n    </tr>\n    <tr>\n      <th>3</th>\n      <td>Коммунальник</td>\n      <td>От 3 до 6 лет</td>\n      <td>Полный день</td>\n      <td>autocad</td>\n      <td>False</td>\n      <td>False</td>\n      <td>unkonown</td>\n      <td>Краснодарский край</td>\n      <td>Южный федеральный округ</td>\n      <td>строительство</td>\n      <td>...</td>\n      <td>False</td>\n      <td>True</td>\n      <td>инженер пто</td>\n      <td>Полная занятость</td>\n      <td>не указано</td>\n      <td>40000.00</td>\n      <td>True</td>\n      <td>0</td>\n      <td></td>\n      <td></td>\n    </tr>\n    <tr>\n      <th>4</th>\n      <td>Пункт отбора на военную службу по контракту по...</td>\n      <td>Нет опыта</td>\n      <td>Полный день</td>\n      <td>водительское удостоверение категории bc</td>\n      <td>False</td>\n      <td>False</td>\n      <td>unkonown</td>\n      <td>Калужская область</td>\n      <td>Центральный федеральный округ</td>\n      <td>не указано</td>\n      <td>...</td>\n      <td>False</td>\n      <td>True</td>\n      <td>водитель войсковой часть пункт отбор военный с...</td>\n      <td>Полная занятость</td>\n      <td>не указано</td>\n      <td>37500.00</td>\n      <td>True</td>\n      <td>0</td>\n      <td></td>\n      <td></td>\n    </tr>\n  </tbody>\n</table>\n<p>5 rows × 22 columns</p>\n</div>"
     },
     "execution_count": 25,
     "metadata": {},
     "output_type": "execute_result"
    }
   ],
   "source": [
    "df.head()"
   ],
   "metadata": {
    "collapsed": false,
    "pycharm": {
     "name": "#%%\n"
    }
   }
  },
  {
   "cell_type": "code",
   "execution_count": 26,
   "outputs": [
    {
     "data": {
      "text/plain": "0                                               \n1                     оформление трудовых книжек\n2                            первичные документы\n3                                        autocad\n4        водительское удостоверение категории bc\n                          ...                   \n61309                                           \n61310                                           \n61311                         работа с клиентами\n61312                                           \n61313              навыки межличностного общения\nName: key_skills_name, Length: 61314, dtype: object"
     },
     "execution_count": 26,
     "metadata": {},
     "output_type": "execute_result"
    }
   ],
   "source": [
    "df.key_skills_name"
   ],
   "metadata": {
    "collapsed": false,
    "pycharm": {
     "name": "#%%\n"
    }
   }
  },
  {
   "cell_type": "code",
   "execution_count": 26,
   "outputs": [],
   "source": [],
   "metadata": {
    "collapsed": false,
    "pycharm": {
     "name": "#%%\n"
    }
   }
  },
  {
   "cell_type": "code",
   "execution_count": 27,
   "outputs": [],
   "source": [
    "text_features = [\"employer_name\", \"key_skills_name\", \"specializations_profarea_name\",\n",
    "                 \"professional_roles_name\", \"lemmaized_wo_stopwords_raw_description\",\n",
    "                 \"name_clean\", \"employer_industries\"]"
   ],
   "metadata": {
    "collapsed": false,
    "pycharm": {
     "name": "#%%\n"
    }
   }
  },
  {
   "cell_type": "code",
   "execution_count": 28,
   "outputs": [
    {
     "data": {
      "text/plain": "0                  не указано\n1           почтовая доставка\n2                       лифты\n3                  не указано\n4                  не указано\n                 ...         \n61309              не указано\n61310              не указано\n61311              не указано\n61312              не указано\n61313    общественное питание\nName: employer_industries, Length: 61314, dtype: object"
     },
     "execution_count": 28,
     "metadata": {},
     "output_type": "execute_result"
    }
   ],
   "source": [
    "df.employer_industries"
   ],
   "metadata": {
    "collapsed": false,
    "pycharm": {
     "name": "#%%\n"
    }
   }
  },
  {
   "cell_type": "markdown",
   "source": [
    "## добавляем tfidf"
   ],
   "metadata": {
    "collapsed": false,
    "pycharm": {
     "name": "#%% md\n"
    }
   }
  },
  {
   "cell_type": "code",
   "execution_count": 29,
   "outputs": [],
   "source": [
    "from sklearn.feature_extraction.text import TfidfVectorizer\n",
    "from sklearn.decomposition import PCA, TruncatedSVD\n",
    "\n",
    "\n",
    "def vectorize_column(df, column_name, num_features=None, vectorizer=None, demension_reducer=None):\n",
    "    df = df.copy()\n",
    "\n",
    "    if vectorizer is None:\n",
    "        vectorizer = TfidfVectorizer(max_features=num_features)\n",
    "        res_emb = vectorizer.fit_transform(df[column_name]).toarray()\n",
    "    else:\n",
    "        res_emb = vectorizer.transform(df[column_name]).toarray()\n",
    "\n",
    "\n",
    "    if demension_reducer is not None:\n",
    "        res_emb = demension_reducer.fit_transform(res_emb)\n",
    "\n",
    "    tfidf_inter_df = pd.DataFrame(res_emb, columns=[f\"tfidf_{column_name}_{i}\" for i in range(res_emb.shape[1])]).set_index(df.index)\n",
    "\n",
    "    result_dataset = pd.concat([df, tfidf_inter_df], axis=1)\n",
    "\n",
    "    return vectorizer, demension_reducer, result_dataset"
   ],
   "metadata": {
    "collapsed": false,
    "pycharm": {
     "name": "#%%\n"
    }
   }
  },
  {
   "cell_type": "code",
   "execution_count": 30,
   "outputs": [
    {
     "name": "stdout",
     "output_type": "stream",
     "text": [
      "text column: employer_name\n",
      "text column: key_skills_name\n",
      "text column: specializations_profarea_name\n",
      "text column: professional_roles_name\n",
      "text column: lemmaized_wo_stopwords_raw_description\n",
      "text column: name_clean\n",
      "text column: employer_industries\n"
     ]
    }
   ],
   "source": [
    "from sklearn.decomposition import PCA\n",
    "from sklearn.manifold import TSNE\n",
    "\n",
    "dict_vectorizers = dict()\n",
    "dict_pcas = dict()\n",
    "\n",
    "for text_column in text_features:\n",
    "    print(f\"text column: {text_column}\")\n",
    "    vectorizer, pca, df = vectorize_column(df, text_column, num_features=100, demension_reducer=PCA(n_components=10))\n",
    "\n",
    "    dict_vectorizers[text_column] = vectorizer\n",
    "    dict_pcas[text_column] = pca"
   ],
   "metadata": {
    "collapsed": false,
    "pycharm": {
     "name": "#%%\n"
    }
   }
  },
  {
   "cell_type": "code",
   "execution_count": 30,
   "outputs": [],
   "source": [],
   "metadata": {
    "collapsed": false,
    "pycharm": {
     "name": "#%%\n"
    }
   }
  },
  {
   "cell_type": "code",
   "execution_count": 30,
   "outputs": [],
   "source": [],
   "metadata": {
    "collapsed": false,
    "pycharm": {
     "name": "#%%\n"
    }
   }
  },
  {
   "cell_type": "markdown",
   "source": [
    "## get bert embeddings"
   ],
   "metadata": {
    "collapsed": false,
    "pycharm": {
     "name": "#%% md\n"
    }
   }
  },
  {
   "cell_type": "code",
   "execution_count": 183,
   "outputs": [],
   "source": [
    " df[\"full_text\"] = df[\"employer_name\"].fillna(\"\") + \" \"  + df[\"key_skills_name\"].fillna(\"\") + \" \" + df[\"professional_roles_name\"].fillna(\"\")"
   ],
   "metadata": {
    "collapsed": false,
    "pycharm": {
     "name": "#%%\n"
    }
   }
  },
  {
   "cell_type": "code",
   "execution_count": 184,
   "outputs": [],
   "source": [
    "import torch\n",
    "from transformers import AutoTokenizer, AutoModel\n",
    "device=\"cuda\"\n",
    "tokenizer = AutoTokenizer.from_pretrained(\"cointegrated/rubert-tiny\")\n",
    "model = AutoModel.from_pretrained(\"cointegrated/rubert-tiny\").to(device)\n",
    "# model.cuda()  # uncomment it if you have a GPU\n",
    "\n",
    "def embed_bert_cls(text, model, tokenizer):\n",
    "    t = tokenizer(text, padding=True, truncation=True, return_tensors='pt')\n",
    "    with torch.no_grad():\n",
    "        model_output = model(**{k: v.to(model.device) for k, v in t.items()})\n",
    "    embeddings = model_output.last_hidden_state[:, 0, :]\n",
    "    embeddings = torch.nn.functional.normalize(embeddings)\n",
    "    return embeddings[0].cpu().numpy()"
   ],
   "metadata": {
    "collapsed": false,
    "pycharm": {
     "name": "#%%\n"
    }
   }
  },
  {
   "cell_type": "code",
   "execution_count": 185,
   "outputs": [
    {
     "data": {
      "text/plain": "  0%|          | 0/61314 [00:00<?, ?it/s]",
      "application/vnd.jupyter.widget-view+json": {
       "version_major": 2,
       "version_minor": 0,
       "model_id": "ea1133790fb34ddd90801fdb32fb88d9"
      }
     },
     "metadata": {},
     "output_type": "display_data"
    }
   ],
   "source": [
    "embeddings = np.array([embed_bert_cls(text, model, tokenizer) for text in tqdm(df.full_text)])"
   ],
   "metadata": {
    "collapsed": false,
    "pycharm": {
     "name": "#%%\n"
    }
   }
  },
  {
   "cell_type": "code",
   "execution_count": 187,
   "outputs": [],
   "source": [
    "word2vec_pca = PCA(n_components=128)\n",
    "new_emb = word2vec_pca.fit_transform(embeddings)"
   ],
   "metadata": {
    "collapsed": false,
    "pycharm": {
     "name": "#%%\n"
    }
   }
  },
  {
   "cell_type": "code",
   "execution_count": 188,
   "outputs": [],
   "source": [
    "emb_df = pd.DataFrame(new_emb, columns=[f\"word2vec_emb_pca_{i}\" for i in range(new_emb.shape[1])])\n",
    "df = pd.concat([df, emb_df], axis=1)"
   ],
   "metadata": {
    "collapsed": false,
    "pycharm": {
     "name": "#%%\n"
    }
   }
  },
  {
   "cell_type": "code",
   "execution_count": 190,
   "outputs": [],
   "source": [
    "df.drop(\"full_text\", axis=1, inplace=True)"
   ],
   "metadata": {
    "collapsed": false,
    "pycharm": {
     "name": "#%%\n"
    }
   }
  },
  {
   "cell_type": "code",
   "execution_count": null,
   "outputs": [],
   "source": [],
   "metadata": {
    "collapsed": false,
    "pycharm": {
     "name": "#%%\n"
    }
   }
  },
  {
   "cell_type": "markdown",
   "source": [
    "## время тренировки"
   ],
   "metadata": {
    "collapsed": false,
    "pycharm": {
     "name": "#%% md\n"
    }
   },
   "execution_count": 31
  },
  {
   "cell_type": "code",
   "execution_count": 79,
   "outputs": [],
   "source": [
    "from sklearn.model_selection import  train_test_split\n",
    "from catboost import Pool\n",
    "\n",
    "X, y = df.drop(\"salary_mean_net\", axis=1), df.salary_mean_net\n",
    "X_train, X_test, y_train, y_test = train_test_split(X, y, test_size=0.1, random_state=42)\n",
    "\n",
    "# y_train_log = np.log(y_train)\n",
    "# y_test_log = np.log(y_test)\n",
    "\n",
    "train_data = Pool(data=X_train, label=y_train, cat_features=cat_features, text_features=text_features)\n",
    "test_data = Pool(data=X_test, label=y_test, cat_features=cat_features, text_features=text_features)\n"
   ],
   "metadata": {
    "collapsed": false,
    "pycharm": {
     "name": "#%%\n"
    }
   }
  },
  {
   "cell_type": "code",
   "execution_count": 86,
   "outputs": [],
   "source": [
    "from catboost import CatBoostRegressor\n",
    "clf = CatBoostRegressor(loss_function=\"RMSE\",\n",
    "                        eval_metric=\"MAPE\", n_estimators=500,\n",
    "                        task_type=\"GPU\") # one_hot_max_size=209)"
   ],
   "metadata": {
    "collapsed": false,
    "pycharm": {
     "name": "#%%\n"
    }
   }
  },
  {
   "cell_type": "code",
   "execution_count": 87,
   "outputs": [
    {
     "name": "stdout",
     "output_type": "stream",
     "text": [
      "Learning rate set to 0.116686\n",
      "0:\tlearn: 0.5329429\ttest: 0.5278923\tbest: 0.5278923 (0)\ttotal: 208ms\tremaining: 1m 43s\n",
      "1:\tlearn: 0.5102588\ttest: 0.5059965\tbest: 0.5059965 (1)\ttotal: 315ms\tremaining: 1m 18s\n",
      "2:\tlearn: 0.4923522\ttest: 0.4887814\tbest: 0.4887814 (2)\ttotal: 381ms\tremaining: 1m 3s\n",
      "3:\tlearn: 0.4751507\ttest: 0.4722409\tbest: 0.4722409 (3)\ttotal: 449ms\tremaining: 55.7s\n",
      "4:\tlearn: 0.4608589\ttest: 0.4587869\tbest: 0.4587869 (4)\ttotal: 522ms\tremaining: 51.6s\n",
      "5:\tlearn: 0.4482691\ttest: 0.4466489\tbest: 0.4466489 (5)\ttotal: 593ms\tremaining: 48.8s\n",
      "6:\tlearn: 0.4391700\ttest: 0.4378883\tbest: 0.4378883 (6)\ttotal: 645ms\tremaining: 45.4s\n",
      "7:\tlearn: 0.4275382\ttest: 0.4271155\tbest: 0.4271155 (7)\ttotal: 715ms\tremaining: 44s\n",
      "8:\tlearn: 0.4189565\ttest: 0.4191945\tbest: 0.4191945 (8)\ttotal: 777ms\tremaining: 42.4s\n",
      "9:\tlearn: 0.4111039\ttest: 0.4114568\tbest: 0.4114568 (9)\ttotal: 826ms\tremaining: 40.5s\n",
      "10:\tlearn: 0.4056862\ttest: 0.4063685\tbest: 0.4063685 (10)\ttotal: 865ms\tremaining: 38.5s\n",
      "11:\tlearn: 0.4000455\ttest: 0.4012593\tbest: 0.4012593 (11)\ttotal: 913ms\tremaining: 37.1s\n",
      "12:\tlearn: 0.3942834\ttest: 0.3956672\tbest: 0.3956672 (12)\ttotal: 951ms\tremaining: 35.6s\n",
      "13:\tlearn: 0.3883917\ttest: 0.3895301\tbest: 0.3895301 (13)\ttotal: 1.01s\tremaining: 35.1s\n",
      "14:\tlearn: 0.3834256\ttest: 0.3843479\tbest: 0.3843479 (14)\ttotal: 1.07s\tremaining: 34.7s\n",
      "15:\tlearn: 0.3789315\ttest: 0.3804095\tbest: 0.3804095 (15)\ttotal: 1.12s\tremaining: 33.9s\n",
      "16:\tlearn: 0.3760591\ttest: 0.3777958\tbest: 0.3777958 (16)\ttotal: 1.16s\tremaining: 33.1s\n",
      "17:\tlearn: 0.3729829\ttest: 0.3748507\tbest: 0.3748507 (17)\ttotal: 1.2s\tremaining: 32.2s\n",
      "18:\tlearn: 0.3683629\ttest: 0.3700155\tbest: 0.3700155 (18)\ttotal: 1.26s\tremaining: 32s\n",
      "19:\tlearn: 0.3639046\ttest: 0.3653083\tbest: 0.3653083 (19)\ttotal: 1.33s\tremaining: 32.1s\n",
      "20:\tlearn: 0.3619352\ttest: 0.3636614\tbest: 0.3636614 (20)\ttotal: 1.38s\tremaining: 31.4s\n",
      "21:\tlearn: 0.3599143\ttest: 0.3617842\tbest: 0.3617842 (21)\ttotal: 1.42s\tremaining: 30.8s\n",
      "22:\tlearn: 0.3569021\ttest: 0.3586660\tbest: 0.3586660 (22)\ttotal: 1.48s\tremaining: 30.7s\n",
      "23:\tlearn: 0.3545736\ttest: 0.3565143\tbest: 0.3565143 (23)\ttotal: 1.52s\tremaining: 30.2s\n",
      "24:\tlearn: 0.3525713\ttest: 0.3546732\tbest: 0.3546732 (24)\ttotal: 1.56s\tremaining: 29.7s\n",
      "25:\tlearn: 0.3511462\ttest: 0.3533801\tbest: 0.3533801 (25)\ttotal: 1.6s\tremaining: 29.2s\n",
      "26:\tlearn: 0.3484264\ttest: 0.3510387\tbest: 0.3510387 (26)\ttotal: 1.65s\tremaining: 28.8s\n",
      "27:\tlearn: 0.3464098\ttest: 0.3490988\tbest: 0.3490988 (27)\ttotal: 1.68s\tremaining: 28.4s\n",
      "28:\tlearn: 0.3447190\ttest: 0.3473502\tbest: 0.3473502 (28)\ttotal: 1.72s\tremaining: 28s\n",
      "29:\tlearn: 0.3427767\ttest: 0.3455840\tbest: 0.3455840 (29)\ttotal: 1.76s\tremaining: 27.6s\n",
      "30:\tlearn: 0.3405885\ttest: 0.3434719\tbest: 0.3434719 (30)\ttotal: 1.8s\tremaining: 27.3s\n",
      "31:\tlearn: 0.3395701\ttest: 0.3425307\tbest: 0.3425307 (31)\ttotal: 1.84s\tremaining: 26.9s\n",
      "32:\tlearn: 0.3381591\ttest: 0.3412798\tbest: 0.3412798 (32)\ttotal: 1.88s\tremaining: 26.6s\n",
      "33:\tlearn: 0.3371143\ttest: 0.3403869\tbest: 0.3403869 (33)\ttotal: 1.91s\tremaining: 26.2s\n",
      "34:\tlearn: 0.3356979\ttest: 0.3391514\tbest: 0.3391514 (34)\ttotal: 1.95s\tremaining: 26s\n",
      "35:\tlearn: 0.3346170\ttest: 0.3381450\tbest: 0.3381450 (35)\ttotal: 1.99s\tremaining: 25.7s\n",
      "36:\tlearn: 0.3335465\ttest: 0.3373208\tbest: 0.3373208 (36)\ttotal: 2.03s\tremaining: 25.4s\n",
      "37:\tlearn: 0.3314909\ttest: 0.3351555\tbest: 0.3351555 (37)\ttotal: 2.1s\tremaining: 25.5s\n",
      "38:\tlearn: 0.3307491\ttest: 0.3345649\tbest: 0.3345649 (38)\ttotal: 2.13s\tremaining: 25.2s\n",
      "39:\tlearn: 0.3295471\ttest: 0.3334653\tbest: 0.3334653 (39)\ttotal: 2.17s\tremaining: 24.9s\n",
      "40:\tlearn: 0.3286697\ttest: 0.3328269\tbest: 0.3328269 (40)\ttotal: 2.2s\tremaining: 24.6s\n",
      "41:\tlearn: 0.3278614\ttest: 0.3321046\tbest: 0.3321046 (41)\ttotal: 2.24s\tremaining: 24.4s\n",
      "42:\tlearn: 0.3262494\ttest: 0.3304759\tbest: 0.3304759 (42)\ttotal: 2.31s\tremaining: 24.6s\n",
      "43:\tlearn: 0.3255270\ttest: 0.3299309\tbest: 0.3299309 (43)\ttotal: 2.35s\tremaining: 24.4s\n",
      "44:\tlearn: 0.3246633\ttest: 0.3290884\tbest: 0.3290884 (44)\ttotal: 2.39s\tremaining: 24.2s\n",
      "45:\tlearn: 0.3234749\ttest: 0.3279881\tbest: 0.3279881 (45)\ttotal: 2.42s\tremaining: 23.9s\n",
      "46:\tlearn: 0.3223522\ttest: 0.3270014\tbest: 0.3270014 (46)\ttotal: 2.46s\tremaining: 23.7s\n",
      "47:\tlearn: 0.3212987\ttest: 0.3261029\tbest: 0.3261029 (47)\ttotal: 2.5s\tremaining: 23.5s\n",
      "48:\tlearn: 0.3202996\ttest: 0.3250324\tbest: 0.3250324 (48)\ttotal: 2.54s\tremaining: 23.4s\n",
      "49:\tlearn: 0.3193952\ttest: 0.3241921\tbest: 0.3241921 (49)\ttotal: 2.59s\tremaining: 23.3s\n",
      "50:\tlearn: 0.3180798\ttest: 0.3231134\tbest: 0.3231134 (50)\ttotal: 2.65s\tremaining: 23.3s\n",
      "51:\tlearn: 0.3173888\ttest: 0.3225957\tbest: 0.3225957 (51)\ttotal: 2.68s\tremaining: 23.1s\n",
      "52:\tlearn: 0.3161751\ttest: 0.3215024\tbest: 0.3215024 (52)\ttotal: 2.73s\tremaining: 23s\n",
      "53:\tlearn: 0.3152874\ttest: 0.3208075\tbest: 0.3208075 (53)\ttotal: 2.76s\tremaining: 22.8s\n",
      "54:\tlearn: 0.3149491\ttest: 0.3206388\tbest: 0.3206388 (54)\ttotal: 2.79s\tremaining: 22.6s\n",
      "55:\tlearn: 0.3141678\ttest: 0.3199456\tbest: 0.3199456 (55)\ttotal: 2.83s\tremaining: 22.4s\n",
      "56:\tlearn: 0.3133286\ttest: 0.3192291\tbest: 0.3192291 (56)\ttotal: 2.87s\tremaining: 22.3s\n",
      "57:\tlearn: 0.3128247\ttest: 0.3187650\tbest: 0.3187650 (57)\ttotal: 2.91s\tremaining: 22.2s\n",
      "58:\tlearn: 0.3115489\ttest: 0.3175131\tbest: 0.3175131 (58)\ttotal: 2.99s\tremaining: 22.3s\n",
      "59:\tlearn: 0.3110504\ttest: 0.3170409\tbest: 0.3170409 (59)\ttotal: 3.02s\tremaining: 22.2s\n",
      "60:\tlearn: 0.3105561\ttest: 0.3165522\tbest: 0.3165522 (60)\ttotal: 3.06s\tremaining: 22s\n",
      "61:\tlearn: 0.3100714\ttest: 0.3162069\tbest: 0.3162069 (61)\ttotal: 3.09s\tremaining: 21.8s\n",
      "62:\tlearn: 0.3092398\ttest: 0.3155503\tbest: 0.3155503 (62)\ttotal: 3.13s\tremaining: 21.7s\n",
      "63:\tlearn: 0.3086484\ttest: 0.3149921\tbest: 0.3149921 (63)\ttotal: 3.17s\tremaining: 21.6s\n",
      "64:\tlearn: 0.3082423\ttest: 0.3146765\tbest: 0.3146765 (64)\ttotal: 3.21s\tremaining: 21.5s\n",
      "65:\tlearn: 0.3078252\ttest: 0.3144278\tbest: 0.3144278 (65)\ttotal: 3.24s\tremaining: 21.3s\n",
      "66:\tlearn: 0.3072237\ttest: 0.3141883\tbest: 0.3141883 (66)\ttotal: 3.28s\tremaining: 21.2s\n",
      "67:\tlearn: 0.3062590\ttest: 0.3132195\tbest: 0.3132195 (67)\ttotal: 3.34s\tremaining: 21.2s\n",
      "68:\tlearn: 0.3056897\ttest: 0.3127304\tbest: 0.3127304 (68)\ttotal: 3.38s\tremaining: 21.1s\n",
      "69:\tlearn: 0.3053663\ttest: 0.3124806\tbest: 0.3124806 (69)\ttotal: 3.41s\tremaining: 21s\n",
      "70:\tlearn: 0.3050947\ttest: 0.3122407\tbest: 0.3122407 (70)\ttotal: 3.45s\tremaining: 20.9s\n",
      "71:\tlearn: 0.3047520\ttest: 0.3120124\tbest: 0.3120124 (71)\ttotal: 3.49s\tremaining: 20.8s\n",
      "72:\tlearn: 0.3043881\ttest: 0.3117311\tbest: 0.3117311 (72)\ttotal: 3.53s\tremaining: 20.6s\n",
      "73:\tlearn: 0.3039928\ttest: 0.3113332\tbest: 0.3113332 (73)\ttotal: 3.56s\tremaining: 20.5s\n",
      "74:\tlearn: 0.3037574\ttest: 0.3111552\tbest: 0.3111552 (74)\ttotal: 3.6s\tremaining: 20.4s\n",
      "75:\tlearn: 0.3034605\ttest: 0.3109506\tbest: 0.3109506 (75)\ttotal: 3.63s\tremaining: 20.3s\n",
      "76:\tlearn: 0.3031625\ttest: 0.3106612\tbest: 0.3106612 (76)\ttotal: 3.67s\tremaining: 20.2s\n",
      "77:\tlearn: 0.3026409\ttest: 0.3101417\tbest: 0.3101417 (77)\ttotal: 3.71s\tremaining: 20.1s\n",
      "78:\tlearn: 0.3021976\ttest: 0.3097422\tbest: 0.3097422 (78)\ttotal: 3.76s\tremaining: 20s\n",
      "79:\tlearn: 0.3018959\ttest: 0.3095947\tbest: 0.3095947 (79)\ttotal: 3.8s\tremaining: 19.9s\n",
      "80:\tlearn: 0.3013486\ttest: 0.3091858\tbest: 0.3091858 (80)\ttotal: 3.84s\tremaining: 19.9s\n",
      "81:\tlearn: 0.3009859\ttest: 0.3088615\tbest: 0.3088615 (81)\ttotal: 3.88s\tremaining: 19.8s\n",
      "82:\tlearn: 0.3008210\ttest: 0.3087631\tbest: 0.3087631 (82)\ttotal: 3.91s\tremaining: 19.6s\n",
      "83:\tlearn: 0.3005240\ttest: 0.3085869\tbest: 0.3085869 (83)\ttotal: 3.95s\tremaining: 19.6s\n",
      "84:\tlearn: 0.3000764\ttest: 0.3082034\tbest: 0.3082034 (84)\ttotal: 4s\tremaining: 19.5s\n",
      "85:\tlearn: 0.2996342\ttest: 0.3079674\tbest: 0.3079674 (85)\ttotal: 4.04s\tremaining: 19.4s\n",
      "86:\tlearn: 0.2992489\ttest: 0.3075871\tbest: 0.3075871 (86)\ttotal: 4.08s\tremaining: 19.4s\n",
      "87:\tlearn: 0.2989400\ttest: 0.3074132\tbest: 0.3074132 (87)\ttotal: 4.14s\tremaining: 19.4s\n",
      "88:\tlearn: 0.2987667\ttest: 0.3072680\tbest: 0.3072680 (88)\ttotal: 4.17s\tremaining: 19.3s\n",
      "89:\tlearn: 0.2979833\ttest: 0.3066410\tbest: 0.3066410 (89)\ttotal: 4.22s\tremaining: 19.2s\n",
      "90:\tlearn: 0.2977972\ttest: 0.3064646\tbest: 0.3064646 (90)\ttotal: 4.25s\tremaining: 19.1s\n",
      "91:\tlearn: 0.2971140\ttest: 0.3058113\tbest: 0.3058113 (91)\ttotal: 4.3s\tremaining: 19.1s\n",
      "92:\tlearn: 0.2966352\ttest: 0.3053270\tbest: 0.3053270 (92)\ttotal: 4.34s\tremaining: 19s\n",
      "93:\tlearn: 0.2964374\ttest: 0.3051785\tbest: 0.3051785 (93)\ttotal: 4.38s\tremaining: 18.9s\n",
      "94:\tlearn: 0.2962950\ttest: 0.3050148\tbest: 0.3050148 (94)\ttotal: 4.42s\tremaining: 18.8s\n",
      "95:\tlearn: 0.2959766\ttest: 0.3047899\tbest: 0.3047899 (95)\ttotal: 4.46s\tremaining: 18.8s\n",
      "96:\tlearn: 0.2956783\ttest: 0.3046124\tbest: 0.3046124 (96)\ttotal: 4.5s\tremaining: 18.7s\n",
      "97:\tlearn: 0.2952944\ttest: 0.3043211\tbest: 0.3043211 (97)\ttotal: 4.54s\tremaining: 18.6s\n",
      "98:\tlearn: 0.2950821\ttest: 0.3042211\tbest: 0.3042211 (98)\ttotal: 4.58s\tremaining: 18.6s\n",
      "99:\tlearn: 0.2948341\ttest: 0.3040063\tbest: 0.3040063 (99)\ttotal: 4.63s\tremaining: 18.5s\n",
      "100:\tlearn: 0.2944075\ttest: 0.3035164\tbest: 0.3035164 (100)\ttotal: 4.67s\tremaining: 18.4s\n",
      "101:\tlearn: 0.2939867\ttest: 0.3031836\tbest: 0.3031836 (101)\ttotal: 4.71s\tremaining: 18.4s\n",
      "102:\tlearn: 0.2936003\ttest: 0.3028111\tbest: 0.3028111 (102)\ttotal: 4.75s\tremaining: 18.3s\n",
      "103:\tlearn: 0.2933563\ttest: 0.3025487\tbest: 0.3025487 (103)\ttotal: 4.79s\tremaining: 18.2s\n",
      "104:\tlearn: 0.2926052\ttest: 0.3017322\tbest: 0.3017322 (104)\ttotal: 4.85s\tremaining: 18.2s\n",
      "105:\tlearn: 0.2923891\ttest: 0.3015144\tbest: 0.3015144 (105)\ttotal: 4.89s\tremaining: 18.2s\n",
      "106:\tlearn: 0.2921857\ttest: 0.3012927\tbest: 0.3012927 (106)\ttotal: 4.93s\tremaining: 18.1s\n",
      "107:\tlearn: 0.2918694\ttest: 0.3010679\tbest: 0.3010679 (107)\ttotal: 4.97s\tremaining: 18s\n",
      "108:\tlearn: 0.2916558\ttest: 0.3009086\tbest: 0.3009086 (108)\ttotal: 5.01s\tremaining: 18s\n",
      "109:\tlearn: 0.2912822\ttest: 0.3005760\tbest: 0.3005760 (109)\ttotal: 5.05s\tremaining: 17.9s\n",
      "110:\tlearn: 0.2911135\ttest: 0.3004383\tbest: 0.3004383 (110)\ttotal: 5.09s\tremaining: 17.8s\n",
      "111:\tlearn: 0.2909616\ttest: 0.3002714\tbest: 0.3002714 (111)\ttotal: 5.13s\tremaining: 17.8s\n",
      "112:\tlearn: 0.2907213\ttest: 0.3000793\tbest: 0.3000793 (112)\ttotal: 5.17s\tremaining: 17.7s\n",
      "113:\tlearn: 0.2906088\ttest: 0.2999859\tbest: 0.2999859 (113)\ttotal: 5.21s\tremaining: 17.6s\n",
      "114:\tlearn: 0.2901940\ttest: 0.2997195\tbest: 0.2997195 (114)\ttotal: 5.26s\tremaining: 17.6s\n",
      "115:\tlearn: 0.2900011\ttest: 0.2995852\tbest: 0.2995852 (115)\ttotal: 5.29s\tremaining: 17.5s\n",
      "116:\tlearn: 0.2897259\ttest: 0.2995298\tbest: 0.2995298 (116)\ttotal: 5.33s\tremaining: 17.5s\n",
      "117:\tlearn: 0.2895884\ttest: 0.2994266\tbest: 0.2994266 (117)\ttotal: 5.38s\tremaining: 17.4s\n",
      "118:\tlearn: 0.2892627\ttest: 0.2990995\tbest: 0.2990995 (118)\ttotal: 5.42s\tremaining: 17.4s\n",
      "119:\tlearn: 0.2890906\ttest: 0.2990868\tbest: 0.2990868 (119)\ttotal: 5.47s\tremaining: 17.3s\n",
      "120:\tlearn: 0.2889080\ttest: 0.2989934\tbest: 0.2989934 (120)\ttotal: 5.51s\tremaining: 17.3s\n",
      "121:\tlearn: 0.2887876\ttest: 0.2988955\tbest: 0.2988955 (121)\ttotal: 5.55s\tremaining: 17.2s\n",
      "122:\tlearn: 0.2885597\ttest: 0.2986361\tbest: 0.2986361 (122)\ttotal: 5.59s\tremaining: 17.1s\n",
      "123:\tlearn: 0.2883492\ttest: 0.2984824\tbest: 0.2984824 (123)\ttotal: 5.63s\tremaining: 17.1s\n",
      "124:\tlearn: 0.2881608\ttest: 0.2984445\tbest: 0.2984445 (124)\ttotal: 5.67s\tremaining: 17s\n",
      "125:\tlearn: 0.2880930\ttest: 0.2983887\tbest: 0.2983887 (125)\ttotal: 5.71s\tremaining: 17s\n",
      "126:\tlearn: 0.2877873\ttest: 0.2981497\tbest: 0.2981497 (126)\ttotal: 5.75s\tremaining: 16.9s\n",
      "127:\tlearn: 0.2877227\ttest: 0.2981106\tbest: 0.2981106 (127)\ttotal: 5.79s\tremaining: 16.8s\n",
      "128:\tlearn: 0.2875206\ttest: 0.2979249\tbest: 0.2979249 (128)\ttotal: 5.83s\tremaining: 16.8s\n",
      "129:\tlearn: 0.2873528\ttest: 0.2977651\tbest: 0.2977651 (129)\ttotal: 5.87s\tremaining: 16.7s\n",
      "130:\tlearn: 0.2872579\ttest: 0.2977446\tbest: 0.2977446 (130)\ttotal: 5.91s\tremaining: 16.6s\n",
      "131:\tlearn: 0.2868497\ttest: 0.2972657\tbest: 0.2972657 (131)\ttotal: 5.96s\tremaining: 16.6s\n",
      "132:\tlearn: 0.2866687\ttest: 0.2971860\tbest: 0.2971860 (132)\ttotal: 6s\tremaining: 16.6s\n",
      "133:\tlearn: 0.2865446\ttest: 0.2970683\tbest: 0.2970683 (133)\ttotal: 6.04s\tremaining: 16.5s\n",
      "134:\tlearn: 0.2863486\ttest: 0.2968780\tbest: 0.2968780 (134)\ttotal: 6.08s\tremaining: 16.5s\n",
      "135:\tlearn: 0.2862177\ttest: 0.2967259\tbest: 0.2967259 (135)\ttotal: 6.13s\tremaining: 16.4s\n",
      "136:\tlearn: 0.2860617\ttest: 0.2966555\tbest: 0.2966555 (136)\ttotal: 6.17s\tremaining: 16.3s\n",
      "137:\tlearn: 0.2859444\ttest: 0.2965700\tbest: 0.2965700 (137)\ttotal: 6.21s\tremaining: 16.3s\n",
      "138:\tlearn: 0.2858278\ttest: 0.2965332\tbest: 0.2965332 (138)\ttotal: 6.25s\tremaining: 16.2s\n",
      "139:\tlearn: 0.2856462\ttest: 0.2964302\tbest: 0.2964302 (139)\ttotal: 6.29s\tremaining: 16.2s\n",
      "140:\tlearn: 0.2855561\ttest: 0.2964051\tbest: 0.2964051 (140)\ttotal: 6.33s\tremaining: 16.1s\n",
      "141:\tlearn: 0.2854029\ttest: 0.2962505\tbest: 0.2962505 (141)\ttotal: 6.37s\tremaining: 16.1s\n",
      "142:\tlearn: 0.2853117\ttest: 0.2961843\tbest: 0.2961843 (142)\ttotal: 6.41s\tremaining: 16s\n",
      "143:\tlearn: 0.2847213\ttest: 0.2956691\tbest: 0.2956691 (143)\ttotal: 6.48s\tremaining: 16s\n",
      "144:\tlearn: 0.2846640\ttest: 0.2956081\tbest: 0.2956081 (144)\ttotal: 6.52s\tremaining: 16s\n",
      "145:\tlearn: 0.2844518\ttest: 0.2954444\tbest: 0.2954444 (145)\ttotal: 6.56s\tremaining: 15.9s\n",
      "146:\tlearn: 0.2843219\ttest: 0.2953353\tbest: 0.2953353 (146)\ttotal: 6.6s\tremaining: 15.8s\n",
      "147:\tlearn: 0.2841396\ttest: 0.2952237\tbest: 0.2952237 (147)\ttotal: 6.64s\tremaining: 15.8s\n",
      "148:\tlearn: 0.2839484\ttest: 0.2950308\tbest: 0.2950308 (148)\ttotal: 6.68s\tremaining: 15.7s\n",
      "149:\tlearn: 0.2838386\ttest: 0.2949825\tbest: 0.2949825 (149)\ttotal: 6.72s\tremaining: 15.7s\n",
      "150:\tlearn: 0.2837797\ttest: 0.2949271\tbest: 0.2949271 (150)\ttotal: 6.76s\tremaining: 15.6s\n",
      "151:\tlearn: 0.2833422\ttest: 0.2944970\tbest: 0.2944970 (151)\ttotal: 6.8s\tremaining: 15.6s\n",
      "152:\tlearn: 0.2832524\ttest: 0.2944379\tbest: 0.2944379 (152)\ttotal: 6.85s\tremaining: 15.5s\n",
      "153:\tlearn: 0.2829631\ttest: 0.2940865\tbest: 0.2940865 (153)\ttotal: 6.9s\tremaining: 15.5s\n",
      "154:\tlearn: 0.2828756\ttest: 0.2939386\tbest: 0.2939386 (154)\ttotal: 6.94s\tremaining: 15.4s\n",
      "155:\tlearn: 0.2827635\ttest: 0.2938123\tbest: 0.2938123 (155)\ttotal: 6.98s\tremaining: 15.4s\n",
      "156:\tlearn: 0.2826742\ttest: 0.2937076\tbest: 0.2937076 (156)\ttotal: 7.03s\tremaining: 15.4s\n",
      "157:\tlearn: 0.2825823\ttest: 0.2935899\tbest: 0.2935899 (157)\ttotal: 7.07s\tremaining: 15.3s\n",
      "158:\tlearn: 0.2824189\ttest: 0.2934729\tbest: 0.2934729 (158)\ttotal: 7.13s\tremaining: 15.3s\n",
      "159:\tlearn: 0.2821866\ttest: 0.2933760\tbest: 0.2933760 (159)\ttotal: 7.18s\tremaining: 15.3s\n",
      "160:\tlearn: 0.2820412\ttest: 0.2932434\tbest: 0.2932434 (160)\ttotal: 7.22s\tremaining: 15.2s\n",
      "161:\tlearn: 0.2818778\ttest: 0.2931188\tbest: 0.2931188 (161)\ttotal: 7.26s\tremaining: 15.1s\n",
      "162:\tlearn: 0.2816602\ttest: 0.2929736\tbest: 0.2929736 (162)\ttotal: 7.3s\tremaining: 15.1s\n",
      "163:\tlearn: 0.2814212\ttest: 0.2928118\tbest: 0.2928118 (163)\ttotal: 7.34s\tremaining: 15s\n",
      "164:\tlearn: 0.2812702\ttest: 0.2926711\tbest: 0.2926711 (164)\ttotal: 7.38s\tremaining: 15s\n",
      "165:\tlearn: 0.2811198\ttest: 0.2925046\tbest: 0.2925046 (165)\ttotal: 7.44s\tremaining: 15s\n",
      "166:\tlearn: 0.2810286\ttest: 0.2924772\tbest: 0.2924772 (166)\ttotal: 7.48s\tremaining: 14.9s\n",
      "167:\tlearn: 0.2808506\ttest: 0.2923603\tbest: 0.2923603 (167)\ttotal: 7.53s\tremaining: 14.9s\n",
      "168:\tlearn: 0.2807011\ttest: 0.2921995\tbest: 0.2921995 (168)\ttotal: 7.57s\tremaining: 14.8s\n",
      "169:\tlearn: 0.2805596\ttest: 0.2920641\tbest: 0.2920641 (169)\ttotal: 7.61s\tremaining: 14.8s\n",
      "170:\tlearn: 0.2803985\ttest: 0.2919841\tbest: 0.2919841 (170)\ttotal: 7.65s\tremaining: 14.7s\n",
      "171:\tlearn: 0.2801536\ttest: 0.2917441\tbest: 0.2917441 (171)\ttotal: 7.7s\tremaining: 14.7s\n",
      "172:\tlearn: 0.2799537\ttest: 0.2916590\tbest: 0.2916590 (172)\ttotal: 7.74s\tremaining: 14.6s\n",
      "173:\tlearn: 0.2798104\ttest: 0.2915331\tbest: 0.2915331 (173)\ttotal: 7.77s\tremaining: 14.6s\n",
      "174:\tlearn: 0.2797571\ttest: 0.2914768\tbest: 0.2914768 (174)\ttotal: 7.81s\tremaining: 14.5s\n",
      "175:\tlearn: 0.2796039\ttest: 0.2913810\tbest: 0.2913810 (175)\ttotal: 7.86s\tremaining: 14.5s\n",
      "176:\tlearn: 0.2795333\ttest: 0.2912896\tbest: 0.2912896 (176)\ttotal: 7.9s\tremaining: 14.4s\n",
      "177:\tlearn: 0.2793832\ttest: 0.2911076\tbest: 0.2911076 (177)\ttotal: 7.94s\tremaining: 14.4s\n",
      "178:\tlearn: 0.2792699\ttest: 0.2910104\tbest: 0.2910104 (178)\ttotal: 7.98s\tremaining: 14.3s\n",
      "179:\tlearn: 0.2788985\ttest: 0.2906760\tbest: 0.2906760 (179)\ttotal: 8.02s\tremaining: 14.3s\n",
      "180:\tlearn: 0.2786972\ttest: 0.2904613\tbest: 0.2904613 (180)\ttotal: 8.07s\tremaining: 14.2s\n",
      "181:\tlearn: 0.2785085\ttest: 0.2903429\tbest: 0.2903429 (181)\ttotal: 8.11s\tremaining: 14.2s\n",
      "182:\tlearn: 0.2783400\ttest: 0.2902162\tbest: 0.2902162 (182)\ttotal: 8.15s\tremaining: 14.1s\n",
      "183:\tlearn: 0.2782195\ttest: 0.2901181\tbest: 0.2901181 (183)\ttotal: 8.2s\tremaining: 14.1s\n",
      "184:\tlearn: 0.2778654\ttest: 0.2897571\tbest: 0.2897571 (184)\ttotal: 8.27s\tremaining: 14.1s\n",
      "185:\tlearn: 0.2776524\ttest: 0.2896087\tbest: 0.2896087 (185)\ttotal: 8.31s\tremaining: 14s\n",
      "186:\tlearn: 0.2775991\ttest: 0.2895371\tbest: 0.2895371 (186)\ttotal: 8.35s\tremaining: 14s\n",
      "187:\tlearn: 0.2775059\ttest: 0.2894082\tbest: 0.2894082 (187)\ttotal: 8.39s\tremaining: 13.9s\n",
      "188:\tlearn: 0.2774550\ttest: 0.2894090\tbest: 0.2894082 (187)\ttotal: 8.43s\tremaining: 13.9s\n",
      "189:\tlearn: 0.2773003\ttest: 0.2893352\tbest: 0.2893352 (189)\ttotal: 8.47s\tremaining: 13.8s\n",
      "190:\tlearn: 0.2771352\ttest: 0.2891774\tbest: 0.2891774 (190)\ttotal: 8.51s\tremaining: 13.8s\n",
      "191:\tlearn: 0.2769570\ttest: 0.2890429\tbest: 0.2890429 (191)\ttotal: 8.55s\tremaining: 13.7s\n",
      "192:\tlearn: 0.2767391\ttest: 0.2888566\tbest: 0.2888566 (192)\ttotal: 8.59s\tremaining: 13.7s\n",
      "193:\tlearn: 0.2766837\ttest: 0.2888452\tbest: 0.2888452 (193)\ttotal: 8.63s\tremaining: 13.6s\n",
      "194:\tlearn: 0.2765631\ttest: 0.2888230\tbest: 0.2888230 (194)\ttotal: 8.68s\tremaining: 13.6s\n",
      "195:\tlearn: 0.2764394\ttest: 0.2887501\tbest: 0.2887501 (195)\ttotal: 8.72s\tremaining: 13.5s\n",
      "196:\tlearn: 0.2762966\ttest: 0.2886337\tbest: 0.2886337 (196)\ttotal: 8.75s\tremaining: 13.5s\n",
      "197:\tlearn: 0.2762707\ttest: 0.2885826\tbest: 0.2885826 (197)\ttotal: 8.79s\tremaining: 13.4s\n",
      "198:\tlearn: 0.2762288\ttest: 0.2885576\tbest: 0.2885576 (198)\ttotal: 8.83s\tremaining: 13.4s\n",
      "199:\tlearn: 0.2760255\ttest: 0.2883403\tbest: 0.2883403 (199)\ttotal: 8.88s\tremaining: 13.3s\n",
      "200:\tlearn: 0.2759404\ttest: 0.2882825\tbest: 0.2882825 (200)\ttotal: 8.91s\tremaining: 13.3s\n",
      "201:\tlearn: 0.2758591\ttest: 0.2882647\tbest: 0.2882647 (201)\ttotal: 8.96s\tremaining: 13.2s\n",
      "202:\tlearn: 0.2758193\ttest: 0.2881880\tbest: 0.2881880 (202)\ttotal: 9s\tremaining: 13.2s\n",
      "203:\tlearn: 0.2756870\ttest: 0.2881387\tbest: 0.2881387 (203)\ttotal: 9.04s\tremaining: 13.1s\n",
      "204:\tlearn: 0.2756232\ttest: 0.2880701\tbest: 0.2880701 (204)\ttotal: 9.08s\tremaining: 13.1s\n",
      "205:\tlearn: 0.2755431\ttest: 0.2880067\tbest: 0.2880067 (205)\ttotal: 9.12s\tremaining: 13s\n",
      "206:\tlearn: 0.2754558\ttest: 0.2879782\tbest: 0.2879782 (206)\ttotal: 9.16s\tremaining: 13s\n",
      "207:\tlearn: 0.2753543\ttest: 0.2878884\tbest: 0.2878884 (207)\ttotal: 9.2s\tremaining: 12.9s\n",
      "208:\tlearn: 0.2753142\ttest: 0.2878326\tbest: 0.2878326 (208)\ttotal: 9.25s\tremaining: 12.9s\n",
      "209:\tlearn: 0.2752954\ttest: 0.2878025\tbest: 0.2878025 (209)\ttotal: 9.29s\tremaining: 12.8s\n",
      "210:\tlearn: 0.2751383\ttest: 0.2876462\tbest: 0.2876462 (210)\ttotal: 9.36s\tremaining: 12.8s\n",
      "211:\tlearn: 0.2749745\ttest: 0.2875404\tbest: 0.2875404 (211)\ttotal: 9.39s\tremaining: 12.8s\n",
      "212:\tlearn: 0.2748120\ttest: 0.2874527\tbest: 0.2874527 (212)\ttotal: 9.44s\tremaining: 12.7s\n",
      "213:\tlearn: 0.2747230\ttest: 0.2874052\tbest: 0.2874052 (213)\ttotal: 9.48s\tremaining: 12.7s\n",
      "214:\tlearn: 0.2746434\ttest: 0.2873271\tbest: 0.2873271 (214)\ttotal: 9.52s\tremaining: 12.6s\n",
      "215:\tlearn: 0.2746070\ttest: 0.2872508\tbest: 0.2872508 (215)\ttotal: 9.56s\tremaining: 12.6s\n",
      "216:\tlearn: 0.2745752\ttest: 0.2872178\tbest: 0.2872178 (216)\ttotal: 9.6s\tremaining: 12.5s\n",
      "217:\tlearn: 0.2744986\ttest: 0.2871544\tbest: 0.2871544 (217)\ttotal: 9.65s\tremaining: 12.5s\n",
      "218:\tlearn: 0.2743452\ttest: 0.2870373\tbest: 0.2870373 (218)\ttotal: 9.69s\tremaining: 12.4s\n",
      "219:\tlearn: 0.2742651\ttest: 0.2870334\tbest: 0.2870334 (219)\ttotal: 9.73s\tremaining: 12.4s\n",
      "220:\tlearn: 0.2742293\ttest: 0.2870208\tbest: 0.2870208 (220)\ttotal: 9.78s\tremaining: 12.3s\n",
      "221:\tlearn: 0.2741377\ttest: 0.2870026\tbest: 0.2870026 (221)\ttotal: 9.82s\tremaining: 12.3s\n",
      "222:\tlearn: 0.2739778\ttest: 0.2868442\tbest: 0.2868442 (222)\ttotal: 9.86s\tremaining: 12.2s\n",
      "223:\tlearn: 0.2738656\ttest: 0.2867385\tbest: 0.2867385 (223)\ttotal: 9.92s\tremaining: 12.2s\n",
      "224:\tlearn: 0.2738019\ttest: 0.2867376\tbest: 0.2867376 (224)\ttotal: 9.96s\tremaining: 12.2s\n",
      "225:\tlearn: 0.2737286\ttest: 0.2866570\tbest: 0.2866570 (225)\ttotal: 10s\tremaining: 12.1s\n",
      "226:\tlearn: 0.2736560\ttest: 0.2866447\tbest: 0.2866447 (226)\ttotal: 10s\tremaining: 12.1s\n",
      "227:\tlearn: 0.2735740\ttest: 0.2866394\tbest: 0.2866394 (227)\ttotal: 10.1s\tremaining: 12s\n",
      "228:\tlearn: 0.2734662\ttest: 0.2865576\tbest: 0.2865576 (228)\ttotal: 10.1s\tremaining: 12s\n",
      "229:\tlearn: 0.2733310\ttest: 0.2864606\tbest: 0.2864606 (229)\ttotal: 10.2s\tremaining: 11.9s\n",
      "230:\tlearn: 0.2732112\ttest: 0.2863851\tbest: 0.2863851 (230)\ttotal: 10.2s\tremaining: 11.9s\n",
      "231:\tlearn: 0.2731555\ttest: 0.2863302\tbest: 0.2863302 (231)\ttotal: 10.2s\tremaining: 11.8s\n",
      "232:\tlearn: 0.2730500\ttest: 0.2862405\tbest: 0.2862405 (232)\ttotal: 10.3s\tremaining: 11.8s\n",
      "233:\tlearn: 0.2729976\ttest: 0.2862453\tbest: 0.2862405 (232)\ttotal: 10.3s\tremaining: 11.7s\n",
      "234:\tlearn: 0.2729005\ttest: 0.2861730\tbest: 0.2861730 (234)\ttotal: 10.4s\tremaining: 11.7s\n",
      "235:\tlearn: 0.2727616\ttest: 0.2860580\tbest: 0.2860580 (235)\ttotal: 10.4s\tremaining: 11.6s\n",
      "236:\tlearn: 0.2726180\ttest: 0.2859298\tbest: 0.2859298 (236)\ttotal: 10.4s\tremaining: 11.6s\n",
      "237:\tlearn: 0.2725792\ttest: 0.2859205\tbest: 0.2859205 (237)\ttotal: 10.5s\tremaining: 11.5s\n",
      "238:\tlearn: 0.2725130\ttest: 0.2858973\tbest: 0.2858973 (238)\ttotal: 10.5s\tremaining: 11.5s\n",
      "239:\tlearn: 0.2724188\ttest: 0.2858419\tbest: 0.2858419 (239)\ttotal: 10.6s\tremaining: 11.4s\n",
      "240:\tlearn: 0.2723119\ttest: 0.2857434\tbest: 0.2857434 (240)\ttotal: 10.6s\tremaining: 11.4s\n",
      "241:\tlearn: 0.2722876\ttest: 0.2857264\tbest: 0.2857264 (241)\ttotal: 10.6s\tremaining: 11.3s\n",
      "242:\tlearn: 0.2721836\ttest: 0.2856077\tbest: 0.2856077 (242)\ttotal: 10.7s\tremaining: 11.3s\n",
      "243:\tlearn: 0.2720690\ttest: 0.2855681\tbest: 0.2855681 (243)\ttotal: 10.7s\tremaining: 11.3s\n",
      "244:\tlearn: 0.2719844\ttest: 0.2855422\tbest: 0.2855422 (244)\ttotal: 10.8s\tremaining: 11.2s\n",
      "245:\tlearn: 0.2719046\ttest: 0.2855001\tbest: 0.2855001 (245)\ttotal: 10.8s\tremaining: 11.2s\n",
      "246:\tlearn: 0.2718625\ttest: 0.2854736\tbest: 0.2854736 (246)\ttotal: 10.9s\tremaining: 11.1s\n",
      "247:\tlearn: 0.2717678\ttest: 0.2854276\tbest: 0.2854276 (247)\ttotal: 10.9s\tremaining: 11.1s\n",
      "248:\tlearn: 0.2716707\ttest: 0.2853415\tbest: 0.2853415 (248)\ttotal: 10.9s\tremaining: 11s\n",
      "249:\tlearn: 0.2715987\ttest: 0.2852903\tbest: 0.2852903 (249)\ttotal: 11s\tremaining: 11s\n",
      "250:\tlearn: 0.2715632\ttest: 0.2852753\tbest: 0.2852753 (250)\ttotal: 11s\tremaining: 10.9s\n",
      "251:\tlearn: 0.2714858\ttest: 0.2851961\tbest: 0.2851961 (251)\ttotal: 11.1s\tremaining: 10.9s\n",
      "252:\tlearn: 0.2713980\ttest: 0.2851261\tbest: 0.2851261 (252)\ttotal: 11.1s\tremaining: 10.8s\n",
      "253:\tlearn: 0.2713020\ttest: 0.2850470\tbest: 0.2850470 (253)\ttotal: 11.1s\tremaining: 10.8s\n",
      "254:\tlearn: 0.2712414\ttest: 0.2849945\tbest: 0.2849945 (254)\ttotal: 11.2s\tremaining: 10.7s\n",
      "255:\tlearn: 0.2710999\ttest: 0.2849116\tbest: 0.2849116 (255)\ttotal: 11.2s\tremaining: 10.7s\n",
      "256:\tlearn: 0.2710918\ttest: 0.2848968\tbest: 0.2848968 (256)\ttotal: 11.3s\tremaining: 10.7s\n",
      "257:\tlearn: 0.2710505\ttest: 0.2848326\tbest: 0.2848326 (257)\ttotal: 11.3s\tremaining: 10.6s\n",
      "258:\tlearn: 0.2709419\ttest: 0.2848420\tbest: 0.2848326 (257)\ttotal: 11.4s\tremaining: 10.6s\n",
      "259:\tlearn: 0.2708279\ttest: 0.2847990\tbest: 0.2847990 (259)\ttotal: 11.4s\tremaining: 10.5s\n",
      "260:\tlearn: 0.2707756\ttest: 0.2847363\tbest: 0.2847363 (260)\ttotal: 11.4s\tremaining: 10.5s\n",
      "261:\tlearn: 0.2707225\ttest: 0.2847107\tbest: 0.2847107 (261)\ttotal: 11.5s\tremaining: 10.4s\n",
      "262:\tlearn: 0.2706093\ttest: 0.2846128\tbest: 0.2846128 (262)\ttotal: 11.5s\tremaining: 10.4s\n",
      "263:\tlearn: 0.2705697\ttest: 0.2846095\tbest: 0.2846095 (263)\ttotal: 11.5s\tremaining: 10.3s\n",
      "264:\tlearn: 0.2705134\ttest: 0.2845727\tbest: 0.2845727 (264)\ttotal: 11.6s\tremaining: 10.3s\n",
      "265:\tlearn: 0.2704367\ttest: 0.2845131\tbest: 0.2845131 (265)\ttotal: 11.6s\tremaining: 10.2s\n",
      "266:\tlearn: 0.2704169\ttest: 0.2845013\tbest: 0.2845013 (266)\ttotal: 11.7s\tremaining: 10.2s\n",
      "267:\tlearn: 0.2703078\ttest: 0.2844208\tbest: 0.2844208 (267)\ttotal: 11.7s\tremaining: 10.1s\n",
      "268:\tlearn: 0.2701468\ttest: 0.2843175\tbest: 0.2843175 (268)\ttotal: 11.8s\tremaining: 10.1s\n",
      "269:\tlearn: 0.2700945\ttest: 0.2842818\tbest: 0.2842818 (269)\ttotal: 11.8s\tremaining: 10.1s\n",
      "270:\tlearn: 0.2700291\ttest: 0.2841961\tbest: 0.2841961 (270)\ttotal: 11.9s\tremaining: 10s\n",
      "271:\tlearn: 0.2699347\ttest: 0.2841118\tbest: 0.2841118 (271)\ttotal: 11.9s\tremaining: 10s\n",
      "272:\tlearn: 0.2697477\ttest: 0.2839509\tbest: 0.2839509 (272)\ttotal: 12s\tremaining: 9.96s\n",
      "273:\tlearn: 0.2696687\ttest: 0.2838994\tbest: 0.2838994 (273)\ttotal: 12s\tremaining: 9.91s\n",
      "274:\tlearn: 0.2696222\ttest: 0.2838791\tbest: 0.2838791 (274)\ttotal: 12.1s\tremaining: 9.87s\n",
      "275:\tlearn: 0.2695844\ttest: 0.2837929\tbest: 0.2837929 (275)\ttotal: 12.1s\tremaining: 9.83s\n",
      "276:\tlearn: 0.2695222\ttest: 0.2837012\tbest: 0.2837012 (276)\ttotal: 12.2s\tremaining: 9.79s\n",
      "277:\tlearn: 0.2694203\ttest: 0.2836129\tbest: 0.2836129 (277)\ttotal: 12.2s\tremaining: 9.75s\n",
      "278:\tlearn: 0.2693238\ttest: 0.2835515\tbest: 0.2835515 (278)\ttotal: 12.2s\tremaining: 9.7s\n",
      "279:\tlearn: 0.2692594\ttest: 0.2835504\tbest: 0.2835504 (279)\ttotal: 12.3s\tremaining: 9.65s\n",
      "280:\tlearn: 0.2692105\ttest: 0.2835112\tbest: 0.2835112 (280)\ttotal: 12.3s\tremaining: 9.6s\n",
      "281:\tlearn: 0.2691647\ttest: 0.2834396\tbest: 0.2834396 (281)\ttotal: 12.4s\tremaining: 9.55s\n",
      "282:\tlearn: 0.2691186\ttest: 0.2833847\tbest: 0.2833847 (282)\ttotal: 12.4s\tremaining: 9.5s\n",
      "283:\tlearn: 0.2690453\ttest: 0.2833469\tbest: 0.2833469 (283)\ttotal: 12.4s\tremaining: 9.46s\n",
      "284:\tlearn: 0.2690222\ttest: 0.2833649\tbest: 0.2833469 (283)\ttotal: 12.5s\tremaining: 9.42s\n",
      "285:\tlearn: 0.2689967\ttest: 0.2833281\tbest: 0.2833281 (285)\ttotal: 12.5s\tremaining: 9.37s\n",
      "286:\tlearn: 0.2689281\ttest: 0.2832779\tbest: 0.2832779 (286)\ttotal: 12.6s\tremaining: 9.33s\n",
      "287:\tlearn: 0.2688639\ttest: 0.2832539\tbest: 0.2832539 (287)\ttotal: 12.6s\tremaining: 9.29s\n",
      "288:\tlearn: 0.2688064\ttest: 0.2832181\tbest: 0.2832181 (288)\ttotal: 12.7s\tremaining: 9.24s\n",
      "289:\tlearn: 0.2687521\ttest: 0.2832073\tbest: 0.2832073 (289)\ttotal: 12.7s\tremaining: 9.19s\n",
      "290:\tlearn: 0.2687251\ttest: 0.2831954\tbest: 0.2831954 (290)\ttotal: 12.7s\tremaining: 9.14s\n",
      "291:\tlearn: 0.2686882\ttest: 0.2832007\tbest: 0.2831954 (290)\ttotal: 12.8s\tremaining: 9.09s\n",
      "292:\tlearn: 0.2686568\ttest: 0.2831657\tbest: 0.2831657 (292)\ttotal: 12.8s\tremaining: 9.05s\n",
      "293:\tlearn: 0.2685898\ttest: 0.2831125\tbest: 0.2831125 (293)\ttotal: 12.8s\tremaining: 9s\n",
      "294:\tlearn: 0.2685261\ttest: 0.2830978\tbest: 0.2830978 (294)\ttotal: 12.9s\tremaining: 8.96s\n",
      "295:\tlearn: 0.2684602\ttest: 0.2830395\tbest: 0.2830395 (295)\ttotal: 12.9s\tremaining: 8.91s\n",
      "296:\tlearn: 0.2683456\ttest: 0.2829183\tbest: 0.2829183 (296)\ttotal: 13s\tremaining: 8.86s\n",
      "297:\tlearn: 0.2682966\ttest: 0.2828592\tbest: 0.2828592 (297)\ttotal: 13s\tremaining: 8.81s\n",
      "298:\tlearn: 0.2682204\ttest: 0.2827752\tbest: 0.2827752 (298)\ttotal: 13s\tremaining: 8.77s\n",
      "299:\tlearn: 0.2681618\ttest: 0.2827618\tbest: 0.2827618 (299)\ttotal: 13.1s\tremaining: 8.72s\n",
      "300:\tlearn: 0.2681179\ttest: 0.2827437\tbest: 0.2827437 (300)\ttotal: 13.1s\tremaining: 8.68s\n",
      "301:\tlearn: 0.2680970\ttest: 0.2826973\tbest: 0.2826973 (301)\ttotal: 13.2s\tremaining: 8.64s\n",
      "302:\tlearn: 0.2680190\ttest: 0.2826159\tbest: 0.2826159 (302)\ttotal: 13.2s\tremaining: 8.6s\n",
      "303:\tlearn: 0.2679717\ttest: 0.2825230\tbest: 0.2825230 (303)\ttotal: 13.3s\tremaining: 8.56s\n",
      "304:\tlearn: 0.2678869\ttest: 0.2824339\tbest: 0.2824339 (304)\ttotal: 13.3s\tremaining: 8.51s\n",
      "305:\tlearn: 0.2678660\ttest: 0.2824170\tbest: 0.2824170 (305)\ttotal: 13.3s\tremaining: 8.46s\n",
      "306:\tlearn: 0.2677988\ttest: 0.2823574\tbest: 0.2823574 (306)\ttotal: 13.4s\tremaining: 8.42s\n",
      "307:\tlearn: 0.2676868\ttest: 0.2822718\tbest: 0.2822718 (307)\ttotal: 13.4s\tremaining: 8.37s\n",
      "308:\tlearn: 0.2675669\ttest: 0.2821689\tbest: 0.2821689 (308)\ttotal: 13.5s\tremaining: 8.33s\n",
      "309:\tlearn: 0.2675375\ttest: 0.2821400\tbest: 0.2821400 (309)\ttotal: 13.5s\tremaining: 8.29s\n",
      "310:\tlearn: 0.2674283\ttest: 0.2820587\tbest: 0.2820587 (310)\ttotal: 13.6s\tremaining: 8.24s\n",
      "311:\tlearn: 0.2673631\ttest: 0.2820344\tbest: 0.2820344 (311)\ttotal: 13.6s\tremaining: 8.2s\n",
      "312:\tlearn: 0.2673631\ttest: 0.2820404\tbest: 0.2820344 (311)\ttotal: 13.6s\tremaining: 8.15s\n",
      "313:\tlearn: 0.2673001\ttest: 0.2819774\tbest: 0.2819774 (313)\ttotal: 13.7s\tremaining: 8.11s\n",
      "314:\tlearn: 0.2672427\ttest: 0.2819790\tbest: 0.2819774 (313)\ttotal: 13.7s\tremaining: 8.06s\n",
      "315:\tlearn: 0.2671387\ttest: 0.2819323\tbest: 0.2819323 (315)\ttotal: 13.8s\tremaining: 8.01s\n",
      "316:\tlearn: 0.2671010\ttest: 0.2819103\tbest: 0.2819103 (316)\ttotal: 13.8s\tremaining: 7.97s\n",
      "317:\tlearn: 0.2670592\ttest: 0.2819248\tbest: 0.2819103 (316)\ttotal: 13.8s\tremaining: 7.92s\n",
      "318:\tlearn: 0.2670225\ttest: 0.2818637\tbest: 0.2818637 (318)\ttotal: 13.9s\tremaining: 7.88s\n",
      "319:\tlearn: 0.2669787\ttest: 0.2818614\tbest: 0.2818614 (319)\ttotal: 13.9s\tremaining: 7.83s\n",
      "320:\tlearn: 0.2669627\ttest: 0.2818579\tbest: 0.2818579 (320)\ttotal: 14s\tremaining: 7.78s\n",
      "321:\tlearn: 0.2668942\ttest: 0.2818333\tbest: 0.2818333 (321)\ttotal: 14s\tremaining: 7.74s\n",
      "322:\tlearn: 0.2668283\ttest: 0.2817690\tbest: 0.2817690 (322)\ttotal: 14s\tremaining: 7.69s\n",
      "323:\tlearn: 0.2667705\ttest: 0.2817667\tbest: 0.2817667 (323)\ttotal: 14.1s\tremaining: 7.65s\n",
      "324:\tlearn: 0.2667248\ttest: 0.2817918\tbest: 0.2817667 (323)\ttotal: 14.1s\tremaining: 7.61s\n",
      "325:\tlearn: 0.2666299\ttest: 0.2817139\tbest: 0.2817139 (325)\ttotal: 14.2s\tremaining: 7.56s\n",
      "326:\tlearn: 0.2666126\ttest: 0.2817086\tbest: 0.2817086 (326)\ttotal: 14.2s\tremaining: 7.52s\n",
      "327:\tlearn: 0.2665745\ttest: 0.2816983\tbest: 0.2816983 (327)\ttotal: 14.2s\tremaining: 7.47s\n",
      "328:\tlearn: 0.2665371\ttest: 0.2816980\tbest: 0.2816980 (328)\ttotal: 14.3s\tremaining: 7.42s\n",
      "329:\tlearn: 0.2664543\ttest: 0.2815862\tbest: 0.2815862 (329)\ttotal: 14.3s\tremaining: 7.38s\n",
      "330:\tlearn: 0.2662282\ttest: 0.2813377\tbest: 0.2813377 (330)\ttotal: 14.4s\tremaining: 7.33s\n",
      "331:\tlearn: 0.2660889\ttest: 0.2812558\tbest: 0.2812558 (331)\ttotal: 14.4s\tremaining: 7.3s\n",
      "332:\tlearn: 0.2660397\ttest: 0.2812438\tbest: 0.2812438 (332)\ttotal: 14.5s\tremaining: 7.25s\n",
      "333:\tlearn: 0.2659355\ttest: 0.2811378\tbest: 0.2811378 (333)\ttotal: 14.5s\tremaining: 7.2s\n",
      "334:\tlearn: 0.2658724\ttest: 0.2810783\tbest: 0.2810783 (334)\ttotal: 14.5s\tremaining: 7.16s\n",
      "335:\tlearn: 0.2657874\ttest: 0.2810363\tbest: 0.2810363 (335)\ttotal: 14.6s\tremaining: 7.11s\n",
      "336:\tlearn: 0.2656870\ttest: 0.2809754\tbest: 0.2809754 (336)\ttotal: 14.6s\tremaining: 7.07s\n",
      "337:\tlearn: 0.2656622\ttest: 0.2809400\tbest: 0.2809400 (337)\ttotal: 14.6s\tremaining: 7.02s\n",
      "338:\tlearn: 0.2656041\ttest: 0.2809396\tbest: 0.2809396 (338)\ttotal: 14.7s\tremaining: 6.98s\n",
      "339:\tlearn: 0.2655693\ttest: 0.2809116\tbest: 0.2809116 (339)\ttotal: 14.7s\tremaining: 6.93s\n",
      "340:\tlearn: 0.2655045\ttest: 0.2808553\tbest: 0.2808553 (340)\ttotal: 14.8s\tremaining: 6.89s\n",
      "341:\tlearn: 0.2654532\ttest: 0.2808335\tbest: 0.2808335 (341)\ttotal: 14.8s\tremaining: 6.84s\n",
      "342:\tlearn: 0.2654165\ttest: 0.2807947\tbest: 0.2807947 (342)\ttotal: 14.9s\tremaining: 6.8s\n",
      "343:\tlearn: 0.2653867\ttest: 0.2807701\tbest: 0.2807701 (343)\ttotal: 14.9s\tremaining: 6.75s\n",
      "344:\tlearn: 0.2653805\ttest: 0.2807577\tbest: 0.2807577 (344)\ttotal: 14.9s\tremaining: 6.71s\n",
      "345:\tlearn: 0.2652138\ttest: 0.2806078\tbest: 0.2806078 (345)\ttotal: 15s\tremaining: 6.68s\n",
      "346:\tlearn: 0.2651598\ttest: 0.2805746\tbest: 0.2805746 (346)\ttotal: 15s\tremaining: 6.63s\n",
      "347:\tlearn: 0.2650845\ttest: 0.2805180\tbest: 0.2805180 (347)\ttotal: 15.1s\tremaining: 6.59s\n",
      "348:\tlearn: 0.2650163\ttest: 0.2804569\tbest: 0.2804569 (348)\ttotal: 15.1s\tremaining: 6.54s\n",
      "349:\tlearn: 0.2649936\ttest: 0.2804346\tbest: 0.2804346 (349)\ttotal: 15.2s\tremaining: 6.5s\n",
      "350:\tlearn: 0.2649331\ttest: 0.2804512\tbest: 0.2804346 (349)\ttotal: 15.2s\tremaining: 6.46s\n",
      "351:\tlearn: 0.2648902\ttest: 0.2804631\tbest: 0.2804346 (349)\ttotal: 15.3s\tremaining: 6.42s\n",
      "352:\tlearn: 0.2648600\ttest: 0.2804446\tbest: 0.2804346 (349)\ttotal: 15.3s\tremaining: 6.37s\n",
      "353:\tlearn: 0.2648061\ttest: 0.2804022\tbest: 0.2804022 (353)\ttotal: 15.3s\tremaining: 6.33s\n",
      "354:\tlearn: 0.2647516\ttest: 0.2803563\tbest: 0.2803563 (354)\ttotal: 15.4s\tremaining: 6.29s\n",
      "355:\tlearn: 0.2646599\ttest: 0.2803061\tbest: 0.2803061 (355)\ttotal: 15.4s\tremaining: 6.24s\n",
      "356:\tlearn: 0.2645242\ttest: 0.2802271\tbest: 0.2802271 (356)\ttotal: 15.5s\tremaining: 6.2s\n",
      "357:\tlearn: 0.2644629\ttest: 0.2801788\tbest: 0.2801788 (357)\ttotal: 15.5s\tremaining: 6.15s\n",
      "358:\tlearn: 0.2643617\ttest: 0.2800925\tbest: 0.2800925 (358)\ttotal: 15.6s\tremaining: 6.11s\n",
      "359:\tlearn: 0.2643234\ttest: 0.2800745\tbest: 0.2800745 (359)\ttotal: 15.6s\tremaining: 6.06s\n",
      "360:\tlearn: 0.2642756\ttest: 0.2800283\tbest: 0.2800283 (360)\ttotal: 15.6s\tremaining: 6.02s\n",
      "361:\tlearn: 0.2642370\ttest: 0.2799635\tbest: 0.2799635 (361)\ttotal: 15.7s\tremaining: 5.98s\n",
      "362:\tlearn: 0.2641115\ttest: 0.2798325\tbest: 0.2798325 (362)\ttotal: 15.7s\tremaining: 5.94s\n",
      "363:\tlearn: 0.2640455\ttest: 0.2797993\tbest: 0.2797993 (363)\ttotal: 15.8s\tremaining: 5.89s\n",
      "364:\tlearn: 0.2639480\ttest: 0.2797035\tbest: 0.2797035 (364)\ttotal: 15.8s\tremaining: 5.85s\n",
      "365:\tlearn: 0.2638766\ttest: 0.2796143\tbest: 0.2796143 (365)\ttotal: 15.9s\tremaining: 5.8s\n",
      "366:\tlearn: 0.2638190\ttest: 0.2795411\tbest: 0.2795411 (366)\ttotal: 15.9s\tremaining: 5.76s\n",
      "367:\tlearn: 0.2637592\ttest: 0.2795306\tbest: 0.2795306 (367)\ttotal: 15.9s\tremaining: 5.71s\n",
      "368:\tlearn: 0.2636753\ttest: 0.2794489\tbest: 0.2794489 (368)\ttotal: 16s\tremaining: 5.67s\n",
      "369:\tlearn: 0.2636315\ttest: 0.2794148\tbest: 0.2794148 (369)\ttotal: 16s\tremaining: 5.62s\n",
      "370:\tlearn: 0.2635860\ttest: 0.2793459\tbest: 0.2793459 (370)\ttotal: 16s\tremaining: 5.58s\n",
      "371:\tlearn: 0.2635106\ttest: 0.2792793\tbest: 0.2792793 (371)\ttotal: 16.1s\tremaining: 5.53s\n",
      "372:\tlearn: 0.2634800\ttest: 0.2792629\tbest: 0.2792629 (372)\ttotal: 16.1s\tremaining: 5.49s\n",
      "373:\tlearn: 0.2634399\ttest: 0.2792676\tbest: 0.2792629 (372)\ttotal: 16.2s\tremaining: 5.44s\n",
      "374:\tlearn: 0.2634013\ttest: 0.2792587\tbest: 0.2792587 (374)\ttotal: 16.2s\tremaining: 5.4s\n",
      "375:\tlearn: 0.2631482\ttest: 0.2790183\tbest: 0.2790183 (375)\ttotal: 16.3s\tremaining: 5.37s\n",
      "376:\tlearn: 0.2630957\ttest: 0.2789541\tbest: 0.2789541 (376)\ttotal: 16.3s\tremaining: 5.32s\n",
      "377:\tlearn: 0.2630550\ttest: 0.2789159\tbest: 0.2789159 (377)\ttotal: 16.4s\tremaining: 5.28s\n",
      "378:\tlearn: 0.2629689\ttest: 0.2788222\tbest: 0.2788222 (378)\ttotal: 16.4s\tremaining: 5.24s\n",
      "379:\tlearn: 0.2629234\ttest: 0.2788053\tbest: 0.2788053 (379)\ttotal: 16.4s\tremaining: 5.19s\n",
      "380:\tlearn: 0.2628701\ttest: 0.2787926\tbest: 0.2787926 (380)\ttotal: 16.5s\tremaining: 5.15s\n",
      "381:\tlearn: 0.2627681\ttest: 0.2786614\tbest: 0.2786614 (381)\ttotal: 16.5s\tremaining: 5.1s\n",
      "382:\tlearn: 0.2626918\ttest: 0.2786101\tbest: 0.2786101 (382)\ttotal: 16.6s\tremaining: 5.06s\n",
      "383:\tlearn: 0.2625956\ttest: 0.2785647\tbest: 0.2785647 (383)\ttotal: 16.6s\tremaining: 5.01s\n",
      "384:\tlearn: 0.2625800\ttest: 0.2785480\tbest: 0.2785480 (384)\ttotal: 16.6s\tremaining: 4.97s\n",
      "385:\tlearn: 0.2625538\ttest: 0.2785271\tbest: 0.2785271 (385)\ttotal: 16.7s\tremaining: 4.93s\n",
      "386:\tlearn: 0.2624762\ttest: 0.2785033\tbest: 0.2785033 (386)\ttotal: 16.7s\tremaining: 4.88s\n",
      "387:\tlearn: 0.2624132\ttest: 0.2784621\tbest: 0.2784621 (387)\ttotal: 16.8s\tremaining: 4.84s\n",
      "388:\tlearn: 0.2623577\ttest: 0.2784111\tbest: 0.2784111 (388)\ttotal: 16.8s\tremaining: 4.8s\n",
      "389:\tlearn: 0.2623090\ttest: 0.2783825\tbest: 0.2783825 (389)\ttotal: 16.9s\tremaining: 4.75s\n",
      "390:\tlearn: 0.2622454\ttest: 0.2783522\tbest: 0.2783522 (390)\ttotal: 16.9s\tremaining: 4.71s\n",
      "391:\tlearn: 0.2621842\ttest: 0.2782578\tbest: 0.2782578 (391)\ttotal: 16.9s\tremaining: 4.67s\n",
      "392:\tlearn: 0.2621127\ttest: 0.2782008\tbest: 0.2782008 (392)\ttotal: 17s\tremaining: 4.62s\n",
      "393:\tlearn: 0.2620649\ttest: 0.2781973\tbest: 0.2781973 (393)\ttotal: 17s\tremaining: 4.58s\n",
      "394:\tlearn: 0.2619885\ttest: 0.2781466\tbest: 0.2781466 (394)\ttotal: 17.1s\tremaining: 4.54s\n",
      "395:\tlearn: 0.2619404\ttest: 0.2781207\tbest: 0.2781207 (395)\ttotal: 17.1s\tremaining: 4.49s\n",
      "396:\tlearn: 0.2618817\ttest: 0.2780816\tbest: 0.2780816 (396)\ttotal: 17.1s\tremaining: 4.45s\n",
      "397:\tlearn: 0.2618193\ttest: 0.2780498\tbest: 0.2780498 (397)\ttotal: 17.2s\tremaining: 4.41s\n",
      "398:\tlearn: 0.2617748\ttest: 0.2780450\tbest: 0.2780450 (398)\ttotal: 17.2s\tremaining: 4.36s\n",
      "399:\tlearn: 0.2616576\ttest: 0.2779827\tbest: 0.2779827 (399)\ttotal: 17.3s\tremaining: 4.32s\n",
      "400:\tlearn: 0.2616141\ttest: 0.2779381\tbest: 0.2779381 (400)\ttotal: 17.3s\tremaining: 4.27s\n",
      "401:\tlearn: 0.2615601\ttest: 0.2779022\tbest: 0.2779022 (401)\ttotal: 17.4s\tremaining: 4.23s\n",
      "402:\tlearn: 0.2615141\ttest: 0.2778726\tbest: 0.2778726 (402)\ttotal: 17.4s\tremaining: 4.19s\n",
      "403:\tlearn: 0.2613840\ttest: 0.2777413\tbest: 0.2777413 (403)\ttotal: 17.5s\tremaining: 4.15s\n",
      "404:\tlearn: 0.2613546\ttest: 0.2777534\tbest: 0.2777413 (403)\ttotal: 17.5s\tremaining: 4.11s\n",
      "405:\tlearn: 0.2612830\ttest: 0.2777232\tbest: 0.2777232 (405)\ttotal: 17.6s\tremaining: 4.06s\n",
      "406:\tlearn: 0.2612272\ttest: 0.2777200\tbest: 0.2777200 (406)\ttotal: 17.6s\tremaining: 4.02s\n",
      "407:\tlearn: 0.2612168\ttest: 0.2776967\tbest: 0.2776967 (407)\ttotal: 17.7s\tremaining: 3.98s\n",
      "408:\tlearn: 0.2611652\ttest: 0.2776171\tbest: 0.2776171 (408)\ttotal: 17.8s\tremaining: 3.95s\n",
      "409:\tlearn: 0.2611535\ttest: 0.2776326\tbest: 0.2776171 (408)\ttotal: 17.8s\tremaining: 3.91s\n",
      "410:\tlearn: 0.2610093\ttest: 0.2775380\tbest: 0.2775380 (410)\ttotal: 17.8s\tremaining: 3.86s\n",
      "411:\tlearn: 0.2609543\ttest: 0.2775064\tbest: 0.2775064 (411)\ttotal: 17.9s\tremaining: 3.82s\n",
      "412:\tlearn: 0.2608860\ttest: 0.2774651\tbest: 0.2774651 (412)\ttotal: 17.9s\tremaining: 3.77s\n",
      "413:\tlearn: 0.2608583\ttest: 0.2774407\tbest: 0.2774407 (413)\ttotal: 18s\tremaining: 3.73s\n",
      "414:\tlearn: 0.2607487\ttest: 0.2773738\tbest: 0.2773738 (414)\ttotal: 18s\tremaining: 3.69s\n",
      "415:\tlearn: 0.2607004\ttest: 0.2773548\tbest: 0.2773548 (415)\ttotal: 18s\tremaining: 3.64s\n",
      "416:\tlearn: 0.2604737\ttest: 0.2771427\tbest: 0.2771427 (416)\ttotal: 18.1s\tremaining: 3.6s\n",
      "417:\tlearn: 0.2604166\ttest: 0.2770880\tbest: 0.2770880 (417)\ttotal: 18.1s\tremaining: 3.56s\n",
      "418:\tlearn: 0.2603794\ttest: 0.2770537\tbest: 0.2770537 (418)\ttotal: 18.2s\tremaining: 3.52s\n",
      "419:\tlearn: 0.2603365\ttest: 0.2770358\tbest: 0.2770358 (419)\ttotal: 18.2s\tremaining: 3.47s\n",
      "420:\tlearn: 0.2602614\ttest: 0.2769379\tbest: 0.2769379 (420)\ttotal: 18.3s\tremaining: 3.43s\n",
      "421:\tlearn: 0.2602243\ttest: 0.2769338\tbest: 0.2769338 (421)\ttotal: 18.3s\tremaining: 3.38s\n",
      "422:\tlearn: 0.2601552\ttest: 0.2768887\tbest: 0.2768887 (422)\ttotal: 18.3s\tremaining: 3.34s\n",
      "423:\tlearn: 0.2600800\ttest: 0.2768522\tbest: 0.2768522 (423)\ttotal: 18.4s\tremaining: 3.3s\n",
      "424:\tlearn: 0.2599701\ttest: 0.2767612\tbest: 0.2767612 (424)\ttotal: 18.4s\tremaining: 3.25s\n",
      "425:\tlearn: 0.2599391\ttest: 0.2767684\tbest: 0.2767612 (424)\ttotal: 18.5s\tremaining: 3.21s\n",
      "426:\tlearn: 0.2598815\ttest: 0.2767685\tbest: 0.2767612 (424)\ttotal: 18.5s\tremaining: 3.17s\n",
      "427:\tlearn: 0.2598598\ttest: 0.2767440\tbest: 0.2767440 (427)\ttotal: 18.6s\tremaining: 3.12s\n",
      "428:\tlearn: 0.2597482\ttest: 0.2766615\tbest: 0.2766615 (428)\ttotal: 18.6s\tremaining: 3.08s\n",
      "429:\tlearn: 0.2596525\ttest: 0.2765676\tbest: 0.2765676 (429)\ttotal: 18.6s\tremaining: 3.03s\n",
      "430:\tlearn: 0.2596256\ttest: 0.2765850\tbest: 0.2765676 (429)\ttotal: 18.7s\tremaining: 2.99s\n",
      "431:\tlearn: 0.2596010\ttest: 0.2765629\tbest: 0.2765629 (431)\ttotal: 18.7s\tremaining: 2.94s\n",
      "432:\tlearn: 0.2595610\ttest: 0.2765174\tbest: 0.2765174 (432)\ttotal: 18.8s\tremaining: 2.9s\n",
      "433:\tlearn: 0.2595471\ttest: 0.2765275\tbest: 0.2765174 (432)\ttotal: 18.8s\tremaining: 2.86s\n",
      "434:\tlearn: 0.2595012\ttest: 0.2764778\tbest: 0.2764778 (434)\ttotal: 18.8s\tremaining: 2.81s\n",
      "435:\tlearn: 0.2594500\ttest: 0.2764291\tbest: 0.2764291 (435)\ttotal: 18.9s\tremaining: 2.77s\n",
      "436:\tlearn: 0.2593896\ttest: 0.2763475\tbest: 0.2763475 (436)\ttotal: 18.9s\tremaining: 2.73s\n",
      "437:\tlearn: 0.2593108\ttest: 0.2763197\tbest: 0.2763197 (437)\ttotal: 19s\tremaining: 2.68s\n",
      "438:\tlearn: 0.2592574\ttest: 0.2762973\tbest: 0.2762973 (438)\ttotal: 19s\tremaining: 2.64s\n",
      "439:\tlearn: 0.2592248\ttest: 0.2762694\tbest: 0.2762694 (439)\ttotal: 19s\tremaining: 2.6s\n",
      "440:\tlearn: 0.2592215\ttest: 0.2762612\tbest: 0.2762612 (440)\ttotal: 19.1s\tremaining: 2.55s\n",
      "441:\tlearn: 0.2592051\ttest: 0.2762649\tbest: 0.2762612 (440)\ttotal: 19.1s\tremaining: 2.51s\n",
      "442:\tlearn: 0.2591774\ttest: 0.2762231\tbest: 0.2762231 (442)\ttotal: 19.2s\tremaining: 2.46s\n",
      "443:\tlearn: 0.2591152\ttest: 0.2761559\tbest: 0.2761559 (443)\ttotal: 19.2s\tremaining: 2.42s\n",
      "444:\tlearn: 0.2590398\ttest: 0.2760690\tbest: 0.2760690 (444)\ttotal: 19.3s\tremaining: 2.38s\n",
      "445:\tlearn: 0.2589871\ttest: 0.2760540\tbest: 0.2760540 (445)\ttotal: 19.3s\tremaining: 2.34s\n",
      "446:\tlearn: 0.2589663\ttest: 0.2760501\tbest: 0.2760501 (446)\ttotal: 19.4s\tremaining: 2.3s\n",
      "447:\tlearn: 0.2589238\ttest: 0.2760040\tbest: 0.2760040 (447)\ttotal: 19.4s\tremaining: 2.25s\n",
      "448:\tlearn: 0.2589180\ttest: 0.2760327\tbest: 0.2760040 (447)\ttotal: 19.5s\tremaining: 2.21s\n",
      "449:\tlearn: 0.2588942\ttest: 0.2760227\tbest: 0.2760040 (447)\ttotal: 19.5s\tremaining: 2.17s\n",
      "450:\tlearn: 0.2588494\ttest: 0.2760128\tbest: 0.2760040 (447)\ttotal: 19.6s\tremaining: 2.13s\n",
      "451:\tlearn: 0.2587848\ttest: 0.2759469\tbest: 0.2759469 (451)\ttotal: 19.6s\tremaining: 2.08s\n",
      "452:\tlearn: 0.2587626\ttest: 0.2759486\tbest: 0.2759469 (451)\ttotal: 19.6s\tremaining: 2.04s\n",
      "453:\tlearn: 0.2587253\ttest: 0.2759561\tbest: 0.2759469 (451)\ttotal: 19.7s\tremaining: 1.99s\n",
      "454:\tlearn: 0.2586999\ttest: 0.2759416\tbest: 0.2759416 (454)\ttotal: 19.7s\tremaining: 1.95s\n",
      "455:\tlearn: 0.2586605\ttest: 0.2759411\tbest: 0.2759411 (455)\ttotal: 19.8s\tremaining: 1.91s\n",
      "456:\tlearn: 0.2585264\ttest: 0.2758360\tbest: 0.2758360 (456)\ttotal: 19.8s\tremaining: 1.86s\n",
      "457:\tlearn: 0.2584280\ttest: 0.2758109\tbest: 0.2758109 (457)\ttotal: 19.9s\tremaining: 1.82s\n",
      "458:\tlearn: 0.2583382\ttest: 0.2757293\tbest: 0.2757293 (458)\ttotal: 19.9s\tremaining: 1.78s\n",
      "459:\tlearn: 0.2583123\ttest: 0.2756569\tbest: 0.2756569 (459)\ttotal: 19.9s\tremaining: 1.73s\n",
      "460:\tlearn: 0.2582855\ttest: 0.2756383\tbest: 0.2756383 (460)\ttotal: 20s\tremaining: 1.69s\n",
      "461:\tlearn: 0.2580532\ttest: 0.2753935\tbest: 0.2753935 (461)\ttotal: 20s\tremaining: 1.65s\n",
      "462:\tlearn: 0.2580316\ttest: 0.2753651\tbest: 0.2753651 (462)\ttotal: 20.1s\tremaining: 1.6s\n",
      "463:\tlearn: 0.2579794\ttest: 0.2753648\tbest: 0.2753648 (463)\ttotal: 20.1s\tremaining: 1.56s\n",
      "464:\tlearn: 0.2579351\ttest: 0.2753662\tbest: 0.2753648 (463)\ttotal: 20.1s\tremaining: 1.52s\n",
      "465:\tlearn: 0.2579090\ttest: 0.2753534\tbest: 0.2753534 (465)\ttotal: 20.2s\tremaining: 1.47s\n",
      "466:\tlearn: 0.2578814\ttest: 0.2753488\tbest: 0.2753488 (466)\ttotal: 20.2s\tremaining: 1.43s\n",
      "467:\tlearn: 0.2578344\ttest: 0.2752893\tbest: 0.2752893 (467)\ttotal: 20.3s\tremaining: 1.39s\n",
      "468:\tlearn: 0.2577111\ttest: 0.2751899\tbest: 0.2751899 (468)\ttotal: 20.3s\tremaining: 1.34s\n",
      "469:\tlearn: 0.2576059\ttest: 0.2750651\tbest: 0.2750651 (469)\ttotal: 20.3s\tremaining: 1.3s\n",
      "470:\tlearn: 0.2575712\ttest: 0.2750767\tbest: 0.2750651 (469)\ttotal: 20.4s\tremaining: 1.25s\n",
      "471:\tlearn: 0.2575256\ttest: 0.2750250\tbest: 0.2750250 (471)\ttotal: 20.4s\tremaining: 1.21s\n",
      "472:\tlearn: 0.2574806\ttest: 0.2750159\tbest: 0.2750159 (472)\ttotal: 20.5s\tremaining: 1.17s\n",
      "473:\tlearn: 0.2574436\ttest: 0.2750201\tbest: 0.2750159 (472)\ttotal: 20.5s\tremaining: 1.12s\n",
      "474:\tlearn: 0.2574013\ttest: 0.2750534\tbest: 0.2750159 (472)\ttotal: 20.6s\tremaining: 1.08s\n",
      "475:\tlearn: 0.2573388\ttest: 0.2750052\tbest: 0.2750052 (475)\ttotal: 20.6s\tremaining: 1.04s\n",
      "476:\tlearn: 0.2572953\ttest: 0.2750095\tbest: 0.2750052 (475)\ttotal: 20.6s\tremaining: 995ms\n",
      "477:\tlearn: 0.2572608\ttest: 0.2749607\tbest: 0.2749607 (477)\ttotal: 20.7s\tremaining: 952ms\n",
      "478:\tlearn: 0.2572340\ttest: 0.2749323\tbest: 0.2749323 (478)\ttotal: 20.7s\tremaining: 908ms\n",
      "479:\tlearn: 0.2571777\ttest: 0.2749083\tbest: 0.2749083 (479)\ttotal: 20.8s\tremaining: 865ms\n",
      "480:\tlearn: 0.2571344\ttest: 0.2749207\tbest: 0.2749083 (479)\ttotal: 20.8s\tremaining: 822ms\n",
      "481:\tlearn: 0.2570702\ttest: 0.2749120\tbest: 0.2749083 (479)\ttotal: 20.8s\tremaining: 778ms\n",
      "482:\tlearn: 0.2570146\ttest: 0.2749256\tbest: 0.2749083 (479)\ttotal: 20.9s\tremaining: 735ms\n",
      "483:\tlearn: 0.2569350\ttest: 0.2748540\tbest: 0.2748540 (483)\ttotal: 20.9s\tremaining: 692ms\n",
      "484:\tlearn: 0.2569287\ttest: 0.2748575\tbest: 0.2748540 (483)\ttotal: 21s\tremaining: 648ms\n",
      "485:\tlearn: 0.2568876\ttest: 0.2748165\tbest: 0.2748165 (485)\ttotal: 21s\tremaining: 605ms\n",
      "486:\tlearn: 0.2568453\ttest: 0.2748118\tbest: 0.2748118 (486)\ttotal: 21s\tremaining: 562ms\n",
      "487:\tlearn: 0.2568152\ttest: 0.2747850\tbest: 0.2747850 (487)\ttotal: 21.1s\tremaining: 519ms\n",
      "488:\tlearn: 0.2567721\ttest: 0.2747234\tbest: 0.2747234 (488)\ttotal: 21.1s\tremaining: 475ms\n",
      "489:\tlearn: 0.2567002\ttest: 0.2746826\tbest: 0.2746826 (489)\ttotal: 21.2s\tremaining: 432ms\n",
      "490:\tlearn: 0.2566353\ttest: 0.2746565\tbest: 0.2746565 (490)\ttotal: 21.2s\tremaining: 389ms\n",
      "491:\tlearn: 0.2565903\ttest: 0.2746268\tbest: 0.2746268 (491)\ttotal: 21.3s\tremaining: 346ms\n",
      "492:\tlearn: 0.2564464\ttest: 0.2744771\tbest: 0.2744771 (492)\ttotal: 21.3s\tremaining: 302ms\n",
      "493:\tlearn: 0.2563844\ttest: 0.2744167\tbest: 0.2744167 (493)\ttotal: 21.3s\tremaining: 259ms\n",
      "494:\tlearn: 0.2563163\ttest: 0.2743567\tbest: 0.2743567 (494)\ttotal: 21.4s\tremaining: 216ms\n",
      "495:\tlearn: 0.2562717\ttest: 0.2743851\tbest: 0.2743567 (494)\ttotal: 21.4s\tremaining: 173ms\n",
      "496:\tlearn: 0.2562128\ttest: 0.2743439\tbest: 0.2743439 (496)\ttotal: 21.5s\tremaining: 130ms\n",
      "497:\tlearn: 0.2561413\ttest: 0.2743218\tbest: 0.2743218 (497)\ttotal: 21.5s\tremaining: 86.4ms\n",
      "498:\tlearn: 0.2561318\ttest: 0.2743051\tbest: 0.2743051 (498)\ttotal: 21.6s\tremaining: 43.2ms\n",
      "499:\tlearn: 0.2560485\ttest: 0.2742654\tbest: 0.2742654 (499)\ttotal: 21.6s\tremaining: 0us\n",
      "bestTest = 0.2742653764\n",
      "bestIteration = 499\n"
     ]
    },
    {
     "data": {
      "text/plain": "<catboost.core.CatBoostRegressor at 0x12dd5ae3b20>"
     },
     "execution_count": 87,
     "metadata": {},
     "output_type": "execute_result"
    }
   ],
   "source": [
    "clf.fit(train_data, eval_set=test_data, early_stopping_rounds=100,)"
   ],
   "metadata": {
    "collapsed": false,
    "pycharm": {
     "name": "#%%\n"
    }
   }
  },
  {
   "cell_type": "code",
   "execution_count": 88,
   "outputs": [],
   "source": [
    "from sklearn.metrics import mean_absolute_percentage_error"
   ],
   "metadata": {
    "collapsed": false,
    "pycharm": {
     "name": "#%%\n"
    }
   }
  },
  {
   "cell_type": "code",
   "execution_count": 89,
   "outputs": [
    {
     "data": {
      "text/plain": "0.22572628008539755"
     },
     "execution_count": 89,
     "metadata": {},
     "output_type": "execute_result"
    }
   ],
   "source": [
    "mean_absolute_percentage_error(clf.predict(train_data), y_train)"
   ],
   "metadata": {
    "collapsed": false,
    "pycharm": {
     "name": "#%%\n"
    }
   }
  },
  {
   "cell_type": "code",
   "execution_count": 85,
   "outputs": [],
   "source": [
    "# mean_absolute_percentage_error(np.exp(clf.predict(test_data)), y_test)"
   ],
   "metadata": {
    "collapsed": false,
    "pycharm": {
     "name": "#%%\n"
    }
   }
  },
  {
   "cell_type": "code",
   "execution_count": null,
   "outputs": [],
   "source": [],
   "metadata": {
    "collapsed": false,
    "pycharm": {
     "name": "#%%\n"
    }
   }
  },
  {
   "cell_type": "code",
   "execution_count": null,
   "outputs": [],
   "source": [],
   "metadata": {
    "collapsed": false,
    "pycharm": {
     "name": "#%%\n"
    }
   }
  },
  {
   "cell_type": "markdown",
   "source": [
    "## для теста"
   ],
   "metadata": {
    "collapsed": false,
    "pycharm": {
     "name": "#%%\n"
    }
   },
   "execution_count": 93
  },
  {
   "cell_type": "code",
   "execution_count": 94,
   "outputs": [],
   "source": [
    "df_test = pd.read_table(\"test.tsv/test.tsv\", delimiter=\"\\t\")"
   ],
   "metadata": {
    "collapsed": false,
    "pycharm": {
     "name": "#%%\n"
    }
   }
  },
  {
   "cell_type": "code",
   "execution_count": 95,
   "outputs": [],
   "source": [
    "df_test.drop(\"id\", axis=1, inplace=True)\n",
    "df_test.drop(\"employer_id\", axis=1, inplace=True)\n",
    "df_test.drop(\"raw_branded_description\", axis=1, inplace=True)\n",
    "df_test[\"have_raw_branded_description\"] = df_test[\"lemmaized_wo_stopwords_raw_branded_description\"].isna()\n",
    "df_test.drop(\"lemmaized_wo_stopwords_raw_branded_description\", axis=1, inplace=True)"
   ],
   "metadata": {
    "collapsed": false,
    "pycharm": {
     "name": "#%%\n"
    }
   }
  },
  {
   "cell_type": "code",
   "execution_count": 96,
   "outputs": [],
   "source": [
    "df_test[\"unified_address_city\"] = df_test.unified_address_city.fillna(\"unkonown\")\n",
    "df_test[\"unified_address_region\"] = df_test.unified_address_region.fillna(\"unknown\")"
   ],
   "metadata": {
    "collapsed": false,
    "pycharm": {
     "name": "#%%\n"
    }
   }
  },
  {
   "cell_type": "code",
   "execution_count": 97,
   "outputs": [],
   "source": [
    "df_test['is_branded_description'] = (df_test['is_branded_description'] == \"заполнено\")\n",
    "df_test[\"if_foreign_language\"] = (df_test[\"if_foreign_language\"] == \"Указано\")\n",
    "df_test[\"key_skills_name\"] = df_test[\"key_skills_name\"].apply(lambda x: x if x != \"не указано\" else \"\")"
   ],
   "metadata": {
    "collapsed": false,
    "pycharm": {
     "name": "#%%\n"
    }
   }
  },
  {
   "cell_type": "code",
   "execution_count": 98,
   "outputs": [],
   "source": [
    "import ast\n",
    "all_lang = []\n",
    "\n",
    "for langs in df_test[\"languages_name\"].values:\n",
    "    for i in set(ast.literal_eval(langs)):\n",
    "        all_lang.append(i)"
   ],
   "metadata": {
    "collapsed": false,
    "pycharm": {
     "name": "#%%\n"
    }
   }
  },
  {
   "cell_type": "code",
   "execution_count": 99,
   "outputs": [],
   "source": [
    "df_test[\"len_languages\"] = [len(ast.literal_eval(i)) for i in df_test.languages_name]"
   ],
   "metadata": {
    "collapsed": false,
    "pycharm": {
     "name": "#%%\n"
    }
   }
  },
  {
   "cell_type": "code",
   "execution_count": 100,
   "outputs": [],
   "source": [
    "df_test[\"first_lang\"] = df_test[\"languages_name\"].apply(get_first_lang)\n",
    "df_test[\"second_lang\"] = df_test[\"languages_name\"].apply(get_second_lang)"
   ],
   "metadata": {
    "collapsed": false,
    "pycharm": {
     "name": "#%%\n"
    }
   }
  },
  {
   "cell_type": "code",
   "execution_count": 101,
   "outputs": [],
   "source": [
    "df_test.drop(\"unified_address_country\", axis=1, inplace=True)\n",
    "df_test.drop(\"raw_description\", axis=1, inplace=True)\n",
    "df_test.drop(\"languages_name\", axis=1, inplace=True)\n",
    "df_test.drop(\"name\", axis=1, inplace=True)"
   ],
   "metadata": {
    "collapsed": false,
    "pycharm": {
     "name": "#%%\n"
    }
   }
  },
  {
   "cell_type": "code",
   "execution_count": 103,
   "outputs": [
    {
     "name": "stdout",
     "output_type": "stream",
     "text": [
      "text column: employer_name\n",
      "text column: key_skills_name\n",
      "text column: specializations_profarea_name\n",
      "text column: professional_roles_name\n",
      "text column: lemmaized_wo_stopwords_raw_description\n",
      "text column: name_clean\n",
      "text column: employer_industries\n"
     ]
    }
   ],
   "source": [
    "from sklearn.decomposition import PCA\n",
    "from sklearn.manifold import TSNE\n",
    "\n",
    "for text_column in text_features:\n",
    "    print(f\"text column: {text_column}\")\n",
    "    _, _, df_test = vectorize_column(df_test, text_column,\n",
    "                                           vectorizer=dict_vectorizers[text_column],\n",
    "                                           demension_reducer=dict_pcas[text_column]\n",
    "                                           )"
   ],
   "metadata": {
    "collapsed": false,
    "pycharm": {
     "name": "#%%\n"
    }
   }
  },
  {
   "cell_type": "code",
   "execution_count": 127,
   "outputs": [
    {
     "data": {
      "text/plain": "                                           employer_name     experience_name  \\\n0                                                 билайн           Нет опыта   \n1                                             GSR РАБОТА           Нет опыта   \n2                 Супермен (ИП Титов Кирилл Анатольевич)           Нет опыта   \n3                              Потапов Леонид Викторович  От 1 года до 3 лет   \n4                                                Работут           Нет опыта   \n...                                                  ...                 ...   \n26256                                       А101-Комфорт       От 3 до 6 лет   \n26257  Областное бюджетное учреждение здравоохранения...           Нет опыта   \n26258                                       Единый Центр  От 1 года до 3 лет   \n26259                                           СИТИЛИНК           Нет опыта   \n26260                                        СХП Терский       От 3 до 6 лет   \n\n        schedule_name                      key_skills_name  \\\n0         Полный день                     активные продажи   \n1         Полный день  контроль отгрузки и доставки товара   \n2         Полный день                                        \n3         Полный день                          грамотность   \n4      Сменный график                               сканер   \n...               ...                                  ...   \n26256     Полный день              руководство коллективом   \n26257     Полный день                     консультирование   \n26258     Полный день                     арбитражные суды   \n26259  Сменный график            проведение инвентаризаций   \n26260     Полный день                      пользователь пк   \n\n       accept_handicapped  accept_kids unified_address_city  \\\n0                   False        False             unkonown   \n1                   False        False      Нижний Новгород   \n2                   False        False               Самара   \n3                   False        False               Москва   \n4                   False        False                Химки   \n...                   ...          ...                  ...   \n26256               False        False               Москва   \n26257               False        False              Иваново   \n26258               False        False             unkonown   \n26259               False        False               Москва   \n26260               False        False             unkonown   \n\n       unified_address_state               unified_address_region  \\\n0          Красноярский край          Сибирский федеральный округ   \n1      Нижегородская область        Приволжский федеральный округ   \n2          Самарская область        Приволжский федеральный округ   \n3                     Москва        Центральный федеральный округ   \n4         Московская область        Центральный федеральный округ   \n...                      ...                                  ...   \n26256                 Москва        Центральный федеральный округ   \n26257     Ивановская область        Центральный федеральный округ   \n26258      Красноярский край          Сибирский федеральный округ   \n26259                 Москва        Центральный федеральный округ   \n26260    Ставропольский край  Северо-Кавказский федеральный округ   \n\n      specializations_profarea_name  ... tfidf_employer_industries_0  \\\n0                        не указано  ...                   -0.381053   \n1                        не указано  ...                    0.609203   \n2                        не указано  ...                    0.609203   \n3                        не указано  ...                   -0.380115   \n4                  рабочий персонал  ...                    0.609203   \n...                             ...  ...                         ...   \n26256                 строительство  ...                   -0.369298   \n26257                    не указано  ...                    0.609203   \n26258                    не указано  ...                    0.609203   \n26259                    не указано  ...                   -0.394951   \n26260                  производство  ...                    0.609203   \n\n      tfidf_employer_industries_1  tfidf_employer_industries_2  \\\n0                       -0.127319                    -0.008873   \n1                        0.021611                     0.000456   \n2                        0.021611                     0.000456   \n3                       -0.126046                    -0.008947   \n4                        0.021611                     0.000456   \n...                           ...                          ...   \n26256                   -0.112179                    -0.006077   \n26257                    0.021611                     0.000456   \n26258                    0.021611                     0.000456   \n26259                   -0.149393                    -0.012891   \n26260                    0.021611                     0.000456   \n\n       tfidf_employer_industries_3 tfidf_employer_industries_4  \\\n0                         0.001596                     0.03747   \n1                         0.000137                    -0.00196   \n2                         0.000137                    -0.00196   \n3                        -0.000882                     0.03815   \n4                         0.000137                    -0.00196   \n...                            ...                         ...   \n26256                    -0.001834                     0.02849   \n26257                     0.000137                    -0.00196   \n26258                     0.000137                    -0.00196   \n26259                    -0.005045                     0.07301   \n26260                     0.000137                    -0.00196   \n\n      tfidf_employer_industries_5 tfidf_employer_industries_6  \\\n0                       -0.075132                   -0.057673   \n1                        0.003128                    0.001967   \n2                        0.003128                    0.001967   \n3                       -0.072557                   -0.062486   \n4                        0.003128                    0.001967   \n...                           ...                         ...   \n26256                   -0.051126                   -0.038961   \n26257                    0.003128                    0.001967   \n26258                    0.003128                    0.001967   \n26259                   -0.166941                   -0.205687   \n26260                    0.003128                    0.001967   \n\n       tfidf_employer_industries_7  tfidf_employer_industries_8  \\\n0                        -0.022209                     0.014285   \n1                         0.000484                     0.000443   \n2                         0.000484                     0.000443   \n3                        -0.015449                     0.007980   \n4                         0.000484                     0.000443   \n...                            ...                          ...   \n26256                    -0.011879                    -0.011623   \n26257                     0.000484                     0.000443   \n26258                     0.000484                     0.000443   \n26259                     0.794533                     0.215852   \n26260                     0.000484                     0.000443   \n\n      tfidf_employer_industries_9  \n0                       -0.041983  \n1                        0.000619  \n2                        0.000619  \n3                       -0.042207  \n4                        0.000619  \n...                           ...  \n26256                   -0.018012  \n26257                    0.000619  \n26258                    0.000619  \n26259                    0.177554  \n26260                    0.000619  \n\n[26261 rows x 91 columns]",
      "text/html": "<div>\n<style scoped>\n    .dataframe tbody tr th:only-of-type {\n        vertical-align: middle;\n    }\n\n    .dataframe tbody tr th {\n        vertical-align: top;\n    }\n\n    .dataframe thead th {\n        text-align: right;\n    }\n</style>\n<table border=\"1\" class=\"dataframe\">\n  <thead>\n    <tr style=\"text-align: right;\">\n      <th></th>\n      <th>employer_name</th>\n      <th>experience_name</th>\n      <th>schedule_name</th>\n      <th>key_skills_name</th>\n      <th>accept_handicapped</th>\n      <th>accept_kids</th>\n      <th>unified_address_city</th>\n      <th>unified_address_state</th>\n      <th>unified_address_region</th>\n      <th>specializations_profarea_name</th>\n      <th>...</th>\n      <th>tfidf_employer_industries_0</th>\n      <th>tfidf_employer_industries_1</th>\n      <th>tfidf_employer_industries_2</th>\n      <th>tfidf_employer_industries_3</th>\n      <th>tfidf_employer_industries_4</th>\n      <th>tfidf_employer_industries_5</th>\n      <th>tfidf_employer_industries_6</th>\n      <th>tfidf_employer_industries_7</th>\n      <th>tfidf_employer_industries_8</th>\n      <th>tfidf_employer_industries_9</th>\n    </tr>\n  </thead>\n  <tbody>\n    <tr>\n      <th>0</th>\n      <td>билайн</td>\n      <td>Нет опыта</td>\n      <td>Полный день</td>\n      <td>активные продажи</td>\n      <td>False</td>\n      <td>False</td>\n      <td>unkonown</td>\n      <td>Красноярский край</td>\n      <td>Сибирский федеральный округ</td>\n      <td>не указано</td>\n      <td>...</td>\n      <td>-0.381053</td>\n      <td>-0.127319</td>\n      <td>-0.008873</td>\n      <td>0.001596</td>\n      <td>0.03747</td>\n      <td>-0.075132</td>\n      <td>-0.057673</td>\n      <td>-0.022209</td>\n      <td>0.014285</td>\n      <td>-0.041983</td>\n    </tr>\n    <tr>\n      <th>1</th>\n      <td>GSR РАБОТА</td>\n      <td>Нет опыта</td>\n      <td>Полный день</td>\n      <td>контроль отгрузки и доставки товара</td>\n      <td>False</td>\n      <td>False</td>\n      <td>Нижний Новгород</td>\n      <td>Нижегородская область</td>\n      <td>Приволжский федеральный округ</td>\n      <td>не указано</td>\n      <td>...</td>\n      <td>0.609203</td>\n      <td>0.021611</td>\n      <td>0.000456</td>\n      <td>0.000137</td>\n      <td>-0.00196</td>\n      <td>0.003128</td>\n      <td>0.001967</td>\n      <td>0.000484</td>\n      <td>0.000443</td>\n      <td>0.000619</td>\n    </tr>\n    <tr>\n      <th>2</th>\n      <td>Супермен (ИП Титов Кирилл Анатольевич)</td>\n      <td>Нет опыта</td>\n      <td>Полный день</td>\n      <td></td>\n      <td>False</td>\n      <td>False</td>\n      <td>Самара</td>\n      <td>Самарская область</td>\n      <td>Приволжский федеральный округ</td>\n      <td>не указано</td>\n      <td>...</td>\n      <td>0.609203</td>\n      <td>0.021611</td>\n      <td>0.000456</td>\n      <td>0.000137</td>\n      <td>-0.00196</td>\n      <td>0.003128</td>\n      <td>0.001967</td>\n      <td>0.000484</td>\n      <td>0.000443</td>\n      <td>0.000619</td>\n    </tr>\n    <tr>\n      <th>3</th>\n      <td>Потапов Леонид Викторович</td>\n      <td>От 1 года до 3 лет</td>\n      <td>Полный день</td>\n      <td>грамотность</td>\n      <td>False</td>\n      <td>False</td>\n      <td>Москва</td>\n      <td>Москва</td>\n      <td>Центральный федеральный округ</td>\n      <td>не указано</td>\n      <td>...</td>\n      <td>-0.380115</td>\n      <td>-0.126046</td>\n      <td>-0.008947</td>\n      <td>-0.000882</td>\n      <td>0.03815</td>\n      <td>-0.072557</td>\n      <td>-0.062486</td>\n      <td>-0.015449</td>\n      <td>0.007980</td>\n      <td>-0.042207</td>\n    </tr>\n    <tr>\n      <th>4</th>\n      <td>Работут</td>\n      <td>Нет опыта</td>\n      <td>Сменный график</td>\n      <td>сканер</td>\n      <td>False</td>\n      <td>False</td>\n      <td>Химки</td>\n      <td>Московская область</td>\n      <td>Центральный федеральный округ</td>\n      <td>рабочий персонал</td>\n      <td>...</td>\n      <td>0.609203</td>\n      <td>0.021611</td>\n      <td>0.000456</td>\n      <td>0.000137</td>\n      <td>-0.00196</td>\n      <td>0.003128</td>\n      <td>0.001967</td>\n      <td>0.000484</td>\n      <td>0.000443</td>\n      <td>0.000619</td>\n    </tr>\n    <tr>\n      <th>...</th>\n      <td>...</td>\n      <td>...</td>\n      <td>...</td>\n      <td>...</td>\n      <td>...</td>\n      <td>...</td>\n      <td>...</td>\n      <td>...</td>\n      <td>...</td>\n      <td>...</td>\n      <td>...</td>\n      <td>...</td>\n      <td>...</td>\n      <td>...</td>\n      <td>...</td>\n      <td>...</td>\n      <td>...</td>\n      <td>...</td>\n      <td>...</td>\n      <td>...</td>\n      <td>...</td>\n    </tr>\n    <tr>\n      <th>26256</th>\n      <td>А101-Комфорт</td>\n      <td>От 3 до 6 лет</td>\n      <td>Полный день</td>\n      <td>руководство коллективом</td>\n      <td>False</td>\n      <td>False</td>\n      <td>Москва</td>\n      <td>Москва</td>\n      <td>Центральный федеральный округ</td>\n      <td>строительство</td>\n      <td>...</td>\n      <td>-0.369298</td>\n      <td>-0.112179</td>\n      <td>-0.006077</td>\n      <td>-0.001834</td>\n      <td>0.02849</td>\n      <td>-0.051126</td>\n      <td>-0.038961</td>\n      <td>-0.011879</td>\n      <td>-0.011623</td>\n      <td>-0.018012</td>\n    </tr>\n    <tr>\n      <th>26257</th>\n      <td>Областное бюджетное учреждение здравоохранения...</td>\n      <td>Нет опыта</td>\n      <td>Полный день</td>\n      <td>консультирование</td>\n      <td>False</td>\n      <td>False</td>\n      <td>Иваново</td>\n      <td>Ивановская область</td>\n      <td>Центральный федеральный округ</td>\n      <td>не указано</td>\n      <td>...</td>\n      <td>0.609203</td>\n      <td>0.021611</td>\n      <td>0.000456</td>\n      <td>0.000137</td>\n      <td>-0.00196</td>\n      <td>0.003128</td>\n      <td>0.001967</td>\n      <td>0.000484</td>\n      <td>0.000443</td>\n      <td>0.000619</td>\n    </tr>\n    <tr>\n      <th>26258</th>\n      <td>Единый Центр</td>\n      <td>От 1 года до 3 лет</td>\n      <td>Полный день</td>\n      <td>арбитражные суды</td>\n      <td>False</td>\n      <td>False</td>\n      <td>unkonown</td>\n      <td>Красноярский край</td>\n      <td>Сибирский федеральный округ</td>\n      <td>не указано</td>\n      <td>...</td>\n      <td>0.609203</td>\n      <td>0.021611</td>\n      <td>0.000456</td>\n      <td>0.000137</td>\n      <td>-0.00196</td>\n      <td>0.003128</td>\n      <td>0.001967</td>\n      <td>0.000484</td>\n      <td>0.000443</td>\n      <td>0.000619</td>\n    </tr>\n    <tr>\n      <th>26259</th>\n      <td>СИТИЛИНК</td>\n      <td>Нет опыта</td>\n      <td>Сменный график</td>\n      <td>проведение инвентаризаций</td>\n      <td>False</td>\n      <td>False</td>\n      <td>Москва</td>\n      <td>Москва</td>\n      <td>Центральный федеральный округ</td>\n      <td>не указано</td>\n      <td>...</td>\n      <td>-0.394951</td>\n      <td>-0.149393</td>\n      <td>-0.012891</td>\n      <td>-0.005045</td>\n      <td>0.07301</td>\n      <td>-0.166941</td>\n      <td>-0.205687</td>\n      <td>0.794533</td>\n      <td>0.215852</td>\n      <td>0.177554</td>\n    </tr>\n    <tr>\n      <th>26260</th>\n      <td>СХП Терский</td>\n      <td>От 3 до 6 лет</td>\n      <td>Полный день</td>\n      <td>пользователь пк</td>\n      <td>False</td>\n      <td>False</td>\n      <td>unkonown</td>\n      <td>Ставропольский край</td>\n      <td>Северо-Кавказский федеральный округ</td>\n      <td>производство</td>\n      <td>...</td>\n      <td>0.609203</td>\n      <td>0.021611</td>\n      <td>0.000456</td>\n      <td>0.000137</td>\n      <td>-0.00196</td>\n      <td>0.003128</td>\n      <td>0.001967</td>\n      <td>0.000484</td>\n      <td>0.000443</td>\n      <td>0.000619</td>\n    </tr>\n  </tbody>\n</table>\n<p>26261 rows × 91 columns</p>\n</div>"
     },
     "execution_count": 127,
     "metadata": {},
     "output_type": "execute_result"
    }
   ],
   "source": [
    "df_test"
   ],
   "metadata": {
    "collapsed": false,
    "pycharm": {
     "name": "#%%\n"
    }
   }
  },
  {
   "cell_type": "code",
   "execution_count": null,
   "outputs": [],
   "source": [],
   "metadata": {
    "collapsed": false,
    "pycharm": {
     "name": "#%%\n"
    }
   }
  },
  {
   "cell_type": "code",
   "execution_count": 105,
   "outputs": [],
   "source": [
    "test_pool = Pool(data=df_test, cat_features=cat_features, text_features=text_features)"
   ],
   "metadata": {
    "collapsed": false,
    "pycharm": {
     "name": "#%%\n"
    }
   }
  },
  {
   "cell_type": "code",
   "execution_count": 107,
   "outputs": [],
   "source": [
    "answers = clf.predict(test_pool)"
   ],
   "metadata": {
    "collapsed": false,
    "pycharm": {
     "name": "#%%\n"
    }
   }
  },
  {
   "cell_type": "code",
   "execution_count": 123,
   "outputs": [],
   "source": [
    "sample_sub = pd.read_csv(\"sample_submission.tsv\", delimiter=\"\\t\")"
   ],
   "metadata": {
    "collapsed": false,
    "pycharm": {
     "name": "#%%\n"
    }
   }
  },
  {
   "cell_type": "code",
   "execution_count": 124,
   "outputs": [
    {
     "data": {
      "text/plain": "         id  salary_mean_net\n0  45165602            77508\n1  47291202           409890\n2  44208002           162591\n3  43765603           179264\n4  49313000           482511",
      "text/html": "<div>\n<style scoped>\n    .dataframe tbody tr th:only-of-type {\n        vertical-align: middle;\n    }\n\n    .dataframe tbody tr th {\n        vertical-align: top;\n    }\n\n    .dataframe thead th {\n        text-align: right;\n    }\n</style>\n<table border=\"1\" class=\"dataframe\">\n  <thead>\n    <tr style=\"text-align: right;\">\n      <th></th>\n      <th>id</th>\n      <th>salary_mean_net</th>\n    </tr>\n  </thead>\n  <tbody>\n    <tr>\n      <th>0</th>\n      <td>45165602</td>\n      <td>77508</td>\n    </tr>\n    <tr>\n      <th>1</th>\n      <td>47291202</td>\n      <td>409890</td>\n    </tr>\n    <tr>\n      <th>2</th>\n      <td>44208002</td>\n      <td>162591</td>\n    </tr>\n    <tr>\n      <th>3</th>\n      <td>43765603</td>\n      <td>179264</td>\n    </tr>\n    <tr>\n      <th>4</th>\n      <td>49313000</td>\n      <td>482511</td>\n    </tr>\n  </tbody>\n</table>\n</div>"
     },
     "execution_count": 124,
     "metadata": {},
     "output_type": "execute_result"
    }
   ],
   "source": [
    "sample_sub.head()"
   ],
   "metadata": {
    "collapsed": false,
    "pycharm": {
     "name": "#%%\n"
    }
   }
  },
  {
   "cell_type": "code",
   "execution_count": 115,
   "outputs": [
    {
     "data": {
      "text/plain": "0        True\n1        True\n2        True\n3        True\n4        True\n         ... \n26256    True\n26257    True\n26258    True\n26259    True\n26260    True\nName: id, Length: 26261, dtype: bool"
     },
     "execution_count": 115,
     "metadata": {},
     "output_type": "execute_result"
    }
   ],
   "source": [
    "pd.read_csv(\"test.tsv/test.tsv\", delimiter=\"\\t\").id == sample_sub.id"
   ],
   "metadata": {
    "collapsed": false,
    "pycharm": {
     "name": "#%%\n"
    }
   }
  },
  {
   "cell_type": "code",
   "execution_count": null,
   "outputs": [],
   "source": [],
   "metadata": {
    "collapsed": false,
    "pycharm": {
     "name": "#%%\n"
    }
   }
  },
  {
   "cell_type": "code",
   "execution_count": 116,
   "outputs": [],
   "source": [
    "sample_sub[\"salary_mean_net\"] = answers"
   ],
   "metadata": {
    "collapsed": false,
    "pycharm": {
     "name": "#%%\n"
    }
   }
  },
  {
   "cell_type": "code",
   "execution_count": 125,
   "outputs": [],
   "source": [
    "sample_sub.to_csv(\"baseline_v1.csv\", index=None, sep=\"\\t\")"
   ],
   "metadata": {
    "collapsed": false,
    "pycharm": {
     "name": "#%%\n"
    }
   }
  },
  {
   "cell_type": "code",
   "execution_count": null,
   "outputs": [],
   "source": [],
   "metadata": {
    "collapsed": false,
    "pycharm": {
     "name": "#%%\n"
    }
   }
  },
  {
   "cell_type": "code",
   "execution_count": null,
   "outputs": [],
   "source": [],
   "metadata": {
    "collapsed": false,
    "pycharm": {
     "name": "#%%\n"
    }
   }
  },
  {
   "cell_type": "markdown",
   "source": [
    "- добавить w2vec\n",
    "- посмотреть отличия с решением оргов - почему у них простейшее дерево рандомное выбивает больше\n",
    "- повыбивать макс скор\n",
    "- залить что есть"
   ],
   "metadata": {
    "collapsed": false,
    "pycharm": {
     "name": "#%% md\n"
    }
   }
  },
  {
   "cell_type": "code",
   "execution_count": null,
   "outputs": [],
   "source": [],
   "metadata": {
    "collapsed": false,
    "pycharm": {
     "name": "#%%\n"
    }
   }
  }
 ],
 "metadata": {
  "kernelspec": {
   "display_name": "Python 3",
   "language": "python",
   "name": "python3"
  },
  "language_info": {
   "codemirror_mode": {
    "name": "ipython",
    "version": 2
   },
   "file_extension": ".py",
   "mimetype": "text/x-python",
   "name": "python",
   "nbconvert_exporter": "python",
   "pygments_lexer": "ipython2",
   "version": "2.7.6"
  }
 },
 "nbformat": 4,
 "nbformat_minor": 0
}