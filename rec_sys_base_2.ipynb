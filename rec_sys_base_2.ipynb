{
 "cells": [
  {
   "cell_type": "markdown",
   "metadata": {},
   "source": [
    "## Задача 1. Рекомендательные системы"
   ]
  },
  {
   "cell_type": "markdown",
   "metadata": {},
   "source": [
    "Ваша задача — построить рекомендательную систему для социальной сети ОК. Для этого Вам необходимо обучить модель, которая для каждого пользователя (имя пользователя закодировано через customer_id) будет формировать список из рекомендуемых 7 групп (community_id), в которых он пока не состоит.\n",
    "\n",
    "Примечание: Необходимо рекомендовать пользователю только те группы, в которые он еще не вступил, т.е. их нет в обучающей выборке.\n",
    "\n",
    "Данные:\n",
    "Для построения модели Вам будут доступны различные данные о пользователях и о том, в какие группы они вступили и когда, описания и данные групп, а также тестовый набор customer_id, для которых необходимо сделать прогноз. Ниже приведены описания всех полей в данных:"
   ]
  },
  {
   "cell_type": "code",
   "execution_count": 4,
   "metadata": {},
   "outputs": [],
   "source": [
    "import pandas as pd\n",
    "import numpy as np\n",
    "\n",
    "from sklearn.neighbors import NearestNeighbors\n",
    "from sklearn.preprocessing import StandardScaler\n",
    "\n",
    "from implicit.evaluation import mean_average_precision_at_k\n",
    "from scipy.sparse import csr_matrix\n",
    "from sklearn.model_selection import train_test_split\n",
    "# from lightfm.cross_validation import random_train_test_split\n",
    "\n",
    "import warnings\n",
    "warnings.filterwarnings('ignore')"
   ]
  },
  {
   "cell_type": "markdown",
   "metadata": {},
   "source": [
    "### Загрузка и обработка данных"
   ]
  },
  {
   "cell_type": "code",
   "execution_count": 5,
   "metadata": {},
   "outputs": [
    {
     "data": {
      "text/plain": "                                        community_id  \\\n0  00dbc35ec26c5b6452a3259194b2d2f74eae7141d2bc75...   \n1  06107f1eae304c45d3e6324cc86f7d39662793a53b159b...   \n2  06107f1eae304c45d3e6324cc86f7d39662793a53b159b...   \n3  06107f1eae304c45d3e6324cc86f7d39662793a53b159b...   \n4  097e4dae68029ecc3c6183ed4386aff71dcac227cbaff7...   \n\n                                         description  customers_count  \\\n0  Ванга сказала: \"Выживет пчела - выживет челове...             2966   \n1                                                NaN             8982   \n2                                                NaN             8982   \n3                                                NaN             8982   \n4  Читать внимательно!!! Причины попадания в чёрн...             1035   \n\n   messages_count  type     region_id  themeid business_category  \\\n0               1     7           NaN      NaN               NaN   \n1               2     7  1.042403e+10    246.0               NaN   \n2               2     7  1.042403e+10    246.0               NaN   \n3               2     7  1.042403e+10    246.0               NaN   \n4               1     7  1.041779e+10      NaN          FAN_CLUB   \n\n  business_parent                                        customer_id status  \\\n0             NaN  947224211267aefcc2e3e9c524fdf46ce329bc638e8bf1...      A   \n1             NaN  b935c3390d82df612de19591d2dd16e1eff8e660746bb3...      A   \n2             NaN  ff873dee9234ee290d92eb6c15d7179aabf0653dbed3b3...      A   \n3             NaN  737ef0e849feda6cdfd350d19fcedaf17aebb757c0a1fc...      A   \n4            BLOG  780fb8c178af972826ac0f84e42ac4c6c1dcdeeec0c4dd...      A   \n\n   join_request_date  \n0                NaN  \n1                NaN  \n2                NaN  \n3                NaN  \n4                NaN  ",
      "text/html": "<div>\n<style scoped>\n    .dataframe tbody tr th:only-of-type {\n        vertical-align: middle;\n    }\n\n    .dataframe tbody tr th {\n        vertical-align: top;\n    }\n\n    .dataframe thead th {\n        text-align: right;\n    }\n</style>\n<table border=\"1\" class=\"dataframe\">\n  <thead>\n    <tr style=\"text-align: right;\">\n      <th></th>\n      <th>community_id</th>\n      <th>description</th>\n      <th>customers_count</th>\n      <th>messages_count</th>\n      <th>type</th>\n      <th>region_id</th>\n      <th>themeid</th>\n      <th>business_category</th>\n      <th>business_parent</th>\n      <th>customer_id</th>\n      <th>status</th>\n      <th>join_request_date</th>\n    </tr>\n  </thead>\n  <tbody>\n    <tr>\n      <th>0</th>\n      <td>00dbc35ec26c5b6452a3259194b2d2f74eae7141d2bc75...</td>\n      <td>Ванга сказала: \"Выживет пчела - выживет челове...</td>\n      <td>2966</td>\n      <td>1</td>\n      <td>7</td>\n      <td>NaN</td>\n      <td>NaN</td>\n      <td>NaN</td>\n      <td>NaN</td>\n      <td>947224211267aefcc2e3e9c524fdf46ce329bc638e8bf1...</td>\n      <td>A</td>\n      <td>NaN</td>\n    </tr>\n    <tr>\n      <th>1</th>\n      <td>06107f1eae304c45d3e6324cc86f7d39662793a53b159b...</td>\n      <td>NaN</td>\n      <td>8982</td>\n      <td>2</td>\n      <td>7</td>\n      <td>1.042403e+10</td>\n      <td>246.0</td>\n      <td>NaN</td>\n      <td>NaN</td>\n      <td>b935c3390d82df612de19591d2dd16e1eff8e660746bb3...</td>\n      <td>A</td>\n      <td>NaN</td>\n    </tr>\n    <tr>\n      <th>2</th>\n      <td>06107f1eae304c45d3e6324cc86f7d39662793a53b159b...</td>\n      <td>NaN</td>\n      <td>8982</td>\n      <td>2</td>\n      <td>7</td>\n      <td>1.042403e+10</td>\n      <td>246.0</td>\n      <td>NaN</td>\n      <td>NaN</td>\n      <td>ff873dee9234ee290d92eb6c15d7179aabf0653dbed3b3...</td>\n      <td>A</td>\n      <td>NaN</td>\n    </tr>\n    <tr>\n      <th>3</th>\n      <td>06107f1eae304c45d3e6324cc86f7d39662793a53b159b...</td>\n      <td>NaN</td>\n      <td>8982</td>\n      <td>2</td>\n      <td>7</td>\n      <td>1.042403e+10</td>\n      <td>246.0</td>\n      <td>NaN</td>\n      <td>NaN</td>\n      <td>737ef0e849feda6cdfd350d19fcedaf17aebb757c0a1fc...</td>\n      <td>A</td>\n      <td>NaN</td>\n    </tr>\n    <tr>\n      <th>4</th>\n      <td>097e4dae68029ecc3c6183ed4386aff71dcac227cbaff7...</td>\n      <td>Читать внимательно!!! Причины попадания в чёрн...</td>\n      <td>1035</td>\n      <td>1</td>\n      <td>7</td>\n      <td>1.041779e+10</td>\n      <td>NaN</td>\n      <td>FAN_CLUB</td>\n      <td>BLOG</td>\n      <td>780fb8c178af972826ac0f84e42ac4c6c1dcdeeec0c4dd...</td>\n      <td>A</td>\n      <td>NaN</td>\n    </tr>\n  </tbody>\n</table>\n</div>"
     },
     "execution_count": 5,
     "metadata": {},
     "output_type": "execute_result"
    }
   ],
   "source": [
    "X = pd.read_csv('train_df.tsv.gz', sep = '\\t', index_col=0).drop_duplicates()\n",
    "X.head(5)"
   ]
  },
  {
   "cell_type": "code",
   "execution_count": 21,
   "outputs": [
    {
     "name": "stdout",
     "output_type": "stream",
     "text": [
      "end\n"
     ]
    }
   ],
   "source": [
    "print(\"end\")"
   ],
   "metadata": {
    "collapsed": false,
    "pycharm": {
     "name": "#%%\n"
    }
   }
  },
  {
   "cell_type": "code",
   "execution_count": 20,
   "outputs": [],
   "source": [
    "from sklearn.preprocessing import LabelEncoder"
   ],
   "metadata": {
    "collapsed": false,
    "pycharm": {
     "name": "#%%\n"
    }
   }
  },
  {
   "cell_type": "code",
   "execution_count": 7,
   "outputs": [],
   "source": [
    "encoder_com_id = LabelEncoder()\n",
    "encoder_com_id.fit(X.community_id)\n",
    "X[\"com_id\"] = encoder_com_id.transform(X[\"community_id\"])"
   ],
   "metadata": {
    "collapsed": false,
    "pycharm": {
     "name": "#%%\n"
    }
   }
  },
  {
   "cell_type": "code",
   "execution_count": 8,
   "outputs": [],
   "source": [
    "encoder_usr_id = LabelEncoder()\n",
    "encoder_usr_id.fit(X.customer_id)\n",
    "X[\"cust_id\"] = encoder_usr_id.transform(X[\"customer_id\"])"
   ],
   "metadata": {
    "collapsed": false,
    "pycharm": {
     "name": "#%%\n"
    }
   }
  },
  {
   "cell_type": "code",
   "execution_count": 8,
   "metadata": {},
   "outputs": [],
   "source": []
  },
  {
   "cell_type": "code",
   "execution_count": 9,
   "outputs": [
    {
     "data": {
      "text/plain": "array([0, 3, 4, 1, 2, 6, 5])"
     },
     "execution_count": 9,
     "metadata": {},
     "output_type": "execute_result"
    }
   ],
   "source": [
    "from sklearn.preprocessing import LabelEncoder\n",
    "\n",
    "lab_enc = LabelEncoder()\n",
    "X['status'] = lab_enc.fit_transform(X['status'])\n",
    "\n",
    "X['status'].unique()"
   ],
   "metadata": {
    "collapsed": false,
    "pycharm": {
     "name": "#%%\n"
    }
   }
  },
  {
   "cell_type": "code",
   "execution_count": 10,
   "metadata": {},
   "outputs": [
    {
     "data": {
      "text/plain": "0    7276008\n1    4254266\nName: target, dtype: int64"
     },
     "execution_count": 10,
     "metadata": {},
     "output_type": "execute_result"
    }
   ],
   "source": [
    "X['target'] = X['status'].apply(lambda x: 0 if x == 0 else 1)\n",
    "X['target'].value_counts()"
   ]
  },
  {
   "cell_type": "code",
   "execution_count": 11,
   "outputs": [],
   "source": [
    "X = X.drop(columns = ['status'])"
   ],
   "metadata": {
    "collapsed": false,
    "pycharm": {
     "name": "#%%\n"
    }
   }
  },
  {
   "cell_type": "code",
   "execution_count": 12,
   "outputs": [
    {
     "data": {
      "text/plain": "                                        community_id  \\\n0  00dbc35ec26c5b6452a3259194b2d2f74eae7141d2bc75...   \n1  06107f1eae304c45d3e6324cc86f7d39662793a53b159b...   \n2  06107f1eae304c45d3e6324cc86f7d39662793a53b159b...   \n3  06107f1eae304c45d3e6324cc86f7d39662793a53b159b...   \n4  097e4dae68029ecc3c6183ed4386aff71dcac227cbaff7...   \n\n                                         description  customers_count  \\\n0  Ванга сказала: \"Выживет пчела - выживет челове...             2966   \n1                                                NaN             8982   \n2                                                NaN             8982   \n3                                                NaN             8982   \n4  Читать внимательно!!! Причины попадания в чёрн...             1035   \n\n   messages_count  type     region_id  themeid business_category  \\\n0               1     7           NaN      NaN               NaN   \n1               2     7  1.042403e+10    246.0               NaN   \n2               2     7  1.042403e+10    246.0               NaN   \n3               2     7  1.042403e+10    246.0               NaN   \n4               1     7  1.041779e+10      NaN          FAN_CLUB   \n\n  business_parent                                        customer_id  \\\n0             NaN  947224211267aefcc2e3e9c524fdf46ce329bc638e8bf1...   \n1             NaN  b935c3390d82df612de19591d2dd16e1eff8e660746bb3...   \n2             NaN  ff873dee9234ee290d92eb6c15d7179aabf0653dbed3b3...   \n3             NaN  737ef0e849feda6cdfd350d19fcedaf17aebb757c0a1fc...   \n4            BLOG  780fb8c178af972826ac0f84e42ac4c6c1dcdeeec0c4dd...   \n\n   join_request_date  com_id  cust_id  target  \n0                NaN     486   908981       0  \n1                NaN    3578  1134537       0  \n2                NaN    3578  1565515       0  \n3                NaN    3578   706749       0  \n4                NaN    5627   734661       0  ",
      "text/html": "<div>\n<style scoped>\n    .dataframe tbody tr th:only-of-type {\n        vertical-align: middle;\n    }\n\n    .dataframe tbody tr th {\n        vertical-align: top;\n    }\n\n    .dataframe thead th {\n        text-align: right;\n    }\n</style>\n<table border=\"1\" class=\"dataframe\">\n  <thead>\n    <tr style=\"text-align: right;\">\n      <th></th>\n      <th>community_id</th>\n      <th>description</th>\n      <th>customers_count</th>\n      <th>messages_count</th>\n      <th>type</th>\n      <th>region_id</th>\n      <th>themeid</th>\n      <th>business_category</th>\n      <th>business_parent</th>\n      <th>customer_id</th>\n      <th>join_request_date</th>\n      <th>com_id</th>\n      <th>cust_id</th>\n      <th>target</th>\n    </tr>\n  </thead>\n  <tbody>\n    <tr>\n      <th>0</th>\n      <td>00dbc35ec26c5b6452a3259194b2d2f74eae7141d2bc75...</td>\n      <td>Ванга сказала: \"Выживет пчела - выживет челове...</td>\n      <td>2966</td>\n      <td>1</td>\n      <td>7</td>\n      <td>NaN</td>\n      <td>NaN</td>\n      <td>NaN</td>\n      <td>NaN</td>\n      <td>947224211267aefcc2e3e9c524fdf46ce329bc638e8bf1...</td>\n      <td>NaN</td>\n      <td>486</td>\n      <td>908981</td>\n      <td>0</td>\n    </tr>\n    <tr>\n      <th>1</th>\n      <td>06107f1eae304c45d3e6324cc86f7d39662793a53b159b...</td>\n      <td>NaN</td>\n      <td>8982</td>\n      <td>2</td>\n      <td>7</td>\n      <td>1.042403e+10</td>\n      <td>246.0</td>\n      <td>NaN</td>\n      <td>NaN</td>\n      <td>b935c3390d82df612de19591d2dd16e1eff8e660746bb3...</td>\n      <td>NaN</td>\n      <td>3578</td>\n      <td>1134537</td>\n      <td>0</td>\n    </tr>\n    <tr>\n      <th>2</th>\n      <td>06107f1eae304c45d3e6324cc86f7d39662793a53b159b...</td>\n      <td>NaN</td>\n      <td>8982</td>\n      <td>2</td>\n      <td>7</td>\n      <td>1.042403e+10</td>\n      <td>246.0</td>\n      <td>NaN</td>\n      <td>NaN</td>\n      <td>ff873dee9234ee290d92eb6c15d7179aabf0653dbed3b3...</td>\n      <td>NaN</td>\n      <td>3578</td>\n      <td>1565515</td>\n      <td>0</td>\n    </tr>\n    <tr>\n      <th>3</th>\n      <td>06107f1eae304c45d3e6324cc86f7d39662793a53b159b...</td>\n      <td>NaN</td>\n      <td>8982</td>\n      <td>2</td>\n      <td>7</td>\n      <td>1.042403e+10</td>\n      <td>246.0</td>\n      <td>NaN</td>\n      <td>NaN</td>\n      <td>737ef0e849feda6cdfd350d19fcedaf17aebb757c0a1fc...</td>\n      <td>NaN</td>\n      <td>3578</td>\n      <td>706749</td>\n      <td>0</td>\n    </tr>\n    <tr>\n      <th>4</th>\n      <td>097e4dae68029ecc3c6183ed4386aff71dcac227cbaff7...</td>\n      <td>Читать внимательно!!! Причины попадания в чёрн...</td>\n      <td>1035</td>\n      <td>1</td>\n      <td>7</td>\n      <td>1.041779e+10</td>\n      <td>NaN</td>\n      <td>FAN_CLUB</td>\n      <td>BLOG</td>\n      <td>780fb8c178af972826ac0f84e42ac4c6c1dcdeeec0c4dd...</td>\n      <td>NaN</td>\n      <td>5627</td>\n      <td>734661</td>\n      <td>0</td>\n    </tr>\n  </tbody>\n</table>\n</div>"
     },
     "execution_count": 12,
     "metadata": {},
     "output_type": "execute_result"
    }
   ],
   "source": [
    "X.head()"
   ],
   "metadata": {
    "collapsed": false,
    "pycharm": {
     "name": "#%%\n"
    }
   }
  },
  {
   "cell_type": "code",
   "execution_count": 12,
   "metadata": {},
   "outputs": [],
   "source": []
  },
  {
   "cell_type": "markdown",
   "metadata": {},
   "source": [
    "#### Пример user-based"
   ]
  },
  {
   "cell_type": "code",
   "execution_count": 13,
   "metadata": {},
   "outputs": [],
   "source": [
    "%load_ext autoreload\n",
    "%autoreload 2\n",
    "from implicit.nearest_neighbours import CosineRecommender, BM25Recommender, TFIDFRecommender\n",
    "from implicit.gpu.als import AlternatingLeastSquares, MatrixFactorizationBase\n",
    "# from implicit.cpu.als import AlternatingLeastSquares, MatrixFactorizationBase"
   ]
  },
  {
   "cell_type": "code",
   "execution_count": 14,
   "outputs": [],
   "source": [
    "from implicit.gpu import HAS_CUDA"
   ],
   "metadata": {
    "collapsed": false,
    "pycharm": {
     "name": "#%%\n"
    }
   }
  },
  {
   "cell_type": "code",
   "execution_count": 15,
   "outputs": [
    {
     "data": {
      "text/plain": "False"
     },
     "execution_count": 15,
     "metadata": {},
     "output_type": "execute_result"
    }
   ],
   "source": [
    "HAS_CUDA"
   ],
   "metadata": {
    "collapsed": false,
    "pycharm": {
     "name": "#%%\n"
    }
   }
  },
  {
   "cell_type": "code",
   "execution_count": 16,
   "outputs": [],
   "source": [
    "import cupy as cp"
   ],
   "metadata": {
    "collapsed": false,
    "pycharm": {
     "name": "#%%\n"
    }
   }
  },
  {
   "cell_type": "code",
   "execution_count": 16,
   "outputs": [],
   "source": [],
   "metadata": {
    "collapsed": false,
    "pycharm": {
     "name": "#%%\n"
    }
   }
  },
  {
   "cell_type": "code",
   "execution_count": 17,
   "metadata": {},
   "outputs": [],
   "source": [
    "df_reduced = X[['com_id', 'cust_id']].drop_duplicates()"
   ]
  },
  {
   "cell_type": "code",
   "execution_count": 18,
   "outputs": [],
   "source": [
    "data_full = csr_matrix((np.ones((df_reduced.shape[0],)).astype(float),\n",
    "           (df_reduced['cust_id'].values,\n",
    "            df_reduced['com_id'].values)))"
   ],
   "metadata": {
    "collapsed": false,
    "pycharm": {
     "name": "#%%\n"
    }
   }
  },
  {
   "cell_type": "code",
   "execution_count": 19,
   "outputs": [
    {
     "data": {
      "text/plain": "11530274.0"
     },
     "execution_count": 19,
     "metadata": {},
     "output_type": "execute_result"
    }
   ],
   "source": [
    "data_full.sum()"
   ],
   "metadata": {
    "collapsed": false,
    "pycharm": {
     "name": "#%%\n"
    }
   }
  },
  {
   "cell_type": "code",
   "execution_count": 22,
   "outputs": [
    {
     "data": {
      "text/plain": "4.930053548426422e-05"
     },
     "execution_count": 22,
     "metadata": {},
     "output_type": "execute_result"
    }
   ],
   "source": [
    "data_full.sum() / (data_full.shape[0] * data_full.shape[1])"
   ],
   "metadata": {
    "collapsed": false,
    "pycharm": {
     "name": "#%%\n"
    }
   }
  },
  {
   "cell_type": "code",
   "execution_count": null,
   "outputs": [],
   "source": [],
   "metadata": {
    "collapsed": false,
    "pycharm": {
     "name": "#%%\n"
    }
   }
  },
  {
   "cell_type": "code",
   "execution_count": 78,
   "metadata": {},
   "outputs": [],
   "source": [
    "# data_train, data_test = random_train_test_split(data_full, test_percentage=0.1)"
   ]
  },
  {
   "cell_type": "code",
   "execution_count": 4,
   "metadata": {},
   "outputs": [
    {
     "name": "stderr",
     "output_type": "stream",
     "text": [
      "c:\\users\\iltya\\appdata\\local\\programs\\python\\python39\\lib\\site-packages\\implicit\\cpu\\als.py:95: RuntimeWarning: OpenBLAS is configured to use 16 threads. It is highly recommended to disable its internal threadpool by setting the environment variable 'OPENBLAS_NUM_THREADS=1' or by calling 'threadpoolctl.threadpool_limits(1, \"blas\")'. Having OpenBLAS use a threadpool can lead to severe performance issues here.\n",
      "  check_blas_config()\n"
     ]
    },
    {
     "ename": "NameError",
     "evalue": "name 'data_full' is not defined",
     "output_type": "error",
     "traceback": [
      "\u001B[1;31m---------------------------------------------------------------------------\u001B[0m",
      "\u001B[1;31mNameError\u001B[0m                                 Traceback (most recent call last)",
      "Input \u001B[1;32mIn [4]\u001B[0m, in \u001B[0;36m<cell line: 6>\u001B[1;34m()\u001B[0m\n\u001B[0;32m      1\u001B[0m \u001B[38;5;66;03m# cr = CosineRecommender()\u001B[39;00m\n\u001B[0;32m      2\u001B[0m \u001B[38;5;66;03m# cr = BM25Recommender()\u001B[39;00m\n\u001B[0;32m      3\u001B[0m \u001B[38;5;66;03m# cr = TFIDFRecommender()\u001B[39;00m\n\u001B[0;32m      4\u001B[0m cr \u001B[38;5;241m=\u001B[39m AlternatingLeastSquares(factors\u001B[38;5;241m=\u001B[39m\u001B[38;5;241m64\u001B[39m)\n\u001B[1;32m----> 6\u001B[0m cr\u001B[38;5;241m.\u001B[39mfit(data_full)\n",
      "\u001B[1;31mNameError\u001B[0m: name 'data_full' is not defined"
     ]
    }
   ],
   "source": [
    "# cr = CosineRecommender()\n",
    "# cr = BM25Recommender()\n",
    "# cr = TFIDFRecommender()\n",
    "cr = AlternatingLeastSquares(factors=64)\n",
    "\n",
    "cr.fit(data_full)"
   ]
  },
  {
   "cell_type": "code",
   "execution_count": null,
   "outputs": [],
   "source": [],
   "metadata": {
    "collapsed": false,
    "pycharm": {
     "name": "#%%\n"
    }
   }
  },
  {
   "cell_type": "code",
   "execution_count": 41,
   "metadata": {},
   "outputs": [],
   "source": [
    "# dftest_new = pd.DataFrame()\n",
    "# dftest_new['customer_id_new'] = customers['customer_id_new'][:200]"
   ]
  },
  {
   "cell_type": "code",
   "execution_count": 65,
   "outputs": [],
   "source": [
    "df_sample = pd.read_csv(\"sample_submission/sample_submission_7.csv\")"
   ],
   "metadata": {
    "collapsed": false,
    "pycharm": {
     "name": "#%%\n"
    }
   }
  },
  {
   "cell_type": "code",
   "execution_count": 66,
   "outputs": [
    {
     "data": {
      "text/plain": "                                             customer_id  \\\n0      d811a09d435ac2d1b1ed46e272405af10933b4711f4564...   \n1      73821118fc33500efaa6b1adf8ab0e9d314abb15f62603...   \n2      6381971c002097a94b8d7a03d9dc3e9ff7872a52c4764a...   \n3      250d49b476af0c7d2b23dd39cbb6edff39d44c64f8ebc0...   \n4      2da339a6bfe7791329ca8eb0a11544d4a9fb4c89572716...   \n...                                                  ...   \n69041  606d6caf18a6209acaa46a1a0233a4bf22bc9885d70397...   \n69042  a71392c55f8bace9bd108a1acbf9c2335d700fb041966b...   \n69043  7b6d03389208df699aa116563dc5c45cbf5c725b47b415...   \n69044  8d1c564ba9f96dafb0a856fbc65fc4f9fc020863fe3b3f...   \n69045  f57918286b0047d2884e72631b65b4c7f13f5ffc697743...   \n\n                                          community_id_1  \\\n0      f24c996d4123138fbe5d2ac482dcf3ccefe6ddb30de3fe...   \n1      f24c996d4123138fbe5d2ac482dcf3ccefe6ddb30de3fe...   \n2      f24c996d4123138fbe5d2ac482dcf3ccefe6ddb30de3fe...   \n3      f24c996d4123138fbe5d2ac482dcf3ccefe6ddb30de3fe...   \n4      f24c996d4123138fbe5d2ac482dcf3ccefe6ddb30de3fe...   \n...                                                  ...   \n69041  f24c996d4123138fbe5d2ac482dcf3ccefe6ddb30de3fe...   \n69042  f24c996d4123138fbe5d2ac482dcf3ccefe6ddb30de3fe...   \n69043  f24c996d4123138fbe5d2ac482dcf3ccefe6ddb30de3fe...   \n69044  f24c996d4123138fbe5d2ac482dcf3ccefe6ddb30de3fe...   \n69045  f24c996d4123138fbe5d2ac482dcf3ccefe6ddb30de3fe...   \n\n                                          community_id_2  \\\n0      f2815ab120cebd48c350806543d9567766ae95ea3a589c...   \n1      f2815ab120cebd48c350806543d9567766ae95ea3a589c...   \n2      f2815ab120cebd48c350806543d9567766ae95ea3a589c...   \n3      f2815ab120cebd48c350806543d9567766ae95ea3a589c...   \n4      f2815ab120cebd48c350806543d9567766ae95ea3a589c...   \n...                                                  ...   \n69041  f2815ab120cebd48c350806543d9567766ae95ea3a589c...   \n69042  f2815ab120cebd48c350806543d9567766ae95ea3a589c...   \n69043  f2815ab120cebd48c350806543d9567766ae95ea3a589c...   \n69044  f2815ab120cebd48c350806543d9567766ae95ea3a589c...   \n69045  f2815ab120cebd48c350806543d9567766ae95ea3a589c...   \n\n                                          community_id_3  \\\n0      d9643ac39bb7f323ca6feece4633aeec1e045cd574fa95...   \n1      d9643ac39bb7f323ca6feece4633aeec1e045cd574fa95...   \n2      d9643ac39bb7f323ca6feece4633aeec1e045cd574fa95...   \n3      d9643ac39bb7f323ca6feece4633aeec1e045cd574fa95...   \n4      d9643ac39bb7f323ca6feece4633aeec1e045cd574fa95...   \n...                                                  ...   \n69041  d9643ac39bb7f323ca6feece4633aeec1e045cd574fa95...   \n69042  d9643ac39bb7f323ca6feece4633aeec1e045cd574fa95...   \n69043  d9643ac39bb7f323ca6feece4633aeec1e045cd574fa95...   \n69044  d9643ac39bb7f323ca6feece4633aeec1e045cd574fa95...   \n69045  d9643ac39bb7f323ca6feece4633aeec1e045cd574fa95...   \n\n                                          community_id_4  \\\n0      349743ef571518d2b9885eb88626e2488e21536da235dd...   \n1      349743ef571518d2b9885eb88626e2488e21536da235dd...   \n2      349743ef571518d2b9885eb88626e2488e21536da235dd...   \n3      349743ef571518d2b9885eb88626e2488e21536da235dd...   \n4      349743ef571518d2b9885eb88626e2488e21536da235dd...   \n...                                                  ...   \n69041  349743ef571518d2b9885eb88626e2488e21536da235dd...   \n69042  349743ef571518d2b9885eb88626e2488e21536da235dd...   \n69043  349743ef571518d2b9885eb88626e2488e21536da235dd...   \n69044  349743ef571518d2b9885eb88626e2488e21536da235dd...   \n69045  349743ef571518d2b9885eb88626e2488e21536da235dd...   \n\n                                          community_id_5  \\\n0      1c68c19a80263399d946e6a6ba7e354c7ca7a1571f7833...   \n1      1c68c19a80263399d946e6a6ba7e354c7ca7a1571f7833...   \n2      1c68c19a80263399d946e6a6ba7e354c7ca7a1571f7833...   \n3      1c68c19a80263399d946e6a6ba7e354c7ca7a1571f7833...   \n4      1c68c19a80263399d946e6a6ba7e354c7ca7a1571f7833...   \n...                                                  ...   \n69041  1c68c19a80263399d946e6a6ba7e354c7ca7a1571f7833...   \n69042  1c68c19a80263399d946e6a6ba7e354c7ca7a1571f7833...   \n69043  1c68c19a80263399d946e6a6ba7e354c7ca7a1571f7833...   \n69044  1c68c19a80263399d946e6a6ba7e354c7ca7a1571f7833...   \n69045  1c68c19a80263399d946e6a6ba7e354c7ca7a1571f7833...   \n\n                                          community_id_6  \\\n0      cf454808981a05a149d6dfd09b80924627e29945d2aa7e...   \n1      cf454808981a05a149d6dfd09b80924627e29945d2aa7e...   \n2      cf454808981a05a149d6dfd09b80924627e29945d2aa7e...   \n3      cf454808981a05a149d6dfd09b80924627e29945d2aa7e...   \n4      cf454808981a05a149d6dfd09b80924627e29945d2aa7e...   \n...                                                  ...   \n69041  cf454808981a05a149d6dfd09b80924627e29945d2aa7e...   \n69042  cf454808981a05a149d6dfd09b80924627e29945d2aa7e...   \n69043  cf454808981a05a149d6dfd09b80924627e29945d2aa7e...   \n69044  cf454808981a05a149d6dfd09b80924627e29945d2aa7e...   \n69045  cf454808981a05a149d6dfd09b80924627e29945d2aa7e...   \n\n                                          community_id_7  \n0      1c01b5a5a10ad6f01e189c9720856ab89dc2c268dc6741...  \n1      1c01b5a5a10ad6f01e189c9720856ab89dc2c268dc6741...  \n2      1c01b5a5a10ad6f01e189c9720856ab89dc2c268dc6741...  \n3      1c01b5a5a10ad6f01e189c9720856ab89dc2c268dc6741...  \n4      1c01b5a5a10ad6f01e189c9720856ab89dc2c268dc6741...  \n...                                                  ...  \n69041  1c01b5a5a10ad6f01e189c9720856ab89dc2c268dc6741...  \n69042  1c01b5a5a10ad6f01e189c9720856ab89dc2c268dc6741...  \n69043  1c01b5a5a10ad6f01e189c9720856ab89dc2c268dc6741...  \n69044  1c01b5a5a10ad6f01e189c9720856ab89dc2c268dc6741...  \n69045  1c01b5a5a10ad6f01e189c9720856ab89dc2c268dc6741...  \n\n[69046 rows x 8 columns]",
      "text/html": "<div>\n<style scoped>\n    .dataframe tbody tr th:only-of-type {\n        vertical-align: middle;\n    }\n\n    .dataframe tbody tr th {\n        vertical-align: top;\n    }\n\n    .dataframe thead th {\n        text-align: right;\n    }\n</style>\n<table border=\"1\" class=\"dataframe\">\n  <thead>\n    <tr style=\"text-align: right;\">\n      <th></th>\n      <th>customer_id</th>\n      <th>community_id_1</th>\n      <th>community_id_2</th>\n      <th>community_id_3</th>\n      <th>community_id_4</th>\n      <th>community_id_5</th>\n      <th>community_id_6</th>\n      <th>community_id_7</th>\n    </tr>\n  </thead>\n  <tbody>\n    <tr>\n      <th>0</th>\n      <td>d811a09d435ac2d1b1ed46e272405af10933b4711f4564...</td>\n      <td>f24c996d4123138fbe5d2ac482dcf3ccefe6ddb30de3fe...</td>\n      <td>f2815ab120cebd48c350806543d9567766ae95ea3a589c...</td>\n      <td>d9643ac39bb7f323ca6feece4633aeec1e045cd574fa95...</td>\n      <td>349743ef571518d2b9885eb88626e2488e21536da235dd...</td>\n      <td>1c68c19a80263399d946e6a6ba7e354c7ca7a1571f7833...</td>\n      <td>cf454808981a05a149d6dfd09b80924627e29945d2aa7e...</td>\n      <td>1c01b5a5a10ad6f01e189c9720856ab89dc2c268dc6741...</td>\n    </tr>\n    <tr>\n      <th>1</th>\n      <td>73821118fc33500efaa6b1adf8ab0e9d314abb15f62603...</td>\n      <td>f24c996d4123138fbe5d2ac482dcf3ccefe6ddb30de3fe...</td>\n      <td>f2815ab120cebd48c350806543d9567766ae95ea3a589c...</td>\n      <td>d9643ac39bb7f323ca6feece4633aeec1e045cd574fa95...</td>\n      <td>349743ef571518d2b9885eb88626e2488e21536da235dd...</td>\n      <td>1c68c19a80263399d946e6a6ba7e354c7ca7a1571f7833...</td>\n      <td>cf454808981a05a149d6dfd09b80924627e29945d2aa7e...</td>\n      <td>1c01b5a5a10ad6f01e189c9720856ab89dc2c268dc6741...</td>\n    </tr>\n    <tr>\n      <th>2</th>\n      <td>6381971c002097a94b8d7a03d9dc3e9ff7872a52c4764a...</td>\n      <td>f24c996d4123138fbe5d2ac482dcf3ccefe6ddb30de3fe...</td>\n      <td>f2815ab120cebd48c350806543d9567766ae95ea3a589c...</td>\n      <td>d9643ac39bb7f323ca6feece4633aeec1e045cd574fa95...</td>\n      <td>349743ef571518d2b9885eb88626e2488e21536da235dd...</td>\n      <td>1c68c19a80263399d946e6a6ba7e354c7ca7a1571f7833...</td>\n      <td>cf454808981a05a149d6dfd09b80924627e29945d2aa7e...</td>\n      <td>1c01b5a5a10ad6f01e189c9720856ab89dc2c268dc6741...</td>\n    </tr>\n    <tr>\n      <th>3</th>\n      <td>250d49b476af0c7d2b23dd39cbb6edff39d44c64f8ebc0...</td>\n      <td>f24c996d4123138fbe5d2ac482dcf3ccefe6ddb30de3fe...</td>\n      <td>f2815ab120cebd48c350806543d9567766ae95ea3a589c...</td>\n      <td>d9643ac39bb7f323ca6feece4633aeec1e045cd574fa95...</td>\n      <td>349743ef571518d2b9885eb88626e2488e21536da235dd...</td>\n      <td>1c68c19a80263399d946e6a6ba7e354c7ca7a1571f7833...</td>\n      <td>cf454808981a05a149d6dfd09b80924627e29945d2aa7e...</td>\n      <td>1c01b5a5a10ad6f01e189c9720856ab89dc2c268dc6741...</td>\n    </tr>\n    <tr>\n      <th>4</th>\n      <td>2da339a6bfe7791329ca8eb0a11544d4a9fb4c89572716...</td>\n      <td>f24c996d4123138fbe5d2ac482dcf3ccefe6ddb30de3fe...</td>\n      <td>f2815ab120cebd48c350806543d9567766ae95ea3a589c...</td>\n      <td>d9643ac39bb7f323ca6feece4633aeec1e045cd574fa95...</td>\n      <td>349743ef571518d2b9885eb88626e2488e21536da235dd...</td>\n      <td>1c68c19a80263399d946e6a6ba7e354c7ca7a1571f7833...</td>\n      <td>cf454808981a05a149d6dfd09b80924627e29945d2aa7e...</td>\n      <td>1c01b5a5a10ad6f01e189c9720856ab89dc2c268dc6741...</td>\n    </tr>\n    <tr>\n      <th>...</th>\n      <td>...</td>\n      <td>...</td>\n      <td>...</td>\n      <td>...</td>\n      <td>...</td>\n      <td>...</td>\n      <td>...</td>\n      <td>...</td>\n    </tr>\n    <tr>\n      <th>69041</th>\n      <td>606d6caf18a6209acaa46a1a0233a4bf22bc9885d70397...</td>\n      <td>f24c996d4123138fbe5d2ac482dcf3ccefe6ddb30de3fe...</td>\n      <td>f2815ab120cebd48c350806543d9567766ae95ea3a589c...</td>\n      <td>d9643ac39bb7f323ca6feece4633aeec1e045cd574fa95...</td>\n      <td>349743ef571518d2b9885eb88626e2488e21536da235dd...</td>\n      <td>1c68c19a80263399d946e6a6ba7e354c7ca7a1571f7833...</td>\n      <td>cf454808981a05a149d6dfd09b80924627e29945d2aa7e...</td>\n      <td>1c01b5a5a10ad6f01e189c9720856ab89dc2c268dc6741...</td>\n    </tr>\n    <tr>\n      <th>69042</th>\n      <td>a71392c55f8bace9bd108a1acbf9c2335d700fb041966b...</td>\n      <td>f24c996d4123138fbe5d2ac482dcf3ccefe6ddb30de3fe...</td>\n      <td>f2815ab120cebd48c350806543d9567766ae95ea3a589c...</td>\n      <td>d9643ac39bb7f323ca6feece4633aeec1e045cd574fa95...</td>\n      <td>349743ef571518d2b9885eb88626e2488e21536da235dd...</td>\n      <td>1c68c19a80263399d946e6a6ba7e354c7ca7a1571f7833...</td>\n      <td>cf454808981a05a149d6dfd09b80924627e29945d2aa7e...</td>\n      <td>1c01b5a5a10ad6f01e189c9720856ab89dc2c268dc6741...</td>\n    </tr>\n    <tr>\n      <th>69043</th>\n      <td>7b6d03389208df699aa116563dc5c45cbf5c725b47b415...</td>\n      <td>f24c996d4123138fbe5d2ac482dcf3ccefe6ddb30de3fe...</td>\n      <td>f2815ab120cebd48c350806543d9567766ae95ea3a589c...</td>\n      <td>d9643ac39bb7f323ca6feece4633aeec1e045cd574fa95...</td>\n      <td>349743ef571518d2b9885eb88626e2488e21536da235dd...</td>\n      <td>1c68c19a80263399d946e6a6ba7e354c7ca7a1571f7833...</td>\n      <td>cf454808981a05a149d6dfd09b80924627e29945d2aa7e...</td>\n      <td>1c01b5a5a10ad6f01e189c9720856ab89dc2c268dc6741...</td>\n    </tr>\n    <tr>\n      <th>69044</th>\n      <td>8d1c564ba9f96dafb0a856fbc65fc4f9fc020863fe3b3f...</td>\n      <td>f24c996d4123138fbe5d2ac482dcf3ccefe6ddb30de3fe...</td>\n      <td>f2815ab120cebd48c350806543d9567766ae95ea3a589c...</td>\n      <td>d9643ac39bb7f323ca6feece4633aeec1e045cd574fa95...</td>\n      <td>349743ef571518d2b9885eb88626e2488e21536da235dd...</td>\n      <td>1c68c19a80263399d946e6a6ba7e354c7ca7a1571f7833...</td>\n      <td>cf454808981a05a149d6dfd09b80924627e29945d2aa7e...</td>\n      <td>1c01b5a5a10ad6f01e189c9720856ab89dc2c268dc6741...</td>\n    </tr>\n    <tr>\n      <th>69045</th>\n      <td>f57918286b0047d2884e72631b65b4c7f13f5ffc697743...</td>\n      <td>f24c996d4123138fbe5d2ac482dcf3ccefe6ddb30de3fe...</td>\n      <td>f2815ab120cebd48c350806543d9567766ae95ea3a589c...</td>\n      <td>d9643ac39bb7f323ca6feece4633aeec1e045cd574fa95...</td>\n      <td>349743ef571518d2b9885eb88626e2488e21536da235dd...</td>\n      <td>1c68c19a80263399d946e6a6ba7e354c7ca7a1571f7833...</td>\n      <td>cf454808981a05a149d6dfd09b80924627e29945d2aa7e...</td>\n      <td>1c01b5a5a10ad6f01e189c9720856ab89dc2c268dc6741...</td>\n    </tr>\n  </tbody>\n</table>\n<p>69046 rows × 8 columns</p>\n</div>"
     },
     "execution_count": 66,
     "metadata": {},
     "output_type": "execute_result"
    }
   ],
   "source": [
    "df_sample"
   ],
   "metadata": {
    "collapsed": false,
    "pycharm": {
     "name": "#%%\n"
    }
   }
  },
  {
   "cell_type": "code",
   "execution_count": 70,
   "outputs": [],
   "source": [
    "df_sample[\"cust_id\"] = encoder_usr_id.transform(df_sample[\"customer_id\"])\n",
    "ids_to_pred = df_sample[\"cust_id\"]\n",
    "all_recs = cr.recommend(ids_to_pred, data_full[ids_to_pred].astype(float), N=7)[0]"
   ],
   "metadata": {
    "collapsed": false,
    "pycharm": {
     "name": "#%%\n"
    }
   }
  },
  {
   "cell_type": "code",
   "execution_count": 71,
   "outputs": [
    {
     "data": {
      "text/plain": "  0%|          | 0/69046 [00:00<?, ?it/s]",
      "application/vnd.jupyter.widget-view+json": {
       "version_major": 2,
       "version_minor": 0,
       "model_id": "9bd58a27b5b546bf89c198f1d98045cf"
      }
     },
     "metadata": {},
     "output_type": "display_data"
    }
   ],
   "source": [
    "from tqdm.auto import tqdm\n",
    "\n",
    "result_recommendations = {}\n",
    "for ind, cust_id in enumerate(tqdm(ids_to_pred)):\n",
    "    # best_recs_ids = encoder_com_id.inverse_transform(all_recs[ind])\n",
    "    best_recs_ids = [encoder_com_id.classes_[i] for i in all_recs[ind]]     # быстрый вариант для обратной трансформации\n",
    "    result_recommendations[cust_id] = best_recs_ids"
   ],
   "metadata": {
    "collapsed": false,
    "pycharm": {
     "name": "#%%\n"
    }
   }
  },
  {
   "cell_type": "code",
   "execution_count": 72,
   "outputs": [],
   "source": [
    "result = pd.DataFrame(result_recommendations).transpose().reset_index()\n",
    "result[\"index\"] = encoder_usr_id.inverse_transform(result[\"index\"])\n",
    "result.rename({\"index\":\"customer_id\"}, inplace=True, axis=1)\n",
    "result.rename({i:f\"community_id_{i+1}\" for i in range(7)},  inplace=True, axis=1)"
   ],
   "metadata": {
    "collapsed": false,
    "pycharm": {
     "name": "#%%\n"
    }
   }
  },
  {
   "cell_type": "code",
   "execution_count": 73,
   "outputs": [
    {
     "data": {
      "text/plain": "                                             customer_id  \\\n0      d811a09d435ac2d1b1ed46e272405af10933b4711f4564...   \n1      73821118fc33500efaa6b1adf8ab0e9d314abb15f62603...   \n2      6381971c002097a94b8d7a03d9dc3e9ff7872a52c4764a...   \n3      250d49b476af0c7d2b23dd39cbb6edff39d44c64f8ebc0...   \n4      2da339a6bfe7791329ca8eb0a11544d4a9fb4c89572716...   \n...                                                  ...   \n69041  606d6caf18a6209acaa46a1a0233a4bf22bc9885d70397...   \n69042  a71392c55f8bace9bd108a1acbf9c2335d700fb041966b...   \n69043  7b6d03389208df699aa116563dc5c45cbf5c725b47b415...   \n69044  8d1c564ba9f96dafb0a856fbc65fc4f9fc020863fe3b3f...   \n69045  f57918286b0047d2884e72631b65b4c7f13f5ffc697743...   \n\n                                          community_id_1  \\\n0      e2d8710c3ca6ccb07ca3fbf66f0530be94903a58f5c2a8...   \n1      510a4b83bde73a7784dff4e1d89f67c943f4ff32b7f6b6...   \n2      d42e10f2610272c545292b60844df2eb7a3ba47d6b4829...   \n3      a8b15b543469eebe27c67c0c5897f6dc18e160cc5997c0...   \n4      3823a5e13dfd871d3ff72d5a69af9b77466d604f43cecd...   \n...                                                  ...   \n69041  13bc935e69c0119a69b6cb8f2a75e0150aa6c579fa826b...   \n69042  b2e550048439263d779622fc9b4d221827573e9c6c5900...   \n69043  ab5b19507c5a96c274a875f90d372882bde7956796df51...   \n69044  311db6eae03a8ae679ec1de8c2321a120938b3eaabec93...   \n69045  f524bddb23d5925c230663da1b793e2a7fbb7f284c96a2...   \n\n                                          community_id_2  \\\n0      1379dd70dcdd575c69978f1b0b477d2f27222384313439...   \n1      f146596214865eb9e4abf6a4d494480e4ad79a0191bd25...   \n2      9ecd44db17abc1fc665d38db272893274d5761665eb27c...   \n3      892f2c17a6b9684c4dfd9834c0c6c8e7694c9faa00a0b3...   \n4      4d7cf04c8e56f0797012064220d0a45509a1264bc17f58...   \n...                                                  ...   \n69041  face1187302b0000986e09146fe04bdb5f39c4cd0ab33a...   \n69042  f7c22598d4d68bc4478d3b07c5f1dfee87e77bbcbf6169...   \n69043  5280bd59e190e9897b8481f1751f5508b76188da909b83...   \n69044  223f53c800c0ff65d3c72982ce6d333fcb2af30f4fbbcc...   \n69045  7966055cb0fa1df8f71a45512c93fb536944238270f6d1...   \n\n                                          community_id_3  \\\n0      ab5b19507c5a96c274a875f90d372882bde7956796df51...   \n1      fc781628c86a7ee722f0efc9b75c9bf5a1360855a1e665...   \n2      66cd88e7efdb90ca0107aa6808cea3b00df6dd44307349...   \n3      16183b4e07446d00c10d26deb9a1d62814d67fb6039b59...   \n4      aee65cc087f56024df2aedd0755db2a3d193cf2ca558b7...   \n...                                                  ...   \n69041  57d99404c90c9344d3aec2c15ffb7b1a0f46c8a4f7157a...   \n69042  c3b4828f5f3954a00f233447c256ee0513a0df083ac7e9...   \n69043  f6a7fbac98fa02e64db8cb671ae5b529fa944d1f41a7f6...   \n69044  6a62fb8b0acef355567e31ac9f3c5a7c62e6f9d4883708...   \n69045  e73ba51438308fc4035d2f5659ab05ab3d9b17178f69e7...   \n\n                                          community_id_4  \\\n0      6b5fcc67080b2a0359a15aac1b34a1f3e869211a887d0b...   \n1      e4970874a1fb7f58f51e5f933bfffada4778416221a29a...   \n2      ce7a456428f786c44c3e27c039c4299885da5430ccfd05...   \n3      96171649ea1057186a03c0f9bd216569642e431993897d...   \n4      1717cd8dbd989b4bd56009c53db75d564b252a3f3ed722...   \n...                                                  ...   \n69041  e3adbab2d48db35c1a50f513ccc5416618fad8ef1e0567...   \n69042  dac62fcdc52f97daad2712837a808e304fd011bd5ec665...   \n69043  de2b374004d89c21ab753e06dc73c2740403709edae8b2...   \n69044  f89f5b71ff4c44c8b10ace62a41f5c8aa4607497040c9c...   \n69045  948998e8d1b1feb378789dd714c8351f16c5960cd713e7...   \n\n                                          community_id_5  \\\n0      768680a00db384987ff7532abc1ebc8062281b4ac60124...   \n1      d8a67fd0082c17f2590e4763c6aa925320841a252c9f65...   \n2      28ea66f6db0af1a3ed137ae38514d716e3124821f1731e...   \n3      a8d0b95bb7330d3a1171c439c5db88e1a3671edfbca950...   \n4      b8ed0e918d9f11140c70ef08be19c197917f4f4455f255...   \n...                                                  ...   \n69041  3b35ed784d26ce9dc17579cb1ada355ad5c850f2251f59...   \n69042  b274af0e3a0afc5445b804d67cb2e789bbfff563c4478e...   \n69043  d7a49cba22dd3fba7de0ece2c8938d05ae38e03a08cb9f...   \n69044  51b354f4db4e89508fad99ff9b466db96a307c9d1a1941...   \n69045  3948221436b7cc82975cebb4737867cbac9f60c4466037...   \n\n                                          community_id_6  \\\n0      caa892b683f011961b8868a73ce4999f667aa302d5a838...   \n1      d2671510de5a76548a1919b25e32c73104821f4acc0c07...   \n2      bc5242520327e1f29ca4f583c08fcb185e8e103045038b...   \n3      7ed0a5203360da0630e5ad51f2037a4d81b97e000d1cf1...   \n4      14d2fb073c9a2929f1fd9919cbbae50a5c597d2459d7f5...   \n...                                                  ...   \n69041  274445fd08bfa77e358b0599c1adb91e6900d58335f0bb...   \n69042  3c8c56c125be2575c74750926654d11289941ff9b3f75e...   \n69043  e015fa5e6ef36af3ea62a91263c0fba81bd56794a9716a...   \n69044  dcefd8ed3f75ac28147ad61eb1969cc8c0111bb15b1867...   \n69045  d88eea575b8c17d14f4ca72eda133100c30305e9a80711...   \n\n                                          community_id_7  \n0      5280bd59e190e9897b8481f1751f5508b76188da909b83...  \n1      d1af495ca20772cd9fcb43e8c27da695b5e9d93c64fc39...  \n2      5990a71b08f0479ada0942a02641e6e60e7eac210f7cf1...  \n3      2165f7bfb5b82ede0cf8f3be218c7f57ef2cd1e282ae9c...  \n4      2297e8137751faa879da9ceea4a47423a9eda35d9b0278...  \n...                                                  ...  \n69041  8792b896fc5d399bbacc274bc5deac4f25f6caadbf28cb...  \n69042  0aebd3b9934b9ec88cb78a99256bab2987798b93ff5a8d...  \n69043  b181b1aba2505c63c69e6058c07583c060719e611c22eb...  \n69044  b5e8e4fa40a42f23952feffd67e9cceea80069d51d49af...  \n69045  2a3af04051be5228da923d2f10976324a40f23ba78958d...  \n\n[69046 rows x 8 columns]",
      "text/html": "<div>\n<style scoped>\n    .dataframe tbody tr th:only-of-type {\n        vertical-align: middle;\n    }\n\n    .dataframe tbody tr th {\n        vertical-align: top;\n    }\n\n    .dataframe thead th {\n        text-align: right;\n    }\n</style>\n<table border=\"1\" class=\"dataframe\">\n  <thead>\n    <tr style=\"text-align: right;\">\n      <th></th>\n      <th>customer_id</th>\n      <th>community_id_1</th>\n      <th>community_id_2</th>\n      <th>community_id_3</th>\n      <th>community_id_4</th>\n      <th>community_id_5</th>\n      <th>community_id_6</th>\n      <th>community_id_7</th>\n    </tr>\n  </thead>\n  <tbody>\n    <tr>\n      <th>0</th>\n      <td>d811a09d435ac2d1b1ed46e272405af10933b4711f4564...</td>\n      <td>e2d8710c3ca6ccb07ca3fbf66f0530be94903a58f5c2a8...</td>\n      <td>1379dd70dcdd575c69978f1b0b477d2f27222384313439...</td>\n      <td>ab5b19507c5a96c274a875f90d372882bde7956796df51...</td>\n      <td>6b5fcc67080b2a0359a15aac1b34a1f3e869211a887d0b...</td>\n      <td>768680a00db384987ff7532abc1ebc8062281b4ac60124...</td>\n      <td>caa892b683f011961b8868a73ce4999f667aa302d5a838...</td>\n      <td>5280bd59e190e9897b8481f1751f5508b76188da909b83...</td>\n    </tr>\n    <tr>\n      <th>1</th>\n      <td>73821118fc33500efaa6b1adf8ab0e9d314abb15f62603...</td>\n      <td>510a4b83bde73a7784dff4e1d89f67c943f4ff32b7f6b6...</td>\n      <td>f146596214865eb9e4abf6a4d494480e4ad79a0191bd25...</td>\n      <td>fc781628c86a7ee722f0efc9b75c9bf5a1360855a1e665...</td>\n      <td>e4970874a1fb7f58f51e5f933bfffada4778416221a29a...</td>\n      <td>d8a67fd0082c17f2590e4763c6aa925320841a252c9f65...</td>\n      <td>d2671510de5a76548a1919b25e32c73104821f4acc0c07...</td>\n      <td>d1af495ca20772cd9fcb43e8c27da695b5e9d93c64fc39...</td>\n    </tr>\n    <tr>\n      <th>2</th>\n      <td>6381971c002097a94b8d7a03d9dc3e9ff7872a52c4764a...</td>\n      <td>d42e10f2610272c545292b60844df2eb7a3ba47d6b4829...</td>\n      <td>9ecd44db17abc1fc665d38db272893274d5761665eb27c...</td>\n      <td>66cd88e7efdb90ca0107aa6808cea3b00df6dd44307349...</td>\n      <td>ce7a456428f786c44c3e27c039c4299885da5430ccfd05...</td>\n      <td>28ea66f6db0af1a3ed137ae38514d716e3124821f1731e...</td>\n      <td>bc5242520327e1f29ca4f583c08fcb185e8e103045038b...</td>\n      <td>5990a71b08f0479ada0942a02641e6e60e7eac210f7cf1...</td>\n    </tr>\n    <tr>\n      <th>3</th>\n      <td>250d49b476af0c7d2b23dd39cbb6edff39d44c64f8ebc0...</td>\n      <td>a8b15b543469eebe27c67c0c5897f6dc18e160cc5997c0...</td>\n      <td>892f2c17a6b9684c4dfd9834c0c6c8e7694c9faa00a0b3...</td>\n      <td>16183b4e07446d00c10d26deb9a1d62814d67fb6039b59...</td>\n      <td>96171649ea1057186a03c0f9bd216569642e431993897d...</td>\n      <td>a8d0b95bb7330d3a1171c439c5db88e1a3671edfbca950...</td>\n      <td>7ed0a5203360da0630e5ad51f2037a4d81b97e000d1cf1...</td>\n      <td>2165f7bfb5b82ede0cf8f3be218c7f57ef2cd1e282ae9c...</td>\n    </tr>\n    <tr>\n      <th>4</th>\n      <td>2da339a6bfe7791329ca8eb0a11544d4a9fb4c89572716...</td>\n      <td>3823a5e13dfd871d3ff72d5a69af9b77466d604f43cecd...</td>\n      <td>4d7cf04c8e56f0797012064220d0a45509a1264bc17f58...</td>\n      <td>aee65cc087f56024df2aedd0755db2a3d193cf2ca558b7...</td>\n      <td>1717cd8dbd989b4bd56009c53db75d564b252a3f3ed722...</td>\n      <td>b8ed0e918d9f11140c70ef08be19c197917f4f4455f255...</td>\n      <td>14d2fb073c9a2929f1fd9919cbbae50a5c597d2459d7f5...</td>\n      <td>2297e8137751faa879da9ceea4a47423a9eda35d9b0278...</td>\n    </tr>\n    <tr>\n      <th>...</th>\n      <td>...</td>\n      <td>...</td>\n      <td>...</td>\n      <td>...</td>\n      <td>...</td>\n      <td>...</td>\n      <td>...</td>\n      <td>...</td>\n    </tr>\n    <tr>\n      <th>69041</th>\n      <td>606d6caf18a6209acaa46a1a0233a4bf22bc9885d70397...</td>\n      <td>13bc935e69c0119a69b6cb8f2a75e0150aa6c579fa826b...</td>\n      <td>face1187302b0000986e09146fe04bdb5f39c4cd0ab33a...</td>\n      <td>57d99404c90c9344d3aec2c15ffb7b1a0f46c8a4f7157a...</td>\n      <td>e3adbab2d48db35c1a50f513ccc5416618fad8ef1e0567...</td>\n      <td>3b35ed784d26ce9dc17579cb1ada355ad5c850f2251f59...</td>\n      <td>274445fd08bfa77e358b0599c1adb91e6900d58335f0bb...</td>\n      <td>8792b896fc5d399bbacc274bc5deac4f25f6caadbf28cb...</td>\n    </tr>\n    <tr>\n      <th>69042</th>\n      <td>a71392c55f8bace9bd108a1acbf9c2335d700fb041966b...</td>\n      <td>b2e550048439263d779622fc9b4d221827573e9c6c5900...</td>\n      <td>f7c22598d4d68bc4478d3b07c5f1dfee87e77bbcbf6169...</td>\n      <td>c3b4828f5f3954a00f233447c256ee0513a0df083ac7e9...</td>\n      <td>dac62fcdc52f97daad2712837a808e304fd011bd5ec665...</td>\n      <td>b274af0e3a0afc5445b804d67cb2e789bbfff563c4478e...</td>\n      <td>3c8c56c125be2575c74750926654d11289941ff9b3f75e...</td>\n      <td>0aebd3b9934b9ec88cb78a99256bab2987798b93ff5a8d...</td>\n    </tr>\n    <tr>\n      <th>69043</th>\n      <td>7b6d03389208df699aa116563dc5c45cbf5c725b47b415...</td>\n      <td>ab5b19507c5a96c274a875f90d372882bde7956796df51...</td>\n      <td>5280bd59e190e9897b8481f1751f5508b76188da909b83...</td>\n      <td>f6a7fbac98fa02e64db8cb671ae5b529fa944d1f41a7f6...</td>\n      <td>de2b374004d89c21ab753e06dc73c2740403709edae8b2...</td>\n      <td>d7a49cba22dd3fba7de0ece2c8938d05ae38e03a08cb9f...</td>\n      <td>e015fa5e6ef36af3ea62a91263c0fba81bd56794a9716a...</td>\n      <td>b181b1aba2505c63c69e6058c07583c060719e611c22eb...</td>\n    </tr>\n    <tr>\n      <th>69044</th>\n      <td>8d1c564ba9f96dafb0a856fbc65fc4f9fc020863fe3b3f...</td>\n      <td>311db6eae03a8ae679ec1de8c2321a120938b3eaabec93...</td>\n      <td>223f53c800c0ff65d3c72982ce6d333fcb2af30f4fbbcc...</td>\n      <td>6a62fb8b0acef355567e31ac9f3c5a7c62e6f9d4883708...</td>\n      <td>f89f5b71ff4c44c8b10ace62a41f5c8aa4607497040c9c...</td>\n      <td>51b354f4db4e89508fad99ff9b466db96a307c9d1a1941...</td>\n      <td>dcefd8ed3f75ac28147ad61eb1969cc8c0111bb15b1867...</td>\n      <td>b5e8e4fa40a42f23952feffd67e9cceea80069d51d49af...</td>\n    </tr>\n    <tr>\n      <th>69045</th>\n      <td>f57918286b0047d2884e72631b65b4c7f13f5ffc697743...</td>\n      <td>f524bddb23d5925c230663da1b793e2a7fbb7f284c96a2...</td>\n      <td>7966055cb0fa1df8f71a45512c93fb536944238270f6d1...</td>\n      <td>e73ba51438308fc4035d2f5659ab05ab3d9b17178f69e7...</td>\n      <td>948998e8d1b1feb378789dd714c8351f16c5960cd713e7...</td>\n      <td>3948221436b7cc82975cebb4737867cbac9f60c4466037...</td>\n      <td>d88eea575b8c17d14f4ca72eda133100c30305e9a80711...</td>\n      <td>2a3af04051be5228da923d2f10976324a40f23ba78958d...</td>\n    </tr>\n  </tbody>\n</table>\n<p>69046 rows × 8 columns</p>\n</div>"
     },
     "execution_count": 73,
     "metadata": {},
     "output_type": "execute_result"
    }
   ],
   "source": [
    "result"
   ],
   "metadata": {
    "collapsed": false,
    "pycharm": {
     "name": "#%%\n"
    }
   }
  },
  {
   "cell_type": "code",
   "execution_count": 74,
   "outputs": [],
   "source": [
    "result.to_csv(\"version_4_tfidf_recommender_without_valid.csv\", index=None)"
   ],
   "metadata": {
    "collapsed": false,
    "pycharm": {
     "name": "#%%\n"
    }
   }
  },
  {
   "cell_type": "code",
   "execution_count": null,
   "outputs": [],
   "source": [],
   "metadata": {
    "collapsed": false,
    "pycharm": {
     "name": "#%%\n"
    }
   }
  },
  {
   "cell_type": "code",
   "execution_count": 71,
   "outputs": [],
   "source": [],
   "metadata": {
    "collapsed": false,
    "pycharm": {
     "name": "#%%\n"
    }
   }
  },
  {
   "cell_type": "code",
   "execution_count": 72,
   "outputs": [
    {
     "data": {
      "text/plain": "                                             customer_id  \\\n0      d811a09d435ac2d1b1ed46e272405af10933b4711f4564...   \n1      73821118fc33500efaa6b1adf8ab0e9d314abb15f62603...   \n2      6381971c002097a94b8d7a03d9dc3e9ff7872a52c4764a...   \n3      250d49b476af0c7d2b23dd39cbb6edff39d44c64f8ebc0...   \n4      2da339a6bfe7791329ca8eb0a11544d4a9fb4c89572716...   \n...                                                  ...   \n69041  606d6caf18a6209acaa46a1a0233a4bf22bc9885d70397...   \n69042  a71392c55f8bace9bd108a1acbf9c2335d700fb041966b...   \n69043  7b6d03389208df699aa116563dc5c45cbf5c725b47b415...   \n69044  8d1c564ba9f96dafb0a856fbc65fc4f9fc020863fe3b3f...   \n69045  f57918286b0047d2884e72631b65b4c7f13f5ffc697743...   \n\n                                          community_id_1  \\\n0      e2d8710c3ca6ccb07ca3fbf66f0530be94903a58f5c2a8...   \n1      fc781628c86a7ee722f0efc9b75c9bf5a1360855a1e665...   \n2      d42e10f2610272c545292b60844df2eb7a3ba47d6b4829...   \n3      892f2c17a6b9684c4dfd9834c0c6c8e7694c9faa00a0b3...   \n4      3823a5e13dfd871d3ff72d5a69af9b77466d604f43cecd...   \n...                                                  ...   \n69041  face1187302b0000986e09146fe04bdb5f39c4cd0ab33a...   \n69042  0aebd3b9934b9ec88cb78a99256bab2987798b93ff5a8d...   \n69043  5280bd59e190e9897b8481f1751f5508b76188da909b83...   \n69044  4cd507db4bc028745427889e579bbf3591662d2885a088...   \n69045  f524bddb23d5925c230663da1b793e2a7fbb7f284c96a2...   \n\n                                          community_id_2  \\\n0      1379dd70dcdd575c69978f1b0b477d2f27222384313439...   \n1      ed6a5f49e78b2ee7f56117984fbb4fa674d32520b3e6e4...   \n2      66cd88e7efdb90ca0107aa6808cea3b00df6dd44307349...   \n3      a8b15b543469eebe27c67c0c5897f6dc18e160cc5997c0...   \n4      4d7cf04c8e56f0797012064220d0a45509a1264bc17f58...   \n...                                                  ...   \n69041  274445fd08bfa77e358b0599c1adb91e6900d58335f0bb...   \n69042  124ea7f57c36038d8649d4a0edc9538733302f9b819b3f...   \n69043  ab5b19507c5a96c274a875f90d372882bde7956796df51...   \n69044  1245eef8aa5ad80b9ad1edf41426b6305e3f2d2f923054...   \n69045  7966055cb0fa1df8f71a45512c93fb536944238270f6d1...   \n\n                                          community_id_3  \\\n0      96c895a95437ee18134877c1b995c58b4e02144f21418c...   \n1      e4970874a1fb7f58f51e5f933bfffada4778416221a29a...   \n2      28ea66f6db0af1a3ed137ae38514d716e3124821f1731e...   \n3      96171649ea1057186a03c0f9bd216569642e431993897d...   \n4      1717cd8dbd989b4bd56009c53db75d564b252a3f3ed722...   \n...                                                  ...   \n69041  57d99404c90c9344d3aec2c15ffb7b1a0f46c8a4f7157a...   \n69042  6570dd9605aa01ff78a0224a47cddc379bbf7b1db10d28...   \n69043  f6a7fbac98fa02e64db8cb671ae5b529fa944d1f41a7f6...   \n69044  311db6eae03a8ae679ec1de8c2321a120938b3eaabec93...   \n69045  3948221436b7cc82975cebb4737867cbac9f60c4466037...   \n\n                                          community_id_4  \\\n0      8e9a1562bf9ee8ed1ea3e049b6247df800bca422a5d479...   \n1      e452f98f781fda8c619eb181ca17d76ae4c74bef741527...   \n2      bc5242520327e1f29ca4f583c08fcb185e8e103045038b...   \n3      16183b4e07446d00c10d26deb9a1d62814d67fb6039b59...   \n4      b8ed0e918d9f11140c70ef08be19c197917f4f4455f255...   \n...                                                  ...   \n69041  13bc935e69c0119a69b6cb8f2a75e0150aa6c579fa826b...   \n69042  508577156399f517258c56dd8c775eefcd28921df64b6f...   \n69043  d7a49cba22dd3fba7de0ece2c8938d05ae38e03a08cb9f...   \n69044  6a62fb8b0acef355567e31ac9f3c5a7c62e6f9d4883708...   \n69045  948998e8d1b1feb378789dd714c8351f16c5960cd713e7...   \n\n                                          community_id_5  \\\n0      413474b8942855d448c77ab283d850cf40920f06f3f5f1...   \n1      d2671510de5a76548a1919b25e32c73104821f4acc0c07...   \n2      f1263dee5aa64941b5c72882b67fa58504fdab39b9b539...   \n3      2165f7bfb5b82ede0cf8f3be218c7f57ef2cd1e282ae9c...   \n4      14d2fb073c9a2929f1fd9919cbbae50a5c597d2459d7f5...   \n...                                                  ...   \n69041  8792b896fc5d399bbacc274bc5deac4f25f6caadbf28cb...   \n69042  75f03af4f51c4c9fdf73fb9dd495964b776f2adc5b0154...   \n69043  e015fa5e6ef36af3ea62a91263c0fba81bd56794a9716a...   \n69044  f89f5b71ff4c44c8b10ace62a41f5c8aa4607497040c9c...   \n69045  b8fd06b257b967a904e338a4a3fcc779c3a146e158a2cf...   \n\n                                          community_id_6  \\\n0      6b5fcc67080b2a0359a15aac1b34a1f3e869211a887d0b...   \n1      d1af495ca20772cd9fcb43e8c27da695b5e9d93c64fc39...   \n2      ce7a456428f786c44c3e27c039c4299885da5430ccfd05...   \n3      6729664ac03bd48062612647597252d30d097b79e8308b...   \n4      2297e8137751faa879da9ceea4a47423a9eda35d9b0278...   \n...                                                  ...   \n69041  3b35ed784d26ce9dc17579cb1ada355ad5c850f2251f59...   \n69042  1c277c9b18d0d9175e7b849ad04d64fd770a0c71f20eb2...   \n69043  de2b374004d89c21ab753e06dc73c2740403709edae8b2...   \n69044  51b354f4db4e89508fad99ff9b466db96a307c9d1a1941...   \n69045  d88eea575b8c17d14f4ca72eda133100c30305e9a80711...   \n\n                                          community_id_7  \n0      95f663e12ea58f926d92f764b07674a53b29a5af1f5e2e...  \n1      c87711e7a63b587d8335cfa5fbd04eaaa5158124238204...  \n2      b51aa24cf528ab4b642b14241fad0ac42757dbfb97db53...  \n3      a8d0b95bb7330d3a1171c439c5db88e1a3671edfbca950...  \n4      b927c9e7135a558e2ed237459ccf02230e6c2c3400f776...  \n...                                                  ...  \n69041  bfbe0ab1789db400d4090745c5c54a6f09102048f04aa8...  \n69042  8c3f63d3b0e551bbe6434b89cbc53045026a2a9e56276f...  \n69043  4e00486bc0c8c8c3de7172f2ae98eb98815a0e9942774f...  \n69044  e2ee24a906bd15af09084c2cf73bc4cdd028391403de51...  \n69045  e73ba51438308fc4035d2f5659ab05ab3d9b17178f69e7...  \n\n[69046 rows x 8 columns]",
      "text/html": "<div>\n<style scoped>\n    .dataframe tbody tr th:only-of-type {\n        vertical-align: middle;\n    }\n\n    .dataframe tbody tr th {\n        vertical-align: top;\n    }\n\n    .dataframe thead th {\n        text-align: right;\n    }\n</style>\n<table border=\"1\" class=\"dataframe\">\n  <thead>\n    <tr style=\"text-align: right;\">\n      <th></th>\n      <th>customer_id</th>\n      <th>community_id_1</th>\n      <th>community_id_2</th>\n      <th>community_id_3</th>\n      <th>community_id_4</th>\n      <th>community_id_5</th>\n      <th>community_id_6</th>\n      <th>community_id_7</th>\n    </tr>\n  </thead>\n  <tbody>\n    <tr>\n      <th>0</th>\n      <td>d811a09d435ac2d1b1ed46e272405af10933b4711f4564...</td>\n      <td>e2d8710c3ca6ccb07ca3fbf66f0530be94903a58f5c2a8...</td>\n      <td>1379dd70dcdd575c69978f1b0b477d2f27222384313439...</td>\n      <td>96c895a95437ee18134877c1b995c58b4e02144f21418c...</td>\n      <td>8e9a1562bf9ee8ed1ea3e049b6247df800bca422a5d479...</td>\n      <td>413474b8942855d448c77ab283d850cf40920f06f3f5f1...</td>\n      <td>6b5fcc67080b2a0359a15aac1b34a1f3e869211a887d0b...</td>\n      <td>95f663e12ea58f926d92f764b07674a53b29a5af1f5e2e...</td>\n    </tr>\n    <tr>\n      <th>1</th>\n      <td>73821118fc33500efaa6b1adf8ab0e9d314abb15f62603...</td>\n      <td>fc781628c86a7ee722f0efc9b75c9bf5a1360855a1e665...</td>\n      <td>ed6a5f49e78b2ee7f56117984fbb4fa674d32520b3e6e4...</td>\n      <td>e4970874a1fb7f58f51e5f933bfffada4778416221a29a...</td>\n      <td>e452f98f781fda8c619eb181ca17d76ae4c74bef741527...</td>\n      <td>d2671510de5a76548a1919b25e32c73104821f4acc0c07...</td>\n      <td>d1af495ca20772cd9fcb43e8c27da695b5e9d93c64fc39...</td>\n      <td>c87711e7a63b587d8335cfa5fbd04eaaa5158124238204...</td>\n    </tr>\n    <tr>\n      <th>2</th>\n      <td>6381971c002097a94b8d7a03d9dc3e9ff7872a52c4764a...</td>\n      <td>d42e10f2610272c545292b60844df2eb7a3ba47d6b4829...</td>\n      <td>66cd88e7efdb90ca0107aa6808cea3b00df6dd44307349...</td>\n      <td>28ea66f6db0af1a3ed137ae38514d716e3124821f1731e...</td>\n      <td>bc5242520327e1f29ca4f583c08fcb185e8e103045038b...</td>\n      <td>f1263dee5aa64941b5c72882b67fa58504fdab39b9b539...</td>\n      <td>ce7a456428f786c44c3e27c039c4299885da5430ccfd05...</td>\n      <td>b51aa24cf528ab4b642b14241fad0ac42757dbfb97db53...</td>\n    </tr>\n    <tr>\n      <th>3</th>\n      <td>250d49b476af0c7d2b23dd39cbb6edff39d44c64f8ebc0...</td>\n      <td>892f2c17a6b9684c4dfd9834c0c6c8e7694c9faa00a0b3...</td>\n      <td>a8b15b543469eebe27c67c0c5897f6dc18e160cc5997c0...</td>\n      <td>96171649ea1057186a03c0f9bd216569642e431993897d...</td>\n      <td>16183b4e07446d00c10d26deb9a1d62814d67fb6039b59...</td>\n      <td>2165f7bfb5b82ede0cf8f3be218c7f57ef2cd1e282ae9c...</td>\n      <td>6729664ac03bd48062612647597252d30d097b79e8308b...</td>\n      <td>a8d0b95bb7330d3a1171c439c5db88e1a3671edfbca950...</td>\n    </tr>\n    <tr>\n      <th>4</th>\n      <td>2da339a6bfe7791329ca8eb0a11544d4a9fb4c89572716...</td>\n      <td>3823a5e13dfd871d3ff72d5a69af9b77466d604f43cecd...</td>\n      <td>4d7cf04c8e56f0797012064220d0a45509a1264bc17f58...</td>\n      <td>1717cd8dbd989b4bd56009c53db75d564b252a3f3ed722...</td>\n      <td>b8ed0e918d9f11140c70ef08be19c197917f4f4455f255...</td>\n      <td>14d2fb073c9a2929f1fd9919cbbae50a5c597d2459d7f5...</td>\n      <td>2297e8137751faa879da9ceea4a47423a9eda35d9b0278...</td>\n      <td>b927c9e7135a558e2ed237459ccf02230e6c2c3400f776...</td>\n    </tr>\n    <tr>\n      <th>...</th>\n      <td>...</td>\n      <td>...</td>\n      <td>...</td>\n      <td>...</td>\n      <td>...</td>\n      <td>...</td>\n      <td>...</td>\n      <td>...</td>\n    </tr>\n    <tr>\n      <th>69041</th>\n      <td>606d6caf18a6209acaa46a1a0233a4bf22bc9885d70397...</td>\n      <td>face1187302b0000986e09146fe04bdb5f39c4cd0ab33a...</td>\n      <td>274445fd08bfa77e358b0599c1adb91e6900d58335f0bb...</td>\n      <td>57d99404c90c9344d3aec2c15ffb7b1a0f46c8a4f7157a...</td>\n      <td>13bc935e69c0119a69b6cb8f2a75e0150aa6c579fa826b...</td>\n      <td>8792b896fc5d399bbacc274bc5deac4f25f6caadbf28cb...</td>\n      <td>3b35ed784d26ce9dc17579cb1ada355ad5c850f2251f59...</td>\n      <td>bfbe0ab1789db400d4090745c5c54a6f09102048f04aa8...</td>\n    </tr>\n    <tr>\n      <th>69042</th>\n      <td>a71392c55f8bace9bd108a1acbf9c2335d700fb041966b...</td>\n      <td>0aebd3b9934b9ec88cb78a99256bab2987798b93ff5a8d...</td>\n      <td>124ea7f57c36038d8649d4a0edc9538733302f9b819b3f...</td>\n      <td>6570dd9605aa01ff78a0224a47cddc379bbf7b1db10d28...</td>\n      <td>508577156399f517258c56dd8c775eefcd28921df64b6f...</td>\n      <td>75f03af4f51c4c9fdf73fb9dd495964b776f2adc5b0154...</td>\n      <td>1c277c9b18d0d9175e7b849ad04d64fd770a0c71f20eb2...</td>\n      <td>8c3f63d3b0e551bbe6434b89cbc53045026a2a9e56276f...</td>\n    </tr>\n    <tr>\n      <th>69043</th>\n      <td>7b6d03389208df699aa116563dc5c45cbf5c725b47b415...</td>\n      <td>5280bd59e190e9897b8481f1751f5508b76188da909b83...</td>\n      <td>ab5b19507c5a96c274a875f90d372882bde7956796df51...</td>\n      <td>f6a7fbac98fa02e64db8cb671ae5b529fa944d1f41a7f6...</td>\n      <td>d7a49cba22dd3fba7de0ece2c8938d05ae38e03a08cb9f...</td>\n      <td>e015fa5e6ef36af3ea62a91263c0fba81bd56794a9716a...</td>\n      <td>de2b374004d89c21ab753e06dc73c2740403709edae8b2...</td>\n      <td>4e00486bc0c8c8c3de7172f2ae98eb98815a0e9942774f...</td>\n    </tr>\n    <tr>\n      <th>69044</th>\n      <td>8d1c564ba9f96dafb0a856fbc65fc4f9fc020863fe3b3f...</td>\n      <td>4cd507db4bc028745427889e579bbf3591662d2885a088...</td>\n      <td>1245eef8aa5ad80b9ad1edf41426b6305e3f2d2f923054...</td>\n      <td>311db6eae03a8ae679ec1de8c2321a120938b3eaabec93...</td>\n      <td>6a62fb8b0acef355567e31ac9f3c5a7c62e6f9d4883708...</td>\n      <td>f89f5b71ff4c44c8b10ace62a41f5c8aa4607497040c9c...</td>\n      <td>51b354f4db4e89508fad99ff9b466db96a307c9d1a1941...</td>\n      <td>e2ee24a906bd15af09084c2cf73bc4cdd028391403de51...</td>\n    </tr>\n    <tr>\n      <th>69045</th>\n      <td>f57918286b0047d2884e72631b65b4c7f13f5ffc697743...</td>\n      <td>f524bddb23d5925c230663da1b793e2a7fbb7f284c96a2...</td>\n      <td>7966055cb0fa1df8f71a45512c93fb536944238270f6d1...</td>\n      <td>3948221436b7cc82975cebb4737867cbac9f60c4466037...</td>\n      <td>948998e8d1b1feb378789dd714c8351f16c5960cd713e7...</td>\n      <td>b8fd06b257b967a904e338a4a3fcc779c3a146e158a2cf...</td>\n      <td>d88eea575b8c17d14f4ca72eda133100c30305e9a80711...</td>\n      <td>e73ba51438308fc4035d2f5659ab05ab3d9b17178f69e7...</td>\n    </tr>\n  </tbody>\n</table>\n<p>69046 rows × 8 columns</p>\n</div>"
     },
     "execution_count": 72,
     "metadata": {},
     "output_type": "execute_result"
    }
   ],
   "source": [
    "pd.read_csv(\"first_version_answer.csv\")"
   ],
   "metadata": {
    "collapsed": false,
    "pycharm": {
     "name": "#%%\n"
    }
   }
  },
  {
   "cell_type": "code",
   "execution_count": 73,
   "outputs": [
    {
     "data": {
      "text/plain": "                                             customer_id  \\\n0      d811a09d435ac2d1b1ed46e272405af10933b4711f4564...   \n1      73821118fc33500efaa6b1adf8ab0e9d314abb15f62603...   \n2      6381971c002097a94b8d7a03d9dc3e9ff7872a52c4764a...   \n3      250d49b476af0c7d2b23dd39cbb6edff39d44c64f8ebc0...   \n4      2da339a6bfe7791329ca8eb0a11544d4a9fb4c89572716...   \n...                                                  ...   \n69041  606d6caf18a6209acaa46a1a0233a4bf22bc9885d70397...   \n69042  a71392c55f8bace9bd108a1acbf9c2335d700fb041966b...   \n69043  7b6d03389208df699aa116563dc5c45cbf5c725b47b415...   \n69044  8d1c564ba9f96dafb0a856fbc65fc4f9fc020863fe3b3f...   \n69045  f57918286b0047d2884e72631b65b4c7f13f5ffc697743...   \n\n                                          community_id_1  \\\n0      f24c996d4123138fbe5d2ac482dcf3ccefe6ddb30de3fe...   \n1      f24c996d4123138fbe5d2ac482dcf3ccefe6ddb30de3fe...   \n2      f24c996d4123138fbe5d2ac482dcf3ccefe6ddb30de3fe...   \n3      f24c996d4123138fbe5d2ac482dcf3ccefe6ddb30de3fe...   \n4      f24c996d4123138fbe5d2ac482dcf3ccefe6ddb30de3fe...   \n...                                                  ...   \n69041  f24c996d4123138fbe5d2ac482dcf3ccefe6ddb30de3fe...   \n69042  f24c996d4123138fbe5d2ac482dcf3ccefe6ddb30de3fe...   \n69043  f24c996d4123138fbe5d2ac482dcf3ccefe6ddb30de3fe...   \n69044  f24c996d4123138fbe5d2ac482dcf3ccefe6ddb30de3fe...   \n69045  f24c996d4123138fbe5d2ac482dcf3ccefe6ddb30de3fe...   \n\n                                          community_id_2  \\\n0      f2815ab120cebd48c350806543d9567766ae95ea3a589c...   \n1      f2815ab120cebd48c350806543d9567766ae95ea3a589c...   \n2      f2815ab120cebd48c350806543d9567766ae95ea3a589c...   \n3      f2815ab120cebd48c350806543d9567766ae95ea3a589c...   \n4      f2815ab120cebd48c350806543d9567766ae95ea3a589c...   \n...                                                  ...   \n69041  f2815ab120cebd48c350806543d9567766ae95ea3a589c...   \n69042  f2815ab120cebd48c350806543d9567766ae95ea3a589c...   \n69043  f2815ab120cebd48c350806543d9567766ae95ea3a589c...   \n69044  f2815ab120cebd48c350806543d9567766ae95ea3a589c...   \n69045  f2815ab120cebd48c350806543d9567766ae95ea3a589c...   \n\n                                          community_id_3  \\\n0      d9643ac39bb7f323ca6feece4633aeec1e045cd574fa95...   \n1      d9643ac39bb7f323ca6feece4633aeec1e045cd574fa95...   \n2      d9643ac39bb7f323ca6feece4633aeec1e045cd574fa95...   \n3      d9643ac39bb7f323ca6feece4633aeec1e045cd574fa95...   \n4      d9643ac39bb7f323ca6feece4633aeec1e045cd574fa95...   \n...                                                  ...   \n69041  d9643ac39bb7f323ca6feece4633aeec1e045cd574fa95...   \n69042  d9643ac39bb7f323ca6feece4633aeec1e045cd574fa95...   \n69043  d9643ac39bb7f323ca6feece4633aeec1e045cd574fa95...   \n69044  d9643ac39bb7f323ca6feece4633aeec1e045cd574fa95...   \n69045  d9643ac39bb7f323ca6feece4633aeec1e045cd574fa95...   \n\n                                          community_id_4  \\\n0      349743ef571518d2b9885eb88626e2488e21536da235dd...   \n1      349743ef571518d2b9885eb88626e2488e21536da235dd...   \n2      349743ef571518d2b9885eb88626e2488e21536da235dd...   \n3      349743ef571518d2b9885eb88626e2488e21536da235dd...   \n4      349743ef571518d2b9885eb88626e2488e21536da235dd...   \n...                                                  ...   \n69041  349743ef571518d2b9885eb88626e2488e21536da235dd...   \n69042  349743ef571518d2b9885eb88626e2488e21536da235dd...   \n69043  349743ef571518d2b9885eb88626e2488e21536da235dd...   \n69044  349743ef571518d2b9885eb88626e2488e21536da235dd...   \n69045  349743ef571518d2b9885eb88626e2488e21536da235dd...   \n\n                                          community_id_5  \\\n0      1c68c19a80263399d946e6a6ba7e354c7ca7a1571f7833...   \n1      1c68c19a80263399d946e6a6ba7e354c7ca7a1571f7833...   \n2      1c68c19a80263399d946e6a6ba7e354c7ca7a1571f7833...   \n3      1c68c19a80263399d946e6a6ba7e354c7ca7a1571f7833...   \n4      1c68c19a80263399d946e6a6ba7e354c7ca7a1571f7833...   \n...                                                  ...   \n69041  1c68c19a80263399d946e6a6ba7e354c7ca7a1571f7833...   \n69042  1c68c19a80263399d946e6a6ba7e354c7ca7a1571f7833...   \n69043  1c68c19a80263399d946e6a6ba7e354c7ca7a1571f7833...   \n69044  1c68c19a80263399d946e6a6ba7e354c7ca7a1571f7833...   \n69045  1c68c19a80263399d946e6a6ba7e354c7ca7a1571f7833...   \n\n                                          community_id_6  \\\n0      cf454808981a05a149d6dfd09b80924627e29945d2aa7e...   \n1      cf454808981a05a149d6dfd09b80924627e29945d2aa7e...   \n2      cf454808981a05a149d6dfd09b80924627e29945d2aa7e...   \n3      cf454808981a05a149d6dfd09b80924627e29945d2aa7e...   \n4      cf454808981a05a149d6dfd09b80924627e29945d2aa7e...   \n...                                                  ...   \n69041  cf454808981a05a149d6dfd09b80924627e29945d2aa7e...   \n69042  cf454808981a05a149d6dfd09b80924627e29945d2aa7e...   \n69043  cf454808981a05a149d6dfd09b80924627e29945d2aa7e...   \n69044  cf454808981a05a149d6dfd09b80924627e29945d2aa7e...   \n69045  cf454808981a05a149d6dfd09b80924627e29945d2aa7e...   \n\n                                          community_id_7  \n0      1c01b5a5a10ad6f01e189c9720856ab89dc2c268dc6741...  \n1      1c01b5a5a10ad6f01e189c9720856ab89dc2c268dc6741...  \n2      1c01b5a5a10ad6f01e189c9720856ab89dc2c268dc6741...  \n3      1c01b5a5a10ad6f01e189c9720856ab89dc2c268dc6741...  \n4      1c01b5a5a10ad6f01e189c9720856ab89dc2c268dc6741...  \n...                                                  ...  \n69041  1c01b5a5a10ad6f01e189c9720856ab89dc2c268dc6741...  \n69042  1c01b5a5a10ad6f01e189c9720856ab89dc2c268dc6741...  \n69043  1c01b5a5a10ad6f01e189c9720856ab89dc2c268dc6741...  \n69044  1c01b5a5a10ad6f01e189c9720856ab89dc2c268dc6741...  \n69045  1c01b5a5a10ad6f01e189c9720856ab89dc2c268dc6741...  \n\n[69046 rows x 8 columns]",
      "text/html": "<div>\n<style scoped>\n    .dataframe tbody tr th:only-of-type {\n        vertical-align: middle;\n    }\n\n    .dataframe tbody tr th {\n        vertical-align: top;\n    }\n\n    .dataframe thead th {\n        text-align: right;\n    }\n</style>\n<table border=\"1\" class=\"dataframe\">\n  <thead>\n    <tr style=\"text-align: right;\">\n      <th></th>\n      <th>customer_id</th>\n      <th>community_id_1</th>\n      <th>community_id_2</th>\n      <th>community_id_3</th>\n      <th>community_id_4</th>\n      <th>community_id_5</th>\n      <th>community_id_6</th>\n      <th>community_id_7</th>\n    </tr>\n  </thead>\n  <tbody>\n    <tr>\n      <th>0</th>\n      <td>d811a09d435ac2d1b1ed46e272405af10933b4711f4564...</td>\n      <td>f24c996d4123138fbe5d2ac482dcf3ccefe6ddb30de3fe...</td>\n      <td>f2815ab120cebd48c350806543d9567766ae95ea3a589c...</td>\n      <td>d9643ac39bb7f323ca6feece4633aeec1e045cd574fa95...</td>\n      <td>349743ef571518d2b9885eb88626e2488e21536da235dd...</td>\n      <td>1c68c19a80263399d946e6a6ba7e354c7ca7a1571f7833...</td>\n      <td>cf454808981a05a149d6dfd09b80924627e29945d2aa7e...</td>\n      <td>1c01b5a5a10ad6f01e189c9720856ab89dc2c268dc6741...</td>\n    </tr>\n    <tr>\n      <th>1</th>\n      <td>73821118fc33500efaa6b1adf8ab0e9d314abb15f62603...</td>\n      <td>f24c996d4123138fbe5d2ac482dcf3ccefe6ddb30de3fe...</td>\n      <td>f2815ab120cebd48c350806543d9567766ae95ea3a589c...</td>\n      <td>d9643ac39bb7f323ca6feece4633aeec1e045cd574fa95...</td>\n      <td>349743ef571518d2b9885eb88626e2488e21536da235dd...</td>\n      <td>1c68c19a80263399d946e6a6ba7e354c7ca7a1571f7833...</td>\n      <td>cf454808981a05a149d6dfd09b80924627e29945d2aa7e...</td>\n      <td>1c01b5a5a10ad6f01e189c9720856ab89dc2c268dc6741...</td>\n    </tr>\n    <tr>\n      <th>2</th>\n      <td>6381971c002097a94b8d7a03d9dc3e9ff7872a52c4764a...</td>\n      <td>f24c996d4123138fbe5d2ac482dcf3ccefe6ddb30de3fe...</td>\n      <td>f2815ab120cebd48c350806543d9567766ae95ea3a589c...</td>\n      <td>d9643ac39bb7f323ca6feece4633aeec1e045cd574fa95...</td>\n      <td>349743ef571518d2b9885eb88626e2488e21536da235dd...</td>\n      <td>1c68c19a80263399d946e6a6ba7e354c7ca7a1571f7833...</td>\n      <td>cf454808981a05a149d6dfd09b80924627e29945d2aa7e...</td>\n      <td>1c01b5a5a10ad6f01e189c9720856ab89dc2c268dc6741...</td>\n    </tr>\n    <tr>\n      <th>3</th>\n      <td>250d49b476af0c7d2b23dd39cbb6edff39d44c64f8ebc0...</td>\n      <td>f24c996d4123138fbe5d2ac482dcf3ccefe6ddb30de3fe...</td>\n      <td>f2815ab120cebd48c350806543d9567766ae95ea3a589c...</td>\n      <td>d9643ac39bb7f323ca6feece4633aeec1e045cd574fa95...</td>\n      <td>349743ef571518d2b9885eb88626e2488e21536da235dd...</td>\n      <td>1c68c19a80263399d946e6a6ba7e354c7ca7a1571f7833...</td>\n      <td>cf454808981a05a149d6dfd09b80924627e29945d2aa7e...</td>\n      <td>1c01b5a5a10ad6f01e189c9720856ab89dc2c268dc6741...</td>\n    </tr>\n    <tr>\n      <th>4</th>\n      <td>2da339a6bfe7791329ca8eb0a11544d4a9fb4c89572716...</td>\n      <td>f24c996d4123138fbe5d2ac482dcf3ccefe6ddb30de3fe...</td>\n      <td>f2815ab120cebd48c350806543d9567766ae95ea3a589c...</td>\n      <td>d9643ac39bb7f323ca6feece4633aeec1e045cd574fa95...</td>\n      <td>349743ef571518d2b9885eb88626e2488e21536da235dd...</td>\n      <td>1c68c19a80263399d946e6a6ba7e354c7ca7a1571f7833...</td>\n      <td>cf454808981a05a149d6dfd09b80924627e29945d2aa7e...</td>\n      <td>1c01b5a5a10ad6f01e189c9720856ab89dc2c268dc6741...</td>\n    </tr>\n    <tr>\n      <th>...</th>\n      <td>...</td>\n      <td>...</td>\n      <td>...</td>\n      <td>...</td>\n      <td>...</td>\n      <td>...</td>\n      <td>...</td>\n      <td>...</td>\n    </tr>\n    <tr>\n      <th>69041</th>\n      <td>606d6caf18a6209acaa46a1a0233a4bf22bc9885d70397...</td>\n      <td>f24c996d4123138fbe5d2ac482dcf3ccefe6ddb30de3fe...</td>\n      <td>f2815ab120cebd48c350806543d9567766ae95ea3a589c...</td>\n      <td>d9643ac39bb7f323ca6feece4633aeec1e045cd574fa95...</td>\n      <td>349743ef571518d2b9885eb88626e2488e21536da235dd...</td>\n      <td>1c68c19a80263399d946e6a6ba7e354c7ca7a1571f7833...</td>\n      <td>cf454808981a05a149d6dfd09b80924627e29945d2aa7e...</td>\n      <td>1c01b5a5a10ad6f01e189c9720856ab89dc2c268dc6741...</td>\n    </tr>\n    <tr>\n      <th>69042</th>\n      <td>a71392c55f8bace9bd108a1acbf9c2335d700fb041966b...</td>\n      <td>f24c996d4123138fbe5d2ac482dcf3ccefe6ddb30de3fe...</td>\n      <td>f2815ab120cebd48c350806543d9567766ae95ea3a589c...</td>\n      <td>d9643ac39bb7f323ca6feece4633aeec1e045cd574fa95...</td>\n      <td>349743ef571518d2b9885eb88626e2488e21536da235dd...</td>\n      <td>1c68c19a80263399d946e6a6ba7e354c7ca7a1571f7833...</td>\n      <td>cf454808981a05a149d6dfd09b80924627e29945d2aa7e...</td>\n      <td>1c01b5a5a10ad6f01e189c9720856ab89dc2c268dc6741...</td>\n    </tr>\n    <tr>\n      <th>69043</th>\n      <td>7b6d03389208df699aa116563dc5c45cbf5c725b47b415...</td>\n      <td>f24c996d4123138fbe5d2ac482dcf3ccefe6ddb30de3fe...</td>\n      <td>f2815ab120cebd48c350806543d9567766ae95ea3a589c...</td>\n      <td>d9643ac39bb7f323ca6feece4633aeec1e045cd574fa95...</td>\n      <td>349743ef571518d2b9885eb88626e2488e21536da235dd...</td>\n      <td>1c68c19a80263399d946e6a6ba7e354c7ca7a1571f7833...</td>\n      <td>cf454808981a05a149d6dfd09b80924627e29945d2aa7e...</td>\n      <td>1c01b5a5a10ad6f01e189c9720856ab89dc2c268dc6741...</td>\n    </tr>\n    <tr>\n      <th>69044</th>\n      <td>8d1c564ba9f96dafb0a856fbc65fc4f9fc020863fe3b3f...</td>\n      <td>f24c996d4123138fbe5d2ac482dcf3ccefe6ddb30de3fe...</td>\n      <td>f2815ab120cebd48c350806543d9567766ae95ea3a589c...</td>\n      <td>d9643ac39bb7f323ca6feece4633aeec1e045cd574fa95...</td>\n      <td>349743ef571518d2b9885eb88626e2488e21536da235dd...</td>\n      <td>1c68c19a80263399d946e6a6ba7e354c7ca7a1571f7833...</td>\n      <td>cf454808981a05a149d6dfd09b80924627e29945d2aa7e...</td>\n      <td>1c01b5a5a10ad6f01e189c9720856ab89dc2c268dc6741...</td>\n    </tr>\n    <tr>\n      <th>69045</th>\n      <td>f57918286b0047d2884e72631b65b4c7f13f5ffc697743...</td>\n      <td>f24c996d4123138fbe5d2ac482dcf3ccefe6ddb30de3fe...</td>\n      <td>f2815ab120cebd48c350806543d9567766ae95ea3a589c...</td>\n      <td>d9643ac39bb7f323ca6feece4633aeec1e045cd574fa95...</td>\n      <td>349743ef571518d2b9885eb88626e2488e21536da235dd...</td>\n      <td>1c68c19a80263399d946e6a6ba7e354c7ca7a1571f7833...</td>\n      <td>cf454808981a05a149d6dfd09b80924627e29945d2aa7e...</td>\n      <td>1c01b5a5a10ad6f01e189c9720856ab89dc2c268dc6741...</td>\n    </tr>\n  </tbody>\n</table>\n<p>69046 rows × 8 columns</p>\n</div>"
     },
     "execution_count": 73,
     "metadata": {},
     "output_type": "execute_result"
    }
   ],
   "source": [
    "pd.read_csv(\"sample_submission/sample_submission_7.csv\")"
   ],
   "metadata": {
    "collapsed": false,
    "pycharm": {
     "name": "#%%\n"
    }
   }
  },
  {
   "cell_type": "code",
   "execution_count": null,
   "outputs": [],
   "source": [],
   "metadata": {
    "collapsed": false,
    "pycharm": {
     "name": "#%%\n"
    }
   }
  },
  {
   "cell_type": "code",
   "execution_count": 40,
   "metadata": {},
   "outputs": [
    {
     "data": {
      "text/plain": "[31455, 85540, 7173, 125379, 28914, 23602, 9184]"
     },
     "execution_count": 40,
     "metadata": {},
     "output_type": "execute_result"
    }
   ],
   "source": [
    "recs = cr.recommend(customer_id, data_full[dftest_new.values.squeeze()].astype(float))\n",
    "customer_recomms = [i for i in recs[0]][:7]\n",
    "customer_recomms"
   ]
  },
  {
   "cell_type": "markdown",
   "metadata": {},
   "source": [
    "## Что еще можно было попробовать:\n",
    "\n",
    "* Ещё один способ - Матричная факторизация (SVD)\n",
    "\n",
    "\n",
    "* Другие метрики близости\n",
    "  * Косинусное расстояние\n",
    "  * Коэффициент корреляции Пирсона\n",
    "  * Манхэттенское расстояние\n",
    "  * Евклидово расстояние\n",
    "  * Коэффициент Жаккара\n",
    "\n",
    "  \n",
    "* Совершенно точно - подбор гиперпараметров - того же k (любой):\n",
    "  * GridSearchCV - подбор по сетке\n",
    "  * Optuna - байесовский алгоритм быстрого подбора гиперпараметров\n",
    "  \n",
    "\n",
    "* Объединение нескольких решений:\n",
    "  *\tВзвешенная система, в которой результаты отдельных алгоритмов объединяются с помощью взвешенной суммы;\n",
    "  *\tКаскадная система, в которой алгоритмы обрабатывают данные по цепочке, уточняя результат;\n"
   ]
  },
  {
   "cell_type": "code",
   "execution_count": null,
   "metadata": {},
   "outputs": [],
   "source": []
  }
 ],
 "metadata": {
  "kernelspec": {
   "display_name": "Python 3",
   "language": "python",
   "name": "python3"
  },
  "language_info": {
   "codemirror_mode": {
    "name": "ipython",
    "version": 3
   },
   "file_extension": ".py",
   "mimetype": "text/x-python",
   "name": "python",
   "nbconvert_exporter": "python",
   "pygments_lexer": "ipython3",
   "version": "3.7.3"
  }
 },
 "nbformat": 4,
 "nbformat_minor": 2
}