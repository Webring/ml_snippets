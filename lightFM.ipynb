{
 "cells": [
  {
   "cell_type": "code",
   "execution_count": 1,
   "metadata": {
    "collapsed": true
   },
   "outputs": [
    {
     "name": "stderr",
     "output_type": "stream",
     "text": [
      "C:\\Users\\iltya\\AppData\\Roaming\\Python\\Python39\\site-packages\\scipy\\__init__.py:155: UserWarning: A NumPy version >=1.18.5 and <1.25.0 is required for this version of SciPy (detected version 1.26.1\n",
      "  warnings.warn(f\"A NumPy version >={np_minversion} and <{np_maxversion}\"\n"
     ]
    },
    {
     "name": "stdout",
     "output_type": "stream",
     "text": [
      "import error: No module named 'implicit.gpu._cuda'\n"
     ]
    },
    {
     "name": "stderr",
     "output_type": "stream",
     "text": [
      "c:\\users\\iltya\\appdata\\local\\programs\\python\\python39\\lib\\site-packages\\lightfm\\_lightfm_fast.py:9: UserWarning: LightFM was compiled without OpenMP support. Only a single thread will be used.\n",
      "  warnings.warn(\n"
     ]
    }
   ],
   "source": [
    "import pandas as pd\n",
    "import numpy as np\n",
    "\n",
    "from sklearn.neighbors import NearestNeighbors\n",
    "from sklearn.preprocessing import StandardScaler\n",
    "\n",
    "from implicit.evaluation import mean_average_precision_at_k\n",
    "from scipy.sparse import csr_matrix\n",
    "from sklearn.model_selection import train_test_split\n",
    "from lightfm.cross_validation import random_train_test_split\n",
    "\n",
    "import warnings\n",
    "warnings.filterwarnings('ignore')\n",
    "from lightfm import LightFM"
   ]
  },
  {
   "cell_type": "code",
   "execution_count": 2,
   "outputs": [
    {
     "data": {
      "text/plain": "                                        community_id  \\\n0  00dbc35ec26c5b6452a3259194b2d2f74eae7141d2bc75...   \n1  06107f1eae304c45d3e6324cc86f7d39662793a53b159b...   \n2  06107f1eae304c45d3e6324cc86f7d39662793a53b159b...   \n3  06107f1eae304c45d3e6324cc86f7d39662793a53b159b...   \n4  097e4dae68029ecc3c6183ed4386aff71dcac227cbaff7...   \n\n                                         description  customers_count  \\\n0  Ванга сказала: \"Выживет пчела - выживет челове...             2966   \n1                                                NaN             8982   \n2                                                NaN             8982   \n3                                                NaN             8982   \n4  Читать внимательно!!! Причины попадания в чёрн...             1035   \n\n   messages_count  type     region_id  themeid business_category  \\\n0               1     7           NaN      NaN               NaN   \n1               2     7  1.042403e+10    246.0               NaN   \n2               2     7  1.042403e+10    246.0               NaN   \n3               2     7  1.042403e+10    246.0               NaN   \n4               1     7  1.041779e+10      NaN          FAN_CLUB   \n\n  business_parent                                        customer_id status  \\\n0             NaN  947224211267aefcc2e3e9c524fdf46ce329bc638e8bf1...      A   \n1             NaN  b935c3390d82df612de19591d2dd16e1eff8e660746bb3...      A   \n2             NaN  ff873dee9234ee290d92eb6c15d7179aabf0653dbed3b3...      A   \n3             NaN  737ef0e849feda6cdfd350d19fcedaf17aebb757c0a1fc...      A   \n4            BLOG  780fb8c178af972826ac0f84e42ac4c6c1dcdeeec0c4dd...      A   \n\n   join_request_date  \n0                NaN  \n1                NaN  \n2                NaN  \n3                NaN  \n4                NaN  ",
      "text/html": "<div>\n<style scoped>\n    .dataframe tbody tr th:only-of-type {\n        vertical-align: middle;\n    }\n\n    .dataframe tbody tr th {\n        vertical-align: top;\n    }\n\n    .dataframe thead th {\n        text-align: right;\n    }\n</style>\n<table border=\"1\" class=\"dataframe\">\n  <thead>\n    <tr style=\"text-align: right;\">\n      <th></th>\n      <th>community_id</th>\n      <th>description</th>\n      <th>customers_count</th>\n      <th>messages_count</th>\n      <th>type</th>\n      <th>region_id</th>\n      <th>themeid</th>\n      <th>business_category</th>\n      <th>business_parent</th>\n      <th>customer_id</th>\n      <th>status</th>\n      <th>join_request_date</th>\n    </tr>\n  </thead>\n  <tbody>\n    <tr>\n      <th>0</th>\n      <td>00dbc35ec26c5b6452a3259194b2d2f74eae7141d2bc75...</td>\n      <td>Ванга сказала: \"Выживет пчела - выживет челове...</td>\n      <td>2966</td>\n      <td>1</td>\n      <td>7</td>\n      <td>NaN</td>\n      <td>NaN</td>\n      <td>NaN</td>\n      <td>NaN</td>\n      <td>947224211267aefcc2e3e9c524fdf46ce329bc638e8bf1...</td>\n      <td>A</td>\n      <td>NaN</td>\n    </tr>\n    <tr>\n      <th>1</th>\n      <td>06107f1eae304c45d3e6324cc86f7d39662793a53b159b...</td>\n      <td>NaN</td>\n      <td>8982</td>\n      <td>2</td>\n      <td>7</td>\n      <td>1.042403e+10</td>\n      <td>246.0</td>\n      <td>NaN</td>\n      <td>NaN</td>\n      <td>b935c3390d82df612de19591d2dd16e1eff8e660746bb3...</td>\n      <td>A</td>\n      <td>NaN</td>\n    </tr>\n    <tr>\n      <th>2</th>\n      <td>06107f1eae304c45d3e6324cc86f7d39662793a53b159b...</td>\n      <td>NaN</td>\n      <td>8982</td>\n      <td>2</td>\n      <td>7</td>\n      <td>1.042403e+10</td>\n      <td>246.0</td>\n      <td>NaN</td>\n      <td>NaN</td>\n      <td>ff873dee9234ee290d92eb6c15d7179aabf0653dbed3b3...</td>\n      <td>A</td>\n      <td>NaN</td>\n    </tr>\n    <tr>\n      <th>3</th>\n      <td>06107f1eae304c45d3e6324cc86f7d39662793a53b159b...</td>\n      <td>NaN</td>\n      <td>8982</td>\n      <td>2</td>\n      <td>7</td>\n      <td>1.042403e+10</td>\n      <td>246.0</td>\n      <td>NaN</td>\n      <td>NaN</td>\n      <td>737ef0e849feda6cdfd350d19fcedaf17aebb757c0a1fc...</td>\n      <td>A</td>\n      <td>NaN</td>\n    </tr>\n    <tr>\n      <th>4</th>\n      <td>097e4dae68029ecc3c6183ed4386aff71dcac227cbaff7...</td>\n      <td>Читать внимательно!!! Причины попадания в чёрн...</td>\n      <td>1035</td>\n      <td>1</td>\n      <td>7</td>\n      <td>1.041779e+10</td>\n      <td>NaN</td>\n      <td>FAN_CLUB</td>\n      <td>BLOG</td>\n      <td>780fb8c178af972826ac0f84e42ac4c6c1dcdeeec0c4dd...</td>\n      <td>A</td>\n      <td>NaN</td>\n    </tr>\n  </tbody>\n</table>\n</div>"
     },
     "execution_count": 2,
     "metadata": {},
     "output_type": "execute_result"
    }
   ],
   "source": [
    "X = pd.read_csv('train_df.tsv.gz', sep = '\\t', index_col=0).drop_duplicates()\n",
    "X.head(5)"
   ],
   "metadata": {
    "collapsed": false,
    "pycharm": {
     "name": "#%%\n"
    }
   }
  },
  {
   "cell_type": "code",
   "execution_count": 3,
   "outputs": [],
   "source": [
    "# кодируем id-шники\n",
    "from sklearn.preprocessing import LabelEncoder\n",
    "\n",
    "encoder_com_id = LabelEncoder()\n",
    "encoder_com_id.fit(X.community_id)\n",
    "X[\"community_id\"] = encoder_com_id.transform(X[\"community_id\"])\n",
    "encoder_usr_id = LabelEncoder()\n",
    "encoder_usr_id.fit(X.customer_id)\n",
    "X[\"customer_id\"] = encoder_usr_id.transform(X[\"customer_id\"])"
   ],
   "metadata": {
    "collapsed": false,
    "pycharm": {
     "name": "#%%\n"
    }
   }
  },
  {
   "cell_type": "code",
   "execution_count": 3,
   "outputs": [],
   "source": [],
   "metadata": {
    "collapsed": false,
    "pycharm": {
     "name": "#%%\n"
    }
   }
  },
  {
   "cell_type": "code",
   "execution_count": 4,
   "outputs": [],
   "source": [
    "community_features = X.groupby(\"community_id\").head(1)"
   ],
   "metadata": {
    "collapsed": false,
    "pycharm": {
     "name": "#%%\n"
    }
   }
  },
  {
   "cell_type": "code",
   "execution_count": 5,
   "outputs": [
    {
     "data": {
      "text/plain": "          community_id                                        description  \\\n0                  486  Ванга сказала: \"Выживет пчела - выживет челове...   \n1                 3578                                                NaN   \n4                 5627  Читать внимательно!!! Причины попадания в чёрн...   \n5                 7358  Здесь вы сможете увидеть все спортивные новост...   \n6                12246  Все про охоту,природу и рыбалку в  Сибири и за...   \n...                ...                                                ...   \n15585934         42613  🌺\"Одна из самых больших удач в жизни человека ...   \n15587787         63961  1 сентября исполняется 35 лет Александровскому...   \n15587902         76648                                                NaN   \n15590003         81188                                                NaN   \n15590070         85885  На Земле много удивительных мест, от которых з...   \n\n          customers_count  messages_count  type     region_id  themeid  \\\n0                    2966               1     7           NaN      NaN   \n1                    8982               2     7  1.042403e+10    246.0   \n4                    1035               1     7  1.041779e+10      NaN   \n5                    6573               2     7  4.275314e+10    209.0   \n6                    3656               1     7  1.040759e+10    320.0   \n...                   ...             ...   ...           ...      ...   \n15585934              114               2     7           NaN      NaN   \n15587787              398               2     7  1.040711e+10      NaN   \n15587902              150               2     7           NaN      NaN   \n15590003              131               1     7           NaN      NaN   \n15590070               89               1     7           NaN      NaN   \n\n           business_category    business_parent  customer_id status  \\\n0                        NaN                NaN       908981      A   \n1                        NaN                NaN      1134537      A   \n4                   FAN_CLUB               BLOG       734661      A   \n5                        NaN                NaN       118010      A   \n6                        NaN                NaN      1405863      A   \n...                      ...                ...          ...    ...   \n15585934    GOS_KINDERGARTEN  GOS_ORGANIZATIONS       533361      I   \n15587787                 NaN                NaN      1500072      P   \n15587902    GOS_KINDERGARTEN  GOS_ORGANIZATIONS       292591      P   \n15590003                 NaN                NaN       215592      P   \n15590070  TRAVEL_AND_TOURISM            TOURISM      1269677      I   \n\n          join_request_date  \n0                       NaN  \n1                       NaN  \n4                       NaN  \n5                       NaN  \n6                       NaN  \n...                     ...  \n15585934                NaN  \n15587787                NaN  \n15587902                NaN  \n15590003                NaN  \n15590070                NaN  \n\n[149114 rows x 12 columns]",
      "text/html": "<div>\n<style scoped>\n    .dataframe tbody tr th:only-of-type {\n        vertical-align: middle;\n    }\n\n    .dataframe tbody tr th {\n        vertical-align: top;\n    }\n\n    .dataframe thead th {\n        text-align: right;\n    }\n</style>\n<table border=\"1\" class=\"dataframe\">\n  <thead>\n    <tr style=\"text-align: right;\">\n      <th></th>\n      <th>community_id</th>\n      <th>description</th>\n      <th>customers_count</th>\n      <th>messages_count</th>\n      <th>type</th>\n      <th>region_id</th>\n      <th>themeid</th>\n      <th>business_category</th>\n      <th>business_parent</th>\n      <th>customer_id</th>\n      <th>status</th>\n      <th>join_request_date</th>\n    </tr>\n  </thead>\n  <tbody>\n    <tr>\n      <th>0</th>\n      <td>486</td>\n      <td>Ванга сказала: \"Выживет пчела - выживет челове...</td>\n      <td>2966</td>\n      <td>1</td>\n      <td>7</td>\n      <td>NaN</td>\n      <td>NaN</td>\n      <td>NaN</td>\n      <td>NaN</td>\n      <td>908981</td>\n      <td>A</td>\n      <td>NaN</td>\n    </tr>\n    <tr>\n      <th>1</th>\n      <td>3578</td>\n      <td>NaN</td>\n      <td>8982</td>\n      <td>2</td>\n      <td>7</td>\n      <td>1.042403e+10</td>\n      <td>246.0</td>\n      <td>NaN</td>\n      <td>NaN</td>\n      <td>1134537</td>\n      <td>A</td>\n      <td>NaN</td>\n    </tr>\n    <tr>\n      <th>4</th>\n      <td>5627</td>\n      <td>Читать внимательно!!! Причины попадания в чёрн...</td>\n      <td>1035</td>\n      <td>1</td>\n      <td>7</td>\n      <td>1.041779e+10</td>\n      <td>NaN</td>\n      <td>FAN_CLUB</td>\n      <td>BLOG</td>\n      <td>734661</td>\n      <td>A</td>\n      <td>NaN</td>\n    </tr>\n    <tr>\n      <th>5</th>\n      <td>7358</td>\n      <td>Здесь вы сможете увидеть все спортивные новост...</td>\n      <td>6573</td>\n      <td>2</td>\n      <td>7</td>\n      <td>4.275314e+10</td>\n      <td>209.0</td>\n      <td>NaN</td>\n      <td>NaN</td>\n      <td>118010</td>\n      <td>A</td>\n      <td>NaN</td>\n    </tr>\n    <tr>\n      <th>6</th>\n      <td>12246</td>\n      <td>Все про охоту,природу и рыбалку в  Сибири и за...</td>\n      <td>3656</td>\n      <td>1</td>\n      <td>7</td>\n      <td>1.040759e+10</td>\n      <td>320.0</td>\n      <td>NaN</td>\n      <td>NaN</td>\n      <td>1405863</td>\n      <td>A</td>\n      <td>NaN</td>\n    </tr>\n    <tr>\n      <th>...</th>\n      <td>...</td>\n      <td>...</td>\n      <td>...</td>\n      <td>...</td>\n      <td>...</td>\n      <td>...</td>\n      <td>...</td>\n      <td>...</td>\n      <td>...</td>\n      <td>...</td>\n      <td>...</td>\n      <td>...</td>\n    </tr>\n    <tr>\n      <th>15585934</th>\n      <td>42613</td>\n      <td>🌺\"Одна из самых больших удач в жизни человека ...</td>\n      <td>114</td>\n      <td>2</td>\n      <td>7</td>\n      <td>NaN</td>\n      <td>NaN</td>\n      <td>GOS_KINDERGARTEN</td>\n      <td>GOS_ORGANIZATIONS</td>\n      <td>533361</td>\n      <td>I</td>\n      <td>NaN</td>\n    </tr>\n    <tr>\n      <th>15587787</th>\n      <td>63961</td>\n      <td>1 сентября исполняется 35 лет Александровскому...</td>\n      <td>398</td>\n      <td>2</td>\n      <td>7</td>\n      <td>1.040711e+10</td>\n      <td>NaN</td>\n      <td>NaN</td>\n      <td>NaN</td>\n      <td>1500072</td>\n      <td>P</td>\n      <td>NaN</td>\n    </tr>\n    <tr>\n      <th>15587902</th>\n      <td>76648</td>\n      <td>NaN</td>\n      <td>150</td>\n      <td>2</td>\n      <td>7</td>\n      <td>NaN</td>\n      <td>NaN</td>\n      <td>GOS_KINDERGARTEN</td>\n      <td>GOS_ORGANIZATIONS</td>\n      <td>292591</td>\n      <td>P</td>\n      <td>NaN</td>\n    </tr>\n    <tr>\n      <th>15590003</th>\n      <td>81188</td>\n      <td>NaN</td>\n      <td>131</td>\n      <td>1</td>\n      <td>7</td>\n      <td>NaN</td>\n      <td>NaN</td>\n      <td>NaN</td>\n      <td>NaN</td>\n      <td>215592</td>\n      <td>P</td>\n      <td>NaN</td>\n    </tr>\n    <tr>\n      <th>15590070</th>\n      <td>85885</td>\n      <td>На Земле много удивительных мест, от которых з...</td>\n      <td>89</td>\n      <td>1</td>\n      <td>7</td>\n      <td>NaN</td>\n      <td>NaN</td>\n      <td>TRAVEL_AND_TOURISM</td>\n      <td>TOURISM</td>\n      <td>1269677</td>\n      <td>I</td>\n      <td>NaN</td>\n    </tr>\n  </tbody>\n</table>\n<p>149114 rows × 12 columns</p>\n</div>"
     },
     "execution_count": 5,
     "metadata": {},
     "output_type": "execute_result"
    }
   ],
   "source": [
    "community_features"
   ],
   "metadata": {
    "collapsed": false,
    "pycharm": {
     "name": "#%%\n"
    }
   }
  },
  {
   "cell_type": "code",
   "execution_count": 6,
   "outputs": [],
   "source": [
    "from sklearn.feature_extraction.text import TfidfVectorizer\n",
    "from sklearn.preprocessing import OneHotEncoder"
   ],
   "metadata": {
    "collapsed": false,
    "pycharm": {
     "name": "#%%\n"
    }
   }
  },
  {
   "cell_type": "code",
   "execution_count": 7,
   "outputs": [],
   "source": [
    "vec = TfidfVectorizer(max_features=300)\n",
    "tfidf_res = vec.fit_transform(community_features.description.fillna(\"\"))"
   ],
   "metadata": {
    "collapsed": false,
    "pycharm": {
     "name": "#%%\n"
    }
   }
  },
  {
   "cell_type": "code",
   "execution_count": 8,
   "outputs": [
    {
     "name": "stdout",
     "output_type": "stream",
     "text": [
      "ersult encoding shape: (149114, 122)\n",
      "ersult encoding shape: (149114, 21)\n",
      "ersult encoding shape: (149114, 156)\n",
      "ersult encoding shape: (149114, 159)\n",
      "ersult encoding shape: (149114, 2)\n",
      "ersult encoding shape: (149114, 5)\n"
     ]
    }
   ],
   "source": [
    "columns_to_encode = [\"business_category\", \"business_parent\", \"themeid\", \"region_id\", \"type\", \"status\"]\n",
    "results_encoding = [tfidf_res]\n",
    "\n",
    "for column_for_encoding in columns_to_encode:\n",
    "    encoder = OneHotEncoder(min_frequency=50)\n",
    "    nan_value_replacer = \"unkonown\" if community_features[column_for_encoding].dtype == np.dtype('O') else -1\n",
    "\n",
    "    result_encoding = encoder.fit_transform(community_features[column_for_encoding].fillna(nan_value_replacer).values.reshape(-1, 1))\n",
    "    print(f\"ersult encoding shape: {result_encoding.shape}\")\n",
    "    results_encoding.append(result_encoding)"
   ],
   "metadata": {
    "collapsed": false,
    "pycharm": {
     "name": "#%%\n"
    }
   }
  },
  {
   "cell_type": "code",
   "execution_count": 9,
   "outputs": [],
   "source": [
    "results_encoding.append(community_features[[\"customers_count\", \"messages_count\"]].values)"
   ],
   "metadata": {
    "collapsed": false,
    "pycharm": {
     "name": "#%%\n"
    }
   }
  },
  {
   "cell_type": "code",
   "execution_count": 10,
   "outputs": [
    {
     "data": {
      "text/plain": "(149114, 767)"
     },
     "execution_count": 10,
     "metadata": {},
     "output_type": "execute_result"
    }
   ],
   "source": [
    "import scipy\n",
    "all_features = scipy.sparse.hstack(results_encoding)\n",
    "all_features.shape"
   ],
   "metadata": {
    "collapsed": false,
    "pycharm": {
     "name": "#%%\n"
    }
   }
  },
  {
   "cell_type": "code",
   "execution_count": 10,
   "outputs": [],
   "source": [],
   "metadata": {
    "collapsed": false,
    "pycharm": {
     "name": "#%%\n"
    }
   }
  },
  {
   "cell_type": "code",
   "execution_count": 11,
   "outputs": [],
   "source": [
    "df_reduced = X[['community_id', 'customer_id']].drop_duplicates()"
   ],
   "metadata": {
    "collapsed": false,
    "pycharm": {
     "name": "#%%\n"
    }
   }
  },
  {
   "cell_type": "code",
   "execution_count": 12,
   "outputs": [],
   "source": [
    "data_full = csr_matrix((np.ones((df_reduced.shape[0],)).astype(float),\n",
    "                        (df_reduced['customer_id'].values,\n",
    "                         df_reduced['community_id'].values)))"
   ],
   "metadata": {
    "collapsed": false,
    "pycharm": {
     "name": "#%%\n"
    }
   }
  },
  {
   "cell_type": "code",
   "execution_count": 13,
   "outputs": [],
   "source": [
    "from lightfm import  LightFM\n",
    "model = LightFM(loss='warp', random_state=42)"
   ],
   "metadata": {
    "collapsed": false,
    "pycharm": {
     "name": "#%%\n"
    }
   }
  },
  {
   "cell_type": "code",
   "execution_count": null,
   "outputs": [],
   "source": [
    "model.fit(data_full, epochs=3, verbose=True, num_threads=1)"
   ],
   "metadata": {
    "collapsed": false,
    "pycharm": {
     "name": "#%%\n",
     "is_executing": true
    }
   }
  },
  {
   "cell_type": "code",
   "execution_count": 2,
   "outputs": [
    {
     "ename": "NameError",
     "evalue": "name 'data_full' is not defined",
     "output_type": "error",
     "traceback": [
      "\u001B[1;31m---------------------------------------------------------------------------\u001B[0m",
      "\u001B[1;31mNameError\u001B[0m                                 Traceback (most recent call last)",
      "\u001B[1;32mC:\\Users\\843E~1\\AppData\\Local\\Temp/ipykernel_5240/1109069113.py\u001B[0m in \u001B[0;36m<module>\u001B[1;34m\u001B[0m\n\u001B[1;32m----> 1\u001B[1;33m \u001B[0mdata_full\u001B[0m\u001B[1;33m\u001B[0m\u001B[1;33m\u001B[0m\u001B[0m\n\u001B[0m",
      "\u001B[1;31mNameError\u001B[0m: name 'data_full' is not defined"
     ]
    }
   ],
   "source": [
    "data_full"
   ],
   "metadata": {
    "collapsed": false,
    "pycharm": {
     "name": "#%%\n"
    }
   }
  },
  {
   "cell_type": "code",
   "execution_count": null,
   "outputs": [],
   "source": [],
   "metadata": {
    "collapsed": false,
    "pycharm": {
     "name": "#%%\n"
    }
   }
  }
 ],
 "metadata": {
  "kernelspec": {
   "display_name": "Python 3",
   "language": "python",
   "name": "python3"
  },
  "language_info": {
   "codemirror_mode": {
    "name": "ipython",
    "version": 2
   },
   "file_extension": ".py",
   "mimetype": "text/x-python",
   "name": "python",
   "nbconvert_exporter": "python",
   "pygments_lexer": "ipython2",
   "version": "2.7.6"
  }
 },
 "nbformat": 4,
 "nbformat_minor": 0
}